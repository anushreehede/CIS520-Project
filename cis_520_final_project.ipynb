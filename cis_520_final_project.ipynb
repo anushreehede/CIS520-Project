{
  "nbformat": 4,
  "nbformat_minor": 0,
  "metadata": {
    "colab": {
      "name": "cis-520-final-project.ipynb",
      "provenance": []
    },
    "kernelspec": {
      "name": "python3",
      "display_name": "Python 3"
    }
  },
  "cells": [
    {
      "cell_type": "markdown",
      "metadata": {
        "id": "y8WHRrJZjvbr",
        "colab_type": "text"
      },
      "source": [
        "#### CIS 520\n",
        "\n",
        "## Predicting Success of Kickstarter Projects\n",
        "\n",
        "This notebook presents a brief walkthrough of the varioius aspects of the machine learning task to predict the success of projects on the crowdfunding platform Kickstarter. "
      ]
    },
    {
      "cell_type": "markdown",
      "metadata": {
        "id": "XyatUTk0tgk8",
        "colab_type": "text"
      },
      "source": [
        "### Overview of the dataset and feature engineering \n",
        "\n",
        "* The data was obtained from [here](https://https://www.kaggle.com/kemical/kickstarter-projects) and [here](https://https://webrobots.io/kickstarter-datasets/), and was merged on the project ID to get a large number of features.  \n",
        "* From all obtained features, rigorous manual feature selection was done to retain only the features that *could possibly* be dependent on the success of the project, and are known to the project team before launching their project on Kickstarter. We get a set of 26 features at this stage.     \n",
        "* The correlation between features were computed and feature importances were determined separately for classification and regression, to further prune correlated and unimportant features.\n",
        "* Various scaling methods were used appropriately on the features.  \n",
        "*  To avoid fitting a regression for the projects that barely receive a fraction of their goal amounts, our dataset was modified to only use points in which the project has reached at least 50% of its funding goal. This ensured better performance as the regression model was not forced to fit near zero valued predictions.     \n",
        "* The final dataset contained 69210 examples and 19  features for classification, and 45641 and 20 features for regression. It can be found [here](https://https://www.dropbox.com/sh/zzsjziljp7qz9fq/AABqGrO6WUwyFjbzIDnO3hdCa).  "
      ]
    },
    {
      "cell_type": "markdown",
      "metadata": {
        "id": "5NVfXGBKqEqS",
        "colab_type": "text"
      },
      "source": [
        "#### Data distributions\n",
        "\n",
        "The following set of pie charts depict the distribution of some of categorical features in the dataset.  \n",
        "![alt text](https://i.imgur.com/O5eXQ7e.png)\n",
        "\n",
        "Some insights: \n",
        "* 64% of the projects are successful. \n",
        "* The most popular country for Kickstarter is the US.\n",
        "* Most project creators prefer not to launch their projects on weekends\n",
        "\n",
        "The following set of bar graphs depict the distribution of some of the continuous features in the dataset. \n",
        "![alt text](https://i.imgur.com/NaaKCtj.png)\n",
        "\n",
        "Some insights: \n",
        "* The  distribution  of  amounts  raised  by  the  failed  projects  is  very different  from  the  distribution  of  successful  projects"
      ]
    },
    {
      "cell_type": "markdown",
      "metadata": {
        "id": "Yp_upqDRr83_",
        "colab_type": "text"
      },
      "source": [
        "#### Feature selection\n",
        "\n",
        "We set the threshold to determining if a feature is correlated to another by setting the Pearson Correlation Coefficient threshold to 0.9. \n",
        "\n",
        "![alt text](https://i.imgur.com/438l7HT.png)\n",
        "\n",
        "The figure above shows the correlations between all the features in our dataset.  The negative values\n",
        "indicate  features  which  are  negatively  correlated, such as the average sentence length, the number of sentences in the blurb, daysine and yesweekend. \n",
        "\n",
        "We also use a wrapper-based approach to further select features. We use LightGBM classifier and regressor to obtain feature importances for classification and regression, as plotted below.  \n",
        "\n",
        "**Classification**\n",
        "![Classification](https://i.imgur.com/Q9jiLNN.png)\n",
        "**Regression**\n",
        "![Regression](https://i.imgur.com/UIiQFzA.png)\n",
        "\n",
        "* Out of the 26 features, only 19 are required for attaining 95% of the total feature importance for the classification task. \n",
        "\n",
        "![alt text](https://i.imgur.com/YShdDYI.png)\n",
        "\n",
        "* Based on the plots above: To avoid fitting a regression for the projects that barely receive a fraction of their goal amounts, our dataset was modified to only use points in which the project has reached at least 50% of its funding goal, reducing the dataset size from 69210 to 45641.\n",
        "* Out of the 26 features, only 20 are required for attaining 95% of the total feature importance for the regression task.     "
      ]
    },
    {
      "cell_type": "markdown",
      "metadata": {
        "id": "9tOZ4hQMxDE_",
        "colab_type": "text"
      },
      "source": [
        "### Hyperparameter tuning, training and testing\n",
        "\n",
        "![alt text](https://i.imgur.com/VkaxnPI.png)\n",
        "\n",
        "![alt text](https://i.imgur.com/7xKEe3v.png)\n",
        "\n",
        "In this notebook, we will walk through one classification and one regression model - **Gradient Boosting** and obtain their performance metrics. "
      ]
    },
    {
      "cell_type": "code",
      "metadata": {
        "id": "8_yKyLii79QG",
        "colab_type": "code",
        "colab": {}
      },
      "source": [
        "# Imports \n",
        "\n",
        "import pandas as pd\n",
        "from sklearn.preprocessing import OneHotEncoder, normalize, scale\n",
        "from sklearn.feature_selection import *\n",
        "import numpy as np\n",
        "import calendar\n",
        "import re\n",
        "from nltk.tokenize import word_tokenize , sent_tokenize\n",
        "from sklearn.model_selection import train_test_split, GridSearchCV\n",
        "from sklearn.metrics import *\n",
        "import matplotlib.pyplot as plt\n",
        "import time\n",
        "from sklearn.model_selection import learning_curve\n",
        "from sklearn.dummy import DummyClassifier\n",
        "import sys\n",
        "\n",
        "from sklearn.preprocessing import StandardScaler\n",
        "from sklearn.linear_model import Ridge, ElasticNet, Lasso, LogisticRegression\n",
        "from sklearn.decomposition import PCA\n",
        "from sklearn.neural_network import MLPRegressor, MLPClassifier\n",
        "from sklearn.ensemble import GradientBoostingClassifier, GradientBoostingRegressor, AdaBoostRegressor, AdaBoostClassifier, RandomForestClassifier\n",
        "from sklearn.neighbors import KNeighborsClassifier\n",
        "from sklearn.tree import DecisionTreeClassifier\n",
        "from sklearn.svm import SVC"
      ],
      "execution_count": 0,
      "outputs": []
    },
    {
      "cell_type": "code",
      "metadata": {
        "id": "Ge4lR60QBApX",
        "colab_type": "code",
        "colab": {
          "base_uri": "https://localhost:8080/",
          "height": 709
        },
        "outputId": "9a77fcd3-7b7e-4a5c-f477-93dd00365aba"
      },
      "source": [
        "# Downloading data\n",
        "!wget https://www.dropbox.com/sh/zzsjziljp7qz9fq/AAAx-2P_uNIJhDqhFFSCn-Wna/fresh_train_206_5.csv\n",
        "!wget https://www.dropbox.com/sh/zzsjziljp7qz9fq/AABdxLbVrBc2-X5_8ik-oJMza/fresh_test_206_5.csv"
      ],
      "execution_count": 27,
      "outputs": [
        {
          "output_type": "stream",
          "text": [
            "--2019-12-11 03:59:06--  https://www.dropbox.com/sh/zzsjziljp7qz9fq/AAAx-2P_uNIJhDqhFFSCn-Wna/fresh_train_206_5.csv\n",
            "Resolving www.dropbox.com (www.dropbox.com)... 162.125.65.1, 2620:100:6021:1::a27d:4101\n",
            "Connecting to www.dropbox.com (www.dropbox.com)|162.125.65.1|:443... connected.\n",
            "HTTP request sent, awaiting response... 301 Moved Permanently\n",
            "Location: /sh/raw/zzsjziljp7qz9fq/AAAx-2P_uNIJhDqhFFSCn-Wna/fresh_train_206_5.csv [following]\n",
            "--2019-12-11 03:59:08--  https://www.dropbox.com/sh/raw/zzsjziljp7qz9fq/AAAx-2P_uNIJhDqhFFSCn-Wna/fresh_train_206_5.csv\n",
            "Reusing existing connection to www.dropbox.com:443.\n",
            "HTTP request sent, awaiting response... 302 Found\n",
            "Location: https://ucc63f80abb0d9fc1c650214187e.dl.dropboxusercontent.com/cd/0/inline/AuBCgKCnTgJdrHufTy7z0sVBHqX1dUZLUwUnSqxmnhmBTljG0biCoBhNmofy8qNx2Uv6W6Mp9_uYSUsd9nrYTIyT6elAWpJltzXjHLFEVXgwFUCxMTz1g1totZB2l1nqzkM/file# [following]\n",
            "--2019-12-11 03:59:08--  https://ucc63f80abb0d9fc1c650214187e.dl.dropboxusercontent.com/cd/0/inline/AuBCgKCnTgJdrHufTy7z0sVBHqX1dUZLUwUnSqxmnhmBTljG0biCoBhNmofy8qNx2Uv6W6Mp9_uYSUsd9nrYTIyT6elAWpJltzXjHLFEVXgwFUCxMTz1g1totZB2l1nqzkM/file\n",
            "Resolving ucc63f80abb0d9fc1c650214187e.dl.dropboxusercontent.com (ucc63f80abb0d9fc1c650214187e.dl.dropboxusercontent.com)... 162.125.65.6, 2620:100:6021:6::a27d:4106\n",
            "Connecting to ucc63f80abb0d9fc1c650214187e.dl.dropboxusercontent.com (ucc63f80abb0d9fc1c650214187e.dl.dropboxusercontent.com)|162.125.65.6|:443... connected.\n",
            "HTTP request sent, awaiting response... 200 OK\n",
            "Length: 12357676 (12M) [text/plain]\n",
            "Saving to: ‘fresh_train_206_5.csv.1’\n",
            "\n",
            "fresh_train_206_5.c 100%[===================>]  11.79M   650KB/s    in 19s     \n",
            "\n",
            "2019-12-11 03:59:28 (629 KB/s) - ‘fresh_train_206_5.csv.1’ saved [12357676/12357676]\n",
            "\n",
            "--2019-12-11 03:59:29--  https://www.dropbox.com/sh/zzsjziljp7qz9fq/AABdxLbVrBc2-X5_8ik-oJMza/fresh_test_206_5.csv\n",
            "Resolving www.dropbox.com (www.dropbox.com)... 162.125.65.1, 2620:100:6021:1::a27d:4101\n",
            "Connecting to www.dropbox.com (www.dropbox.com)|162.125.65.1|:443... connected.\n",
            "HTTP request sent, awaiting response... 301 Moved Permanently\n",
            "Location: /sh/raw/zzsjziljp7qz9fq/AABdxLbVrBc2-X5_8ik-oJMza/fresh_test_206_5.csv [following]\n",
            "--2019-12-11 03:59:30--  https://www.dropbox.com/sh/raw/zzsjziljp7qz9fq/AABdxLbVrBc2-X5_8ik-oJMza/fresh_test_206_5.csv\n",
            "Reusing existing connection to www.dropbox.com:443.\n",
            "HTTP request sent, awaiting response... 302 Found\n",
            "Location: https://uc227abbd53260be0774482b2918.dl.dropboxusercontent.com/cd/0/inline/AuA6k91yMIgqDSsolAClGG4zCgGx1zvqOnWbg-Z_DaJsAL3K9rT6YJA8g2izR4HE1cVFwvX6i0H7BtHGAdGmGSeXBZnny8PkollHX4N5OVxZwVlTOTqD15yxI9I9rf2qfcU/file# [following]\n",
            "--2019-12-11 03:59:30--  https://uc227abbd53260be0774482b2918.dl.dropboxusercontent.com/cd/0/inline/AuA6k91yMIgqDSsolAClGG4zCgGx1zvqOnWbg-Z_DaJsAL3K9rT6YJA8g2izR4HE1cVFwvX6i0H7BtHGAdGmGSeXBZnny8PkollHX4N5OVxZwVlTOTqD15yxI9I9rf2qfcU/file\n",
            "Resolving uc227abbd53260be0774482b2918.dl.dropboxusercontent.com (uc227abbd53260be0774482b2918.dl.dropboxusercontent.com)... 162.125.65.6, 2620:100:6021:6::a27d:4106\n",
            "Connecting to uc227abbd53260be0774482b2918.dl.dropboxusercontent.com (uc227abbd53260be0774482b2918.dl.dropboxusercontent.com)|162.125.65.6|:443... connected.\n",
            "HTTP request sent, awaiting response... 200 OK\n",
            "Length: 3090810 (2.9M) [text/plain]\n",
            "Saving to: ‘fresh_test_206_5.csv.1’\n",
            "\n",
            "fresh_test_206_5.cs 100%[===================>]   2.95M  4.83MB/s    in 0.6s    \n",
            "\n",
            "2019-12-11 03:59:31 (4.83 MB/s) - ‘fresh_test_206_5.csv.1’ saved [3090810/3090810]\n",
            "\n"
          ],
          "name": "stdout"
        }
      ]
    },
    {
      "cell_type": "code",
      "metadata": {
        "id": "4SQtXDDO8C4x",
        "colab_type": "code",
        "colab": {}
      },
      "source": [
        "# Loading data\n",
        "df_train = pd.read_csv(\"fresh_train_206_5.csv\",engine='python',error_bad_lines=False)\n",
        "df_test = pd.read_csv(\"fresh_test_206_5.csv\",engine='python',error_bad_lines=False)"
      ],
      "execution_count": 0,
      "outputs": []
    },
    {
      "cell_type": "code",
      "metadata": {
        "id": "j8eykKFZ8WbU",
        "colab_type": "code",
        "colab": {}
      },
      "source": [
        "# Dataset for classification\n",
        "classificationTrain_X = df_train.drop(['state','usd_pledged_real','blurbSpellingErrors'],axis=1)\n",
        "classificationTrain_y = df_train['state']\n",
        "classificationTest_X = df_test.drop(['state','usd_pledged_real','blurbSpellingErrors'],axis=1)\n",
        "classificationTest_y = df_test['state']"
      ],
      "execution_count": 0,
      "outputs": []
    },
    {
      "cell_type": "code",
      "metadata": {
        "id": "xn6A9c1S9gWx",
        "colab_type": "code",
        "colab": {}
      },
      "source": [
        "# Dataset for regression\n",
        "regression_train_X_2 = df_train[np.divide(np.exp(df_train.usd_pledged_real-1),np.exp(df_train.usd_goal_real-1))>=0.5]\n",
        "regression_train_X_2 = regression_train_X_2.drop(['state','usd_pledged_real'],axis=1)\n",
        "regression_train_y_2 = df_train[np.divide(np.exp(df_train.usd_pledged_real-1),np.exp(df_train.usd_goal_real-1))>=0.5]['usd_pledged_real']\n",
        "\n",
        "regression_test_X_2 = df_test[np.divide(np.exp(df_test.usd_pledged_real-1),np.exp(df_test.usd_goal_real-1))>=0.5]\n",
        "regression_test_X_2 = regression_test_X_2.drop(['state','usd_pledged_real'],axis=1)\n",
        "regression_test_y_2 = df_test[np.divide(np.exp(df_test.usd_pledged_real-1),np.exp(df_test.usd_goal_real-1))>=0.5]['usd_pledged_real']"
      ],
      "execution_count": 0,
      "outputs": []
    },
    {
      "cell_type": "code",
      "metadata": {
        "id": "mWHPieuU9Pw1",
        "colab_type": "code",
        "colab": {}
      },
      "source": [
        "# Standard scale the data for regression\n",
        "scaler = StandardScaler()\n",
        "train_regression_set_scaled = scaler.fit_transform(regression_train_X_2)\n",
        "train_regression_target_scaled = scaler.fit_transform(regression_train_y_2.values.reshape(-1,1))\n",
        "test_regression_set_scaled = scaler.fit_transform(regression_test_X_2)\n",
        "test_regression_target_scaled = scaler.fit_transform(regression_test_y_2.values.reshape(-1,1))"
      ],
      "execution_count": 0,
      "outputs": []
    },
    {
      "cell_type": "markdown",
      "metadata": {
        "id": "VSqPKyeSzJcX",
        "colab_type": "text"
      },
      "source": [
        "#### Hyperparameter tuning for Gradient Boosting Classification\n",
        "\n",
        "Takes a long time to run. Uncomment to rerun. "
      ]
    },
    {
      "cell_type": "code",
      "metadata": {
        "id": "wq82JR3f9H31",
        "colab_type": "code",
        "colab": {}
      },
      "source": [
        "# hyperparameters_gradientboost_c = {\n",
        "#         'n_estimators' : [1500,2500],\n",
        "#         'learning_rate' : [0.05,0.1,1],\n",
        "#         'loss' : ['deviance', 'exponential']\n",
        "# }\n",
        "# grad_class = GradientBoostingClassifier()\n",
        "# clf5 = GridSearchCV(grad_class, hyperparameters_gradientboost_c, scoring=None, n_jobs=-1, iid='deprecated',\n",
        "#              refit=True, cv=5, verbose=20, pre_dispatch='2*n_jobs', return_train_score=False)\n",
        "# clf5.fit(classificationTrain_X,classificationTrain_y)\n",
        "# clf5.best_params_"
      ],
      "execution_count": 0,
      "outputs": []
    },
    {
      "cell_type": "markdown",
      "metadata": {
        "id": "eHJ_5ZnWzkZM",
        "colab_type": "text"
      },
      "source": [
        "#### Training for Gradient Boosting Classification\n",
        "\n",
        "![alt text](https://i.imgur.com/7CHAgAG.png)"
      ]
    },
    {
      "cell_type": "code",
      "metadata": {
        "id": "g-7Hn4tgzj5a",
        "colab_type": "code",
        "colab": {
          "base_uri": "https://localhost:8080/",
          "height": 185
        },
        "outputId": "baecef38-a3a3-4d99-d70b-93c815cb2551"
      },
      "source": [
        "# Train the classification\n",
        "params_gradientboosting_classifier = {\n",
        "    'learning_rate' : 0.05,\n",
        "    'n_estimators' : 2500,\n",
        "    'loss' : 'exponential'\n",
        "}\n",
        "\n",
        "grad_class = GradientBoostingClassifier(**params_gradientboosting_classifier)\n",
        "grad_class.fit(classificationTrain_X,classificationTrain_y)"
      ],
      "execution_count": 7,
      "outputs": [
        {
          "output_type": "execute_result",
          "data": {
            "text/plain": [
              "GradientBoostingClassifier(criterion='friedman_mse', init=None,\n",
              "                           learning_rate=0.05, loss='exponential', max_depth=3,\n",
              "                           max_features=None, max_leaf_nodes=None,\n",
              "                           min_impurity_decrease=0.0, min_impurity_split=None,\n",
              "                           min_samples_leaf=1, min_samples_split=2,\n",
              "                           min_weight_fraction_leaf=0.0, n_estimators=2500,\n",
              "                           n_iter_no_change=None, presort='auto',\n",
              "                           random_state=None, subsample=1.0, tol=0.0001,\n",
              "                           validation_fraction=0.1, verbose=0,\n",
              "                           warm_start=False)"
            ]
          },
          "metadata": {
            "tags": []
          },
          "execution_count": 7
        }
      ]
    },
    {
      "cell_type": "markdown",
      "metadata": {
        "id": "v_hA-Kb9zqXh",
        "colab_type": "text"
      },
      "source": [
        "#### Testing performance for Gradient Boosting Classification"
      ]
    },
    {
      "cell_type": "code",
      "metadata": {
        "id": "uCrmsBgm_tnv",
        "colab_type": "code",
        "colab": {}
      },
      "source": [
        "# Compute classification metrics\n",
        "def aucgenerate(test_y,y_pred):\n",
        "    print(classification_report(test_y,y_pred))\n",
        "    print('Area under ROC curve')\n",
        "    print(roc_auc_score(test_y,y_pred))"
      ],
      "execution_count": 0,
      "outputs": []
    },
    {
      "cell_type": "code",
      "metadata": {
        "id": "L8CWn_6_zj33",
        "colab_type": "code",
        "colab": {
          "base_uri": "https://localhost:8080/",
          "height": 235
        },
        "outputId": "f1c819ce-7277-4870-8c42-bc56dde1cd78"
      },
      "source": [
        "# Test the model on unseen data\n",
        "print(grad_class.score(classificationTrain_X,classificationTrain_y))\n",
        "print(grad_class.score(classificationTest_X,classificationTest_y))\n",
        "y_pred_gb = grad_class.predict(classificationTest_X)\n",
        "aucgenerate(classificationTest_y,y_pred_gb)"
      ],
      "execution_count": 9,
      "outputs": [
        {
          "output_type": "stream",
          "text": [
            "0.9063899725473198\n",
            "0.8906949862736598\n",
            "              precision    recall  f1-score   support\n",
            "\n",
            "          -1       0.88      0.79      0.84      4863\n",
            "           1       0.89      0.94      0.92      8979\n",
            "\n",
            "    accuracy                           0.89     13842\n",
            "   macro avg       0.89      0.87      0.88     13842\n",
            "weighted avg       0.89      0.89      0.89     13842\n",
            "\n",
            "Area under ROC curve\n",
            "0.8682862315173818\n"
          ],
          "name": "stdout"
        }
      ]
    },
    {
      "cell_type": "markdown",
      "metadata": {
        "colab_type": "text",
        "id": "JTifKGZ1zzUs"
      },
      "source": [
        "#### Hyperparameter tuning for Gradient Boosting Regression\n",
        "\n",
        "Takes a long time to run. Uncomment to rerun."
      ]
    },
    {
      "cell_type": "code",
      "metadata": {
        "scrolled": true,
        "id": "49hZGR4c5wmO",
        "colab_type": "code",
        "colab": {}
      },
      "source": [
        "# hyperparameters_gradientboost = {\n",
        "#         'n_estimators' : [950,1500,2000,2500,3000,5000],\n",
        "#         'learning_rate' : [0.1,0.01],\n",
        "#         'loss' : ['ls', 'lad', 'huber', 'quantile']\n",
        "# }\n",
        "# grad_reg = GradientBoostingRegressor()\n",
        "# clf3 = GridSearchCV(grad_reg, hyperparameters_gradientboost, scoring=None, n_jobs=-1, iid='deprecated',\n",
        "#              refit=True, cv=5, verbose=15, pre_dispatch='2*n_jobs', return_train_score=False)\n",
        "# clf3.fit(test_regression_set_scaled,test_regression_target_scaled)\n",
        "# clf3.best_params_"
      ],
      "execution_count": 0,
      "outputs": []
    },
    {
      "cell_type": "markdown",
      "metadata": {
        "colab_type": "text",
        "id": "0gTc9AIFzzU0"
      },
      "source": [
        "#### Training for Gradient Boosting Regression\n",
        "\n",
        "![alt text](https://i.imgur.com/IlbizMq.png)"
      ]
    },
    {
      "cell_type": "code",
      "metadata": {
        "colab_type": "code",
        "id": "xr7OMZF4zzU2",
        "colab": {
          "base_uri": "https://localhost:8080/",
          "height": 222
        },
        "outputId": "592ccf4f-1952-43fe-89b3-ff4b07d7ca1f"
      },
      "source": [
        "# Train the regression\n",
        "grad_reg = GradientBoostingRegressor(learning_rate=0.01,n_estimators=3000,loss='ls', random_state=1)\n",
        "grad_reg.fit(train_regression_set_scaled,train_regression_target_scaled)"
      ],
      "execution_count": 35,
      "outputs": [
        {
          "output_type": "stream",
          "text": [
            "/usr/local/lib/python3.6/dist-packages/sklearn/ensemble/gradient_boosting.py:1450: DataConversionWarning: A column-vector y was passed when a 1d array was expected. Please change the shape of y to (n_samples, ), for example using ravel().\n",
            "  y = column_or_1d(y, warn=True)\n"
          ],
          "name": "stderr"
        },
        {
          "output_type": "execute_result",
          "data": {
            "text/plain": [
              "GradientBoostingRegressor(alpha=0.9, criterion='friedman_mse', init=None,\n",
              "                          learning_rate=0.01, loss='ls', max_depth=3,\n",
              "                          max_features=None, max_leaf_nodes=None,\n",
              "                          min_impurity_decrease=0.0, min_impurity_split=None,\n",
              "                          min_samples_leaf=1, min_samples_split=2,\n",
              "                          min_weight_fraction_leaf=0.0, n_estimators=3000,\n",
              "                          n_iter_no_change=None, presort='auto', random_state=1,\n",
              "                          subsample=1.0, tol=0.0001, validation_fraction=0.1,\n",
              "                          verbose=0, warm_start=False)"
            ]
          },
          "metadata": {
            "tags": []
          },
          "execution_count": 35
        }
      ]
    },
    {
      "cell_type": "markdown",
      "metadata": {
        "colab_type": "text",
        "id": "a_q1hQLhzzU4"
      },
      "source": [
        "#### Testing performance for Gradient Boosting Regression"
      ]
    },
    {
      "cell_type": "code",
      "metadata": {
        "id": "m1P7qBy29yMu",
        "colab_type": "code",
        "colab": {}
      },
      "source": [
        "# Compute regression metrics\n",
        "def regression_metrics(y_test,y_pred):\n",
        "    print('Mean Squared Error')\n",
        "    print(mean_squared_error(y_test,y_pred))\n",
        "    print('Mean absolute error')\n",
        "    print(mean_absolute_error(y_test, y_pred))"
      ],
      "execution_count": 0,
      "outputs": []
    },
    {
      "cell_type": "code",
      "metadata": {
        "colab_type": "code",
        "id": "3ecandQRzzU6",
        "colab": {
          "base_uri": "https://localhost:8080/",
          "height": 118
        },
        "outputId": "2d2b69d2-8fc9-4e3e-f07c-4aacf74e9459"
      },
      "source": [
        "# Test the model on unseen data\n",
        "y_pred = grad_reg.predict(test_regression_set_scaled)\n",
        "print('R^2')\n",
        "print(grad_reg.score(test_regression_set_scaled,test_regression_target_scaled))\n",
        "regression_metrics(test_regression_target_scaled,y_pred)"
      ],
      "execution_count": 37,
      "outputs": [
        {
          "output_type": "stream",
          "text": [
            "R^2\n",
            "0.8899141765546065\n",
            "Mean Squared Error\n",
            "0.11008582344539353\n",
            "Mean absolute error\n",
            "0.2044089047831065\n"
          ],
          "name": "stdout"
        }
      ]
    },
    {
      "cell_type": "markdown",
      "metadata": {
        "id": "Z8REQ0iVxX-p",
        "colab_type": "text"
      },
      "source": [
        "We combine the ROC curve results for all our classification classifiers in the plot below: \n",
        "\n",
        "![alt text](https://i.imgur.com/ORgpUH5.png)"
      ]
    }
  ]
}