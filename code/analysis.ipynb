{
 "cells": [
  {
   "cell_type": "code",
   "execution_count": 40,
   "metadata": {},
   "outputs": [
    {
     "data": {
      "text/html": [
       "<style>.container { width:90% !important; }</style>"
      ],
      "text/plain": [
       "<IPython.core.display.HTML object>"
      ]
     },
     "metadata": {},
     "output_type": "display_data"
    },
    {
     "name": "stdout",
     "output_type": "stream",
     "text": [
      "The autoreload extension is already loaded. To reload it, use:\n",
      "  %reload_ext autoreload\n"
     ]
    }
   ],
   "source": [
    "from IPython.core.display import display, HTML\n",
    "display(HTML(\"<style>.container { width:90% !important; }</style>\"))\n",
    "\n",
    "%load_ext autoreload\n",
    "%autoreload 2\n",
    "import pandas as pd\n",
    "from sklearn.preprocessing import OneHotEncoder\n",
    "from sklearn.feature_selection import *\n",
    "from sklearn.discriminant_analysis import LinearDiscriminantAnalysis as LDA\n",
    "import numpy as np\n",
    "import calendar\n",
    "import re\n",
    "from nltk.tokenize import word_tokenize , sent_tokenize\n",
    "from spellchecker import SpellChecker\n",
    "import pyphen\n",
    "import string\n",
    "import json\n",
    "from classifiers import *\n",
    "from regression import *\n",
    "from utils import *\n",
    "from sklearn.model_selection import train_test_split\n",
    "from sklearn.metrics import *\n",
    "import matplotlib.pyplot as plt\n",
    "from sklearn.dummy import DummyClassifier\n",
    "import lightgbm as lgb"
   ]
  },
  {
   "cell_type": "code",
   "execution_count": 41,
   "metadata": {},
   "outputs": [],
   "source": [
    "data = pd.read_csv(\"datasets/final_freq_months_days_ids_adjusted.csv\",engine='python',error_bad_lines=False)"
   ]
  },
  {
   "cell_type": "code",
   "execution_count": 42,
   "metadata": {},
   "outputs": [
    {
     "data": {
      "text/plain": [
       "(array([1.3912e+04, 7.5980e+03, 6.3030e+03, 4.4550e+03, 5.6130e+03,\n",
       "        2.5520e+03, 1.8130e+03, 2.4880e+03, 1.0530e+03, 3.8650e+03,\n",
       "        6.4700e+02, 1.2000e+03, 6.4600e+02, 3.8100e+02, 2.1640e+03,\n",
       "        4.9500e+02, 4.0600e+02, 4.2700e+02, 2.3900e+02, 1.6880e+03,\n",
       "        1.4000e+02, 2.3400e+02, 2.4200e+02, 2.0100e+02, 1.4090e+03,\n",
       "        1.3900e+02, 1.5300e+02, 1.6300e+02, 8.8000e+01, 1.0410e+03,\n",
       "        8.4000e+01, 1.2400e+02, 1.1800e+02, 1.0100e+02, 4.5300e+02,\n",
       "        9.2000e+01, 7.4000e+01, 9.6000e+01, 9.9000e+01, 4.3500e+02,\n",
       "        3.5000e+01, 5.9000e+01, 3.5000e+01, 4.2000e+01, 4.9000e+01,\n",
       "        1.9400e+02, 4.7000e+01, 4.5000e+01, 5.2000e+01, 4.1000e+01,\n",
       "        1.1380e+03, 2.5000e+01, 4.9000e+01, 2.9000e+01, 5.4000e+01,\n",
       "        1.1700e+02, 3.9000e+01, 3.6000e+01, 2.8000e+01, 2.4000e+01,\n",
       "        2.2900e+02, 2.1000e+01, 2.4000e+01, 1.6000e+01, 1.9000e+01,\n",
       "        1.0000e+02, 2.0000e+01, 1.1000e+01, 2.0000e+01, 1.4000e+01,\n",
       "        1.0100e+02, 9.0000e+00, 2.5000e+01, 5.0000e+00, 2.4000e+01,\n",
       "        2.7400e+02, 1.7000e+01, 2.0000e+01, 2.7000e+01, 2.0000e+01,\n",
       "        1.1400e+02, 8.0000e+00, 1.6000e+01, 9.0000e+00, 1.4000e+01,\n",
       "        4.1000e+01, 3.0000e+00, 8.0000e+00, 1.5000e+01, 1.4000e+01,\n",
       "        5.5000e+01, 4.0000e+00, 4.0000e+00, 8.0000e+00, 1.5000e+01,\n",
       "        3.2000e+01, 1.0000e+01, 1.4000e+01, 1.1000e+01, 1.8000e+01]),\n",
       " array([7.40000000e-01, 1.00072260e+03, 2.00070520e+03, 3.00068780e+03,\n",
       "        4.00067040e+03, 5.00065300e+03, 6.00063560e+03, 7.00061820e+03,\n",
       "        8.00060080e+03, 9.00058340e+03, 1.00005660e+04, 1.10005486e+04,\n",
       "        1.20005312e+04, 1.30005138e+04, 1.40004964e+04, 1.50004790e+04,\n",
       "        1.60004616e+04, 1.70004442e+04, 1.80004268e+04, 1.90004094e+04,\n",
       "        2.00003920e+04, 2.10003746e+04, 2.20003572e+04, 2.30003398e+04,\n",
       "        2.40003224e+04, 2.50003050e+04, 2.60002876e+04, 2.70002702e+04,\n",
       "        2.80002528e+04, 2.90002354e+04, 3.00002180e+04, 3.10002006e+04,\n",
       "        3.20001832e+04, 3.30001658e+04, 3.40001484e+04, 3.50001310e+04,\n",
       "        3.60001136e+04, 3.70000962e+04, 3.80000788e+04, 3.90000614e+04,\n",
       "        4.00000440e+04, 4.10000266e+04, 4.20000092e+04, 4.29999918e+04,\n",
       "        4.39999744e+04, 4.49999570e+04, 4.59999396e+04, 4.69999222e+04,\n",
       "        4.79999048e+04, 4.89998874e+04, 4.99998700e+04, 5.09998526e+04,\n",
       "        5.19998352e+04, 5.29998178e+04, 5.39998004e+04, 5.49997830e+04,\n",
       "        5.59997656e+04, 5.69997482e+04, 5.79997308e+04, 5.89997134e+04,\n",
       "        5.99996960e+04, 6.09996786e+04, 6.19996612e+04, 6.29996438e+04,\n",
       "        6.39996264e+04, 6.49996090e+04, 6.59995916e+04, 6.69995742e+04,\n",
       "        6.79995568e+04, 6.89995394e+04, 6.99995220e+04, 7.09995046e+04,\n",
       "        7.19994872e+04, 7.29994698e+04, 7.39994524e+04, 7.49994350e+04,\n",
       "        7.59994176e+04, 7.69994002e+04, 7.79993828e+04, 7.89993654e+04,\n",
       "        7.99993480e+04, 8.09993306e+04, 8.19993132e+04, 8.29992958e+04,\n",
       "        8.39992784e+04, 8.49992610e+04, 8.59992436e+04, 8.69992262e+04,\n",
       "        8.79992088e+04, 8.89991914e+04, 8.99991740e+04, 9.09991566e+04,\n",
       "        9.19991392e+04, 9.29991218e+04, 9.39991044e+04, 9.49990870e+04,\n",
       "        9.59990696e+04, 9.69990522e+04, 9.79990348e+04, 9.89990174e+04,\n",
       "        9.99990000e+04]),\n",
       " <a list of 100 Patch objects>)"
      ]
     },
     "execution_count": 42,
     "metadata": {},
     "output_type": "execute_result"
    },
    {
     "data": {
      "image/png": "[encoded data removed]",
      "text/plain": [
       "<Figure size 432x288 with 1 Axes>"
      ]
     },
     "metadata": {
      "needs_background": "light"
     },
     "output_type": "display_data"
    }
   ],
   "source": [
    "plt.hist(data[data['usd_goal_real']<100000]['usd_goal_real'],bins=100,stacked=False)"
   ]
  },
  {
   "cell_type": "markdown",
   "metadata": {},
   "source": [
    "Log scale the attributes"
   ]
  },
  {
   "cell_type": "code",
   "execution_count": 4,
   "metadata": {},
   "outputs": [],
   "source": [
    "data['usd_pledged_real']=np.log(1+data['usd_pledged_real'])\n",
    "data['usd_goal_real']=np.log(1+data['usd_goal_real'])\n",
    "data['mean_category_goal']=np.log(1+data['mean_category_goal'])\n",
    "data['mean_main_category_goal']=np.log(1+data['mean_main_category_goal'])\n",
    "# data['creator_successful']=np.log(1+data['creator_successful'])\n",
    "# data['imageCount']=np.log(1+data['imageCount'])"
   ]
  },
  {
   "cell_type": "markdown",
   "metadata": {},
   "source": [
    "Drop the features we don't need"
   ]
  },
  {
   "cell_type": "code",
   "execution_count": 5,
   "metadata": {},
   "outputs": [],
   "source": [
    "data.to_csv('mynewcsv.csv',index=False)\n",
    "filtered_data=data.drop([\"category_count\",\"main_category_count\",\"no_video\",\"diff_mean_category_goal\",\"diff_mean_main_category_goal\",\"no_weekend\",\"id\"],axis=1)\n",
    "\n",
    "collinear_features = ['cTotal', 'aboutNumSents', 'risksNumSents']\n",
    "low_importance_class =   ['yes_video', 'cSuccess', 'blurbMaxSyllables', 'risksMaxSyllables', 'blurbNumSents', 'yes_weekend']\n",
    "filtered_data = filtered_data.drop(collinear_features,axis=1)\n",
    "filtered_data = filtered_data.drop(low_importance_class,axis=1)\n",
    "# filtered_data=filtered_data.drop([\"mean_category_goal\",\"mean_main_category_goal\"],axis=1)"
   ]
  },
  {
   "cell_type": "code",
   "execution_count": 6,
   "metadata": {},
   "outputs": [
    {
     "data": {
      "text/html": [
       "<div>\n",
       "<style scoped>\n",
       "    .dataframe tbody tr th:only-of-type {\n",
       "        vertical-align: middle;\n",
       "    }\n",
       "\n",
       "    .dataframe tbody tr th {\n",
       "        vertical-align: top;\n",
       "    }\n",
       "\n",
       "    .dataframe thead th {\n",
       "        text-align: right;\n",
       "    }\n",
       "</style>\n",
       "<table border=\"1\" class=\"dataframe\">\n",
       "  <thead>\n",
       "    <tr style=\"text-align: right;\">\n",
       "      <th></th>\n",
       "      <th>usd_goal_real</th>\n",
       "      <th>state</th>\n",
       "      <th>usd_pledged_real</th>\n",
       "      <th>imageCount</th>\n",
       "      <th>category_freq</th>\n",
       "      <th>main_category_freq</th>\n",
       "      <th>country_freq</th>\n",
       "      <th>month_sine</th>\n",
       "      <th>day_sine</th>\n",
       "      <th>duration</th>\n",
       "      <th>mean_category_goal</th>\n",
       "      <th>mean_main_category_goal</th>\n",
       "      <th>blurbNumWords</th>\n",
       "      <th>blurbAvgSentLength</th>\n",
       "      <th>blurbSpellingErrors</th>\n",
       "      <th>aboutNumWords</th>\n",
       "      <th>aboutAvgSentLength</th>\n",
       "      <th>aboutMaxSyllables</th>\n",
       "      <th>aboutSpellingErrors</th>\n",
       "      <th>risksNumWords</th>\n",
       "      <th>risksAvgSentLength</th>\n",
       "      <th>risksSpellingErrors</th>\n",
       "    </tr>\n",
       "  </thead>\n",
       "  <tbody>\n",
       "    <tr>\n",
       "      <th>count</th>\n",
       "      <td>69210.000000</td>\n",
       "      <td>69210.000000</td>\n",
       "      <td>69210.000000</td>\n",
       "      <td>69210.000000</td>\n",
       "      <td>69210.000000</td>\n",
       "      <td>69210.000000</td>\n",
       "      <td>69210.000000</td>\n",
       "      <td>6.921000e+04</td>\n",
       "      <td>69210.000000</td>\n",
       "      <td>69210.000000</td>\n",
       "      <td>69210.000000</td>\n",
       "      <td>69210.000000</td>\n",
       "      <td>69210.000000</td>\n",
       "      <td>69210.000000</td>\n",
       "      <td>69210.000000</td>\n",
       "      <td>69210.000000</td>\n",
       "      <td>69210.000000</td>\n",
       "      <td>69210.000000</td>\n",
       "      <td>69210.000000</td>\n",
       "      <td>69210.000000</td>\n",
       "      <td>69210.000000</td>\n",
       "      <td>69210.000000</td>\n",
       "    </tr>\n",
       "    <tr>\n",
       "      <th>mean</th>\n",
       "      <td>8.388462</td>\n",
       "      <td>0.288253</td>\n",
       "      <td>6.903427</td>\n",
       "      <td>15.402138</td>\n",
       "      <td>0.011367</td>\n",
       "      <td>0.094184</td>\n",
       "      <td>0.550227</td>\n",
       "      <td>-2.740032e-02</td>\n",
       "      <td>0.208041</td>\n",
       "      <td>30.982748</td>\n",
       "      <td>9.787968</td>\n",
       "      <td>10.162840</td>\n",
       "      <td>22.029866</td>\n",
       "      <td>9.240045</td>\n",
       "      <td>1.315937</td>\n",
       "      <td>714.737740</td>\n",
       "      <td>21.889740</td>\n",
       "      <td>5.788296</td>\n",
       "      <td>24.704595</td>\n",
       "      <td>123.752160</td>\n",
       "      <td>17.298250</td>\n",
       "      <td>3.611877</td>\n",
       "    </tr>\n",
       "    <tr>\n",
       "      <th>std</th>\n",
       "      <td>1.723251</td>\n",
       "      <td>0.957561</td>\n",
       "      <td>3.064463</td>\n",
       "      <td>20.147226</td>\n",
       "      <td>0.005724</td>\n",
       "      <td>0.044301</td>\n",
       "      <td>0.298035</td>\n",
       "      <td>7.195794e-01</td>\n",
       "      <td>0.650343</td>\n",
       "      <td>10.884428</td>\n",
       "      <td>1.200030</td>\n",
       "      <td>0.999731</td>\n",
       "      <td>5.416173</td>\n",
       "      <td>2.626179</td>\n",
       "      <td>1.629904</td>\n",
       "      <td>687.750304</td>\n",
       "      <td>7.686712</td>\n",
       "      <td>2.879069</td>\n",
       "      <td>41.731381</td>\n",
       "      <td>111.411897</td>\n",
       "      <td>6.042516</td>\n",
       "      <td>8.824637</td>\n",
       "    </tr>\n",
       "    <tr>\n",
       "      <th>min</th>\n",
       "      <td>0.553885</td>\n",
       "      <td>-1.000000</td>\n",
       "      <td>0.000000</td>\n",
       "      <td>0.000000</td>\n",
       "      <td>0.000014</td>\n",
       "      <td>0.021370</td>\n",
       "      <td>0.000101</td>\n",
       "      <td>-1.000000e+00</td>\n",
       "      <td>-0.974928</td>\n",
       "      <td>0.000000</td>\n",
       "      <td>7.586130</td>\n",
       "      <td>8.820326</td>\n",
       "      <td>1.000000</td>\n",
       "      <td>0.500000</td>\n",
       "      <td>0.000000</td>\n",
       "      <td>0.000000</td>\n",
       "      <td>0.000000</td>\n",
       "      <td>0.000000</td>\n",
       "      <td>0.000000</td>\n",
       "      <td>1.000000</td>\n",
       "      <td>0.500000</td>\n",
       "      <td>0.000000</td>\n",
       "    </tr>\n",
       "    <tr>\n",
       "      <th>25%</th>\n",
       "      <td>7.313887</td>\n",
       "      <td>-1.000000</td>\n",
       "      <td>5.624018</td>\n",
       "      <td>4.000000</td>\n",
       "      <td>0.006531</td>\n",
       "      <td>0.048866</td>\n",
       "      <td>0.114246</td>\n",
       "      <td>-8.660254e-01</td>\n",
       "      <td>-0.433884</td>\n",
       "      <td>29.000000</td>\n",
       "      <td>8.874149</td>\n",
       "      <td>9.129817</td>\n",
       "      <td>19.000000</td>\n",
       "      <td>7.500000</td>\n",
       "      <td>0.000000</td>\n",
       "      <td>253.000000</td>\n",
       "      <td>17.750000</td>\n",
       "      <td>5.000000</td>\n",
       "      <td>7.000000</td>\n",
       "      <td>57.000000</td>\n",
       "      <td>13.571429</td>\n",
       "      <td>1.000000</td>\n",
       "    </tr>\n",
       "    <tr>\n",
       "      <th>50%</th>\n",
       "      <td>8.517393</td>\n",
       "      <td>1.000000</td>\n",
       "      <td>7.666690</td>\n",
       "      <td>8.000000</td>\n",
       "      <td>0.011920</td>\n",
       "      <td>0.110302</td>\n",
       "      <td>0.730588</td>\n",
       "      <td>-2.449294e-16</td>\n",
       "      <td>0.433884</td>\n",
       "      <td>29.000000</td>\n",
       "      <td>9.502993</td>\n",
       "      <td>10.219383</td>\n",
       "      <td>23.000000</td>\n",
       "      <td>9.000000</td>\n",
       "      <td>1.000000</td>\n",
       "      <td>498.000000</td>\n",
       "      <td>21.062500</td>\n",
       "      <td>5.000000</td>\n",
       "      <td>15.000000</td>\n",
       "      <td>96.000000</td>\n",
       "      <td>17.000000</td>\n",
       "      <td>2.000000</td>\n",
       "    </tr>\n",
       "    <tr>\n",
       "      <th>75%</th>\n",
       "      <td>9.449436</td>\n",
       "      <td>1.000000</td>\n",
       "      <td>8.950803</td>\n",
       "      <td>18.000000</td>\n",
       "      <td>0.015908</td>\n",
       "      <td>0.143130</td>\n",
       "      <td>0.730588</td>\n",
       "      <td>8.660254e-01</td>\n",
       "      <td>0.781831</td>\n",
       "      <td>32.000000</td>\n",
       "      <td>10.678948</td>\n",
       "      <td>10.925803</td>\n",
       "      <td>26.000000</td>\n",
       "      <td>11.000000</td>\n",
       "      <td>2.000000</td>\n",
       "      <td>946.000000</td>\n",
       "      <td>24.941176</td>\n",
       "      <td>6.000000</td>\n",
       "      <td>28.000000</td>\n",
       "      <td>156.000000</td>\n",
       "      <td>20.600000</td>\n",
       "      <td>4.000000</td>\n",
       "    </tr>\n",
       "    <tr>\n",
       "      <th>max</th>\n",
       "      <td>18.835409</td>\n",
       "      <td>1.000000</td>\n",
       "      <td>15.661331</td>\n",
       "      <td>332.000000</td>\n",
       "      <td>0.021760</td>\n",
       "      <td>0.151582</td>\n",
       "      <td>0.730588</td>\n",
       "      <td>1.000000e+00</td>\n",
       "      <td>0.974928</td>\n",
       "      <td>89.000000</td>\n",
       "      <td>14.214930</td>\n",
       "      <td>11.600327</td>\n",
       "      <td>44.000000</td>\n",
       "      <td>18.500000</td>\n",
       "      <td>16.000000</td>\n",
       "      <td>9411.000000</td>\n",
       "      <td>342.166667</td>\n",
       "      <td>180.000000</td>\n",
       "      <td>1354.000000</td>\n",
       "      <td>5703.000000</td>\n",
       "      <td>131.500000</td>\n",
       "      <td>547.000000</td>\n",
       "    </tr>\n",
       "  </tbody>\n",
       "</table>\n",
       "</div>"
      ],
      "text/plain": [
       "       usd_goal_real         state  usd_pledged_real    imageCount  \\\n",
       "count   69210.000000  69210.000000      69210.000000  69210.000000   \n",
       "mean        8.388462      0.288253          6.903427     15.402138   \n",
       "std         1.723251      0.957561          3.064463     20.147226   \n",
       "min         0.553885     -1.000000          0.000000      0.000000   \n",
       "25%         7.313887     -1.000000          5.624018      4.000000   \n",
       "50%         8.517393      1.000000          7.666690      8.000000   \n",
       "75%         9.449436      1.000000          8.950803     18.000000   \n",
       "max        18.835409      1.000000         15.661331    332.000000   \n",
       "\n",
       "       category_freq  main_category_freq  country_freq    month_sine  \\\n",
       "count   69210.000000        69210.000000  69210.000000  6.921000e+04   \n",
       "mean        0.011367            0.094184      0.550227 -2.740032e-02   \n",
       "std         0.005724            0.044301      0.298035  7.195794e-01   \n",
       "min         0.000014            0.021370      0.000101 -1.000000e+00   \n",
       "25%         0.006531            0.048866      0.114246 -8.660254e-01   \n",
       "50%         0.011920            0.110302      0.730588 -2.449294e-16   \n",
       "75%         0.015908            0.143130      0.730588  8.660254e-01   \n",
       "max         0.021760            0.151582      0.730588  1.000000e+00   \n",
       "\n",
       "           day_sine      duration  mean_category_goal  \\\n",
       "count  69210.000000  69210.000000        69210.000000   \n",
       "mean       0.208041     30.982748            9.787968   \n",
       "std        0.650343     10.884428            1.200030   \n",
       "min       -0.974928      0.000000            7.586130   \n",
       "25%       -0.433884     29.000000            8.874149   \n",
       "50%        0.433884     29.000000            9.502993   \n",
       "75%        0.781831     32.000000           10.678948   \n",
       "max        0.974928     89.000000           14.214930   \n",
       "\n",
       "       mean_main_category_goal  blurbNumWords  blurbAvgSentLength  \\\n",
       "count             69210.000000   69210.000000        69210.000000   \n",
       "mean                 10.162840      22.029866            9.240045   \n",
       "std                   0.999731       5.416173            2.626179   \n",
       "min                   8.820326       1.000000            0.500000   \n",
       "25%                   9.129817      19.000000            7.500000   \n",
       "50%                  10.219383      23.000000            9.000000   \n",
       "75%                  10.925803      26.000000           11.000000   \n",
       "max                  11.600327      44.000000           18.500000   \n",
       "\n",
       "       blurbSpellingErrors  aboutNumWords  aboutAvgSentLength  \\\n",
       "count         69210.000000   69210.000000        69210.000000   \n",
       "mean              1.315937     714.737740           21.889740   \n",
       "std               1.629904     687.750304            7.686712   \n",
       "min               0.000000       0.000000            0.000000   \n",
       "25%               0.000000     253.000000           17.750000   \n",
       "50%               1.000000     498.000000           21.062500   \n",
       "75%               2.000000     946.000000           24.941176   \n",
       "max              16.000000    9411.000000          342.166667   \n",
       "\n",
       "       aboutMaxSyllables  aboutSpellingErrors  risksNumWords  \\\n",
       "count       69210.000000         69210.000000   69210.000000   \n",
       "mean            5.788296            24.704595     123.752160   \n",
       "std             2.879069            41.731381     111.411897   \n",
       "min             0.000000             0.000000       1.000000   \n",
       "25%             5.000000             7.000000      57.000000   \n",
       "50%             5.000000            15.000000      96.000000   \n",
       "75%             6.000000            28.000000     156.000000   \n",
       "max           180.000000          1354.000000    5703.000000   \n",
       "\n",
       "       risksAvgSentLength  risksSpellingErrors  \n",
       "count        69210.000000         69210.000000  \n",
       "mean            17.298250             3.611877  \n",
       "std              6.042516             8.824637  \n",
       "min              0.500000             0.000000  \n",
       "25%             13.571429             1.000000  \n",
       "50%             17.000000             2.000000  \n",
       "75%             20.600000             4.000000  \n",
       "max            131.500000           547.000000  "
      ]
     },
     "execution_count": 6,
     "metadata": {},
     "output_type": "execute_result"
    }
   ],
   "source": [
    "\n",
    "pd.set_option('display.max_columns', None)\n",
    "filtered_data.describe()"
   ]
  },
  {
   "cell_type": "code",
   "execution_count": 7,
   "metadata": {},
   "outputs": [],
   "source": [
    "# train, test = train_test_split(filtered_data, test_size=0.2,random_state=206)\n",
    "# train.to_csv('fresh_train_206_5.csv',index=False)\n",
    "# test.to_csv('fresh_test_206_5.csv',index=False)\n",
    "\n",
    "train=pd.read_csv(\"fresh_train_206_5.csv\",engine='python',error_bad_lines=False)\n",
    "test=pd.read_csv(\"fresh_test_206_5.csv\",engine='python',error_bad_lines=False)"
   ]
  },
  {
   "cell_type": "code",
   "execution_count": 8,
   "metadata": {},
   "outputs": [
    {
     "data": {
      "text/plain": [
       "Index(['usd_goal_real', 'imageCount', 'category_freq', 'main_category_freq',\n",
       "       'country_freq', 'month_sine', 'day_sine', 'duration',\n",
       "       'mean_category_goal', 'mean_main_category_goal', 'blurbNumWords',\n",
       "       'blurbAvgSentLength', 'blurbSpellingErrors', 'aboutNumWords',\n",
       "       'aboutAvgSentLength', 'aboutMaxSyllables', 'aboutSpellingErrors',\n",
       "       'risksNumWords', 'risksAvgSentLength', 'risksSpellingErrors'],\n",
       "      dtype='object')"
      ]
     },
     "execution_count": 8,
     "metadata": {},
     "output_type": "execute_result"
    }
   ],
   "source": [
    "trainValues=train.drop(['state','usd_pledged_real'],axis=1)\n",
    "targetValues=train['state']\n",
    "regressionTrainValues=train['usd_pledged_real']\n",
    "testValues=test.drop(['state','usd_pledged_real'],axis=1)\n",
    "testTargetValues=test['state']\n",
    "regressionTestValues=test['usd_pledged_real']\n",
    "\n",
    "trainValues.columns"
   ]
  },
  {
   "cell_type": "code",
   "execution_count": 9,
   "metadata": {},
   "outputs": [
    {
     "name": "stdout",
     "output_type": "stream",
     "text": [
      "0.665149544863459\n",
      "0.6644271059095507\n"
     ]
    }
   ],
   "source": [
    "clf=call_gradientboosting_reg(trainValues,regressionTrainValues)\n",
    "pred=clf.predict(trainValues)\n",
    "res = np.zeros(pred.shape)\n",
    "res[pred>=train['usd_goal_real']] = 1\n",
    "res[pred<train['usd_goal_real']] = -1\n",
    "print(np.sum(res==train['state'])/len(train))\n",
    "\n",
    "pred=clf.predict(testValues)\n",
    "res = np.zeros(pred.shape)\n",
    "res[pred>=test['usd_goal_real']] = 1\n",
    "res[pred<test['usd_goal_real']] = -1\n",
    "print(np.sum(res==test['state'])/len(test))"
   ]
  },
  {
   "cell_type": "code",
   "execution_count": 10,
   "metadata": {},
   "outputs": [],
   "source": [
    "# d_train = lgb.Dataset(trainValues, label=targetValues)\n",
    "# params = {}\n",
    "# params['learning_rate'] = 0.003\n",
    "# params['boosting_type'] = 'gbdt'\n",
    "# params['objective'] = 'binary'\n",
    "# params['metric'] = 'binary_logloss'\n",
    "# params['sub_feature'] = 0.5\n",
    "# params['num_leaves'] = 10\n",
    "# params['min_data'] = 50\n",
    "# params['max_depth'] = 10\n",
    "# clf = lgb.train(params, d_train, 100)"
   ]
  },
  {
   "cell_type": "code",
   "execution_count": 11,
   "metadata": {},
   "outputs": [],
   "source": [
    "# np.max(clf.predict(testValues))"
   ]
  },
  {
   "cell_type": "code",
   "execution_count": 12,
   "metadata": {},
   "outputs": [
    {
     "name": "stderr",
     "output_type": "stream",
     "text": [
      "/home/nic/anaconda3/lib/python3.7/site-packages/sklearn/metrics/classification.py:1439: UndefinedMetricWarning: Recall and F-score are ill-defined and being set to 0.0 in labels with no true samples.\n",
      "  'recall', 'true', average, warn_for)\n"
     ]
    },
    {
     "data": {
      "text/plain": [
       "{'-1': {'precision': 0.0, 'recall': 0.0, 'f1-score': 0.0, 'support': 0},\n",
       " '1': {'precision': 1.0,\n",
       "  'recall': 0.6486779367143476,\n",
       "  'f1-score': 0.7869067963717629,\n",
       "  'support': 13842},\n",
       " 'accuracy': 0.6486779367143476,\n",
       " 'macro avg': {'precision': 0.5,\n",
       "  'recall': 0.3243389683571738,\n",
       "  'f1-score': 0.39345339818588143,\n",
       "  'support': 13842},\n",
       " 'weighted avg': {'precision': 1.0,\n",
       "  'recall': 0.6486779367143476,\n",
       "  'f1-score': 0.7869067963717629,\n",
       "  'support': 13842}}"
      ]
     },
     "execution_count": 12,
     "metadata": {},
     "output_type": "execute_result"
    }
   ],
   "source": [
    "clf = DummyClassifier(strategy='most_frequent', random_state=0)\n",
    "clf.fit(trainValues, targetValues)\n",
    "clf.score(testValues, testTargetValues)\n",
    "classification_report(clf.predict(testValues),testTargetValues,output_dict=True)"
   ]
  },
  {
   "cell_type": "code",
   "execution_count": 13,
   "metadata": {},
   "outputs": [
    {
     "name": "stderr",
     "output_type": "stream",
     "text": [
      "/home/nic/anaconda3/lib/python3.7/site-packages/sklearn/linear_model/logistic.py:432: FutureWarning: Default solver will be changed to 'lbfgs' in 0.22. Specify a solver to silence this warning.\n",
      "  FutureWarning)\n"
     ]
    },
    {
     "name": "stdout",
     "output_type": "stream",
     "text": [
      "0.7842797283629533\n",
      "0.7865192891200694\n"
     ]
    }
   ],
   "source": [
    "clf=call_logisticregression_classify(trainValues,targetValues)\n",
    "\n",
    "print(accuracy_score(clf.predict(trainValues),targetValues))\n",
    "print(accuracy_score(clf.predict(testValues),testTargetValues))"
   ]
  },
  {
   "cell_type": "code",
   "execution_count": 14,
   "metadata": {},
   "outputs": [
    {
     "name": "stderr",
     "output_type": "stream",
     "text": [
      "/home/nic/anaconda3/lib/python3.7/site-packages/sklearn/ensemble/forest.py:245: FutureWarning: The default value of n_estimators will change from 10 in version 0.20 to 100 in 0.22.\n",
      "  \"10 in version 0.20 to 100 in 0.22.\", FutureWarning)\n"
     ]
    },
    {
     "name": "stdout",
     "output_type": "stream",
     "text": [
      "0.994274671290276\n",
      "0.8693107932379714\n"
     ]
    },
    {
     "data": {
      "image/png": "[encoded data removed]",
      "text/plain": [
       "<Figure size 432x288 with 1 Axes>"
      ]
     },
     "metadata": {
      "needs_background": "light"
     },
     "output_type": "display_data"
    }
   ],
   "source": [
    "clf=call_randomforest_classify(trainValues,targetValues)\n",
    "print(accuracy_score(clf.predict(trainValues),targetValues))\n",
    "print(accuracy_score(clf.predict(testValues),testTargetValues))\n",
    "\n",
    "feat_importances = pd.Series(clf.feature_importances_, index=trainValues.columns)\n",
    "feat_importances.nlargest(20).plot(kind='barh')\n",
    "plt.show()"
   ]
  },
  {
   "cell_type": "code",
   "execution_count": 15,
   "metadata": {
    "scrolled": true
   },
   "outputs": [
    {
     "name": "stdout",
     "output_type": "stream",
     "text": [
      "0.880165438520445\n",
      "0.8786302557433897\n"
     ]
    }
   ],
   "source": [
    "clf=call_gradientboosting_classfy(trainValues,targetValues)\n",
    "print(accuracy_score(clf.predict(trainValues),targetValues))\n",
    "print(accuracy_score(clf.predict(testValues),testTargetValues))\n",
    "\n"
   ]
  },
  {
   "cell_type": "code",
   "execution_count": 16,
   "metadata": {},
   "outputs": [
    {
     "name": "stdout",
     "output_type": "stream",
     "text": [
      "1.0\n",
      "0.8331166016471608\n"
     ]
    },
    {
     "data": {
      "image/png": "[encoded data removed]",
      "text/plain": [
       "<Figure size 432x288 with 1 Axes>"
      ]
     },
     "metadata": {
      "needs_background": "light"
     },
     "output_type": "display_data"
    }
   ],
   "source": [
    "clf=call_decisiontrees_classify(trainValues,targetValues)\n",
    "print(accuracy_score(clf.predict(trainValues),targetValues))\n",
    "print(accuracy_score(clf.predict(testValues),testTargetValues))\n",
    "\n",
    "feat_importances = pd.Series(clf.feature_importances_, index=trainValues.columns)\n",
    "feat_importances.nlargest(10).plot(kind='barh')\n",
    "plt.show()"
   ]
  },
  {
   "cell_type": "code",
   "execution_count": 17,
   "metadata": {},
   "outputs": [
    {
     "name": "stdout",
     "output_type": "stream",
     "text": [
      "mean_category_goal -0.2919022823975168\n",
      "category_freq 0.2717792856483708\n",
      "imageCount 0.2710236195272028\n",
      "usd_goal_real -0.23487079319003418\n",
      "aboutNumWords 0.20427092507875788\n",
      "mean_main_category_goal -0.16516529482585424\n",
      "duration -0.14736192254727792\n",
      "aboutSpellingErrors 0.11337859075507255\n",
      "aboutMaxSyllables 0.09349566261548439\n",
      "main_category_freq 0.08497888081298965\n",
      "risksNumWords 0.06929734429387681\n",
      "risksAvgSentLength 0.06009098752668053\n",
      "country_freq 0.05776203801866878\n",
      "aboutAvgSentLength 0.04771053616587202\n",
      "blurbAvgSentLength 0.04062141594052552\n",
      "month_sine 0.03147055593301595\n",
      "day_sine 0.023566706966740812\n",
      "blurbSpellingErrors 0.018655163440790323\n",
      "blurbNumWords 0.015649028044213146\n",
      "risksSpellingErrors 0.010917335891929465\n"
     ]
    }
   ],
   "source": [
    "corrs,features=pearson_correlation(trainValues,targetValues)\n",
    "sort_order = np.argsort(-np.absolute(corrs))\n",
    "for i in sort_order:\n",
    "    print(features[i],corrs[i])"
   ]
  },
  {
   "cell_type": "code",
   "execution_count": 18,
   "metadata": {},
   "outputs": [
    {
     "name": "stdout",
     "output_type": "stream",
     "text": [
      "1536934.7623864503 aboutNumWords\n",
      "106261.97530168884 imageCount\n",
      "50746.82185431858 aboutSpellingErrors\n",
      "27518.71585727505 risksNumWords\n",
      "4605.691488916809 duration\n",
      "1080.6839067004425 usd_goal_real\n",
      "714.1793885794988 aboutMaxSyllables\n",
      "695.1083350593019 mean_category_goal\n",
      "423.1171553057104 risksAvgSentLength\n",
      "344.5696081705401 aboutAvgSentLength\n",
      "148.50258522207577 mean_main_category_goal\n",
      "146.0719275830084 risksSpellingErrors\n",
      "68.29176924659635 blurbAvgSentLength\n",
      "38.884332442102895 blurbSpellingErrors\n",
      "29.916597127765066 country_freq\n",
      "18.062003331522114 blurbNumWords\n",
      "11.815101130287722 category_freq\n",
      "8.320395570212977 main_category_freq\n",
      "2.7404657276691275 month_sine\n",
      "0.4298337136044145 day_sine\n"
     ]
    }
   ],
   "source": [
    "scores,features=chi_square(np.abs(trainValues),targetValues)\n",
    "sort_order = np.argsort(-np.absolute(scores))\n",
    "for i in sort_order:\n",
    "    print(scores[i],features[i])"
   ]
  },
  {
   "cell_type": "code",
   "execution_count": null,
   "metadata": {},
   "outputs": [],
   "source": [
    "sklearn_lda = LDA(n_components=10)\n",
    "X_lda_sklearn = sklearn_lda.fit_transform(trainValues,targetValues)"
   ]
  },
  {
   "cell_type": "code",
   "execution_count": null,
   "metadata": {},
   "outputs": [],
   "source": [
    "X_lda_sklearn"
   ]
  },
  {
   "cell_type": "code",
   "execution_count": 38,
   "metadata": {},
   "outputs": [
    {
     "data": {
      "text/html": [
       "<div>\n",
       "<style scoped>\n",
       "    .dataframe tbody tr th:only-of-type {\n",
       "        vertical-align: middle;\n",
       "    }\n",
       "\n",
       "    .dataframe tbody tr th {\n",
       "        vertical-align: top;\n",
       "    }\n",
       "\n",
       "    .dataframe thead th {\n",
       "        text-align: right;\n",
       "    }\n",
       "</style>\n",
       "<table border=\"1\" class=\"dataframe\">\n",
       "  <thead>\n",
       "    <tr style=\"text-align: right;\">\n",
       "      <th></th>\n",
       "      <th>usd_goal_real</th>\n",
       "      <th>imageCount</th>\n",
       "      <th>category_freq</th>\n",
       "      <th>main_category_freq</th>\n",
       "      <th>country_freq</th>\n",
       "      <th>month_sine</th>\n",
       "      <th>day_sine</th>\n",
       "      <th>yes_video</th>\n",
       "      <th>duration</th>\n",
       "      <th>mean_category_goal</th>\n",
       "      <th>mean_main_category_goal</th>\n",
       "      <th>creator_successful</th>\n",
       "      <th>blurbNumWords</th>\n",
       "      <th>blurbAvgSentLength</th>\n",
       "      <th>blurbMaxSyllables</th>\n",
       "      <th>blurbSpellingErrors</th>\n",
       "      <th>aboutNumWords</th>\n",
       "      <th>aboutAvgSentLength</th>\n",
       "      <th>aboutMaxSyllables</th>\n",
       "      <th>aboutSpellingErrors</th>\n",
       "      <th>risksNumWords</th>\n",
       "      <th>risksAvgSentLength</th>\n",
       "      <th>risksMaxSyllables</th>\n",
       "      <th>risksSpellingErrors</th>\n",
       "    </tr>\n",
       "  </thead>\n",
       "  <tbody>\n",
       "    <tr>\n",
       "      <th>count</th>\n",
       "      <td>55368.000000</td>\n",
       "      <td>55368.000000</td>\n",
       "      <td>55368.000000</td>\n",
       "      <td>55368.000000</td>\n",
       "      <td>55368.000000</td>\n",
       "      <td>5.536800e+04</td>\n",
       "      <td>55368.000000</td>\n",
       "      <td>55368.000000</td>\n",
       "      <td>55368.000000</td>\n",
       "      <td>55368.000000</td>\n",
       "      <td>55368.000000</td>\n",
       "      <td>55368.000000</td>\n",
       "      <td>55368.000000</td>\n",
       "      <td>55368.000000</td>\n",
       "      <td>55368.000000</td>\n",
       "      <td>55368.000000</td>\n",
       "      <td>55368.000000</td>\n",
       "      <td>55368.000000</td>\n",
       "      <td>55368.000000</td>\n",
       "      <td>55368.000000</td>\n",
       "      <td>55368.000000</td>\n",
       "      <td>55368.000000</td>\n",
       "      <td>55368.000000</td>\n",
       "      <td>55368.000000</td>\n",
       "    </tr>\n",
       "    <tr>\n",
       "      <th>mean</th>\n",
       "      <td>8.390381</td>\n",
       "      <td>15.366638</td>\n",
       "      <td>0.011361</td>\n",
       "      <td>0.094209</td>\n",
       "      <td>0.549581</td>\n",
       "      <td>-2.885960e-02</td>\n",
       "      <td>0.079812</td>\n",
       "      <td>0.735822</td>\n",
       "      <td>30.978435</td>\n",
       "      <td>9.792334</td>\n",
       "      <td>10.162967</td>\n",
       "      <td>1.105621</td>\n",
       "      <td>22.029891</td>\n",
       "      <td>9.244124</td>\n",
       "      <td>3.552666</td>\n",
       "      <td>1.317187</td>\n",
       "      <td>715.689604</td>\n",
       "      <td>21.889142</td>\n",
       "      <td>5.795730</td>\n",
       "      <td>24.690597</td>\n",
       "      <td>124.036230</td>\n",
       "      <td>17.313403</td>\n",
       "      <td>4.322045</td>\n",
       "      <td>3.622056</td>\n",
       "    </tr>\n",
       "    <tr>\n",
       "      <th>std</th>\n",
       "      <td>1.723002</td>\n",
       "      <td>20.037601</td>\n",
       "      <td>0.005729</td>\n",
       "      <td>0.044277</td>\n",
       "      <td>0.298335</td>\n",
       "      <td>7.188248e-01</td>\n",
       "      <td>0.703649</td>\n",
       "      <td>0.440898</td>\n",
       "      <td>10.893474</td>\n",
       "      <td>1.201175</td>\n",
       "      <td>0.999615</td>\n",
       "      <td>2.556870</td>\n",
       "      <td>5.417217</td>\n",
       "      <td>2.628673</td>\n",
       "      <td>0.998151</td>\n",
       "      <td>1.630371</td>\n",
       "      <td>690.014186</td>\n",
       "      <td>7.735939</td>\n",
       "      <td>2.924427</td>\n",
       "      <td>41.957893</td>\n",
       "      <td>113.304269</td>\n",
       "      <td>6.053223</td>\n",
       "      <td>1.240585</td>\n",
       "      <td>8.954035</td>\n",
       "    </tr>\n",
       "    <tr>\n",
       "      <th>min</th>\n",
       "      <td>0.553885</td>\n",
       "      <td>0.000000</td>\n",
       "      <td>0.000014</td>\n",
       "      <td>0.021370</td>\n",
       "      <td>0.000101</td>\n",
       "      <td>-1.000000e+00</td>\n",
       "      <td>-0.974928</td>\n",
       "      <td>0.000000</td>\n",
       "      <td>0.000000</td>\n",
       "      <td>7.586130</td>\n",
       "      <td>8.820326</td>\n",
       "      <td>0.000000</td>\n",
       "      <td>1.000000</td>\n",
       "      <td>0.500000</td>\n",
       "      <td>1.000000</td>\n",
       "      <td>0.000000</td>\n",
       "      <td>0.000000</td>\n",
       "      <td>0.000000</td>\n",
       "      <td>0.000000</td>\n",
       "      <td>0.000000</td>\n",
       "      <td>1.000000</td>\n",
       "      <td>0.500000</td>\n",
       "      <td>1.000000</td>\n",
       "      <td>0.000000</td>\n",
       "    </tr>\n",
       "    <tr>\n",
       "      <th>25%</th>\n",
       "      <td>7.313887</td>\n",
       "      <td>4.000000</td>\n",
       "      <td>0.006531</td>\n",
       "      <td>0.048866</td>\n",
       "      <td>0.114246</td>\n",
       "      <td>-8.660254e-01</td>\n",
       "      <td>-0.433884</td>\n",
       "      <td>0.000000</td>\n",
       "      <td>29.000000</td>\n",
       "      <td>8.874149</td>\n",
       "      <td>9.129817</td>\n",
       "      <td>0.000000</td>\n",
       "      <td>19.000000</td>\n",
       "      <td>7.500000</td>\n",
       "      <td>3.000000</td>\n",
       "      <td>0.000000</td>\n",
       "      <td>253.000000</td>\n",
       "      <td>17.738872</td>\n",
       "      <td>5.000000</td>\n",
       "      <td>7.000000</td>\n",
       "      <td>57.000000</td>\n",
       "      <td>13.600000</td>\n",
       "      <td>4.000000</td>\n",
       "      <td>1.000000</td>\n",
       "    </tr>\n",
       "    <tr>\n",
       "      <th>50%</th>\n",
       "      <td>8.517393</td>\n",
       "      <td>8.000000</td>\n",
       "      <td>0.011920</td>\n",
       "      <td>0.110302</td>\n",
       "      <td>0.730588</td>\n",
       "      <td>-2.449294e-16</td>\n",
       "      <td>0.433884</td>\n",
       "      <td>1.000000</td>\n",
       "      <td>29.000000</td>\n",
       "      <td>9.502993</td>\n",
       "      <td>10.219383</td>\n",
       "      <td>1.000000</td>\n",
       "      <td>23.000000</td>\n",
       "      <td>9.000000</td>\n",
       "      <td>3.000000</td>\n",
       "      <td>1.000000</td>\n",
       "      <td>499.000000</td>\n",
       "      <td>21.069136</td>\n",
       "      <td>5.000000</td>\n",
       "      <td>15.000000</td>\n",
       "      <td>96.000000</td>\n",
       "      <td>17.000000</td>\n",
       "      <td>4.000000</td>\n",
       "      <td>2.000000</td>\n",
       "    </tr>\n",
       "    <tr>\n",
       "      <th>75%</th>\n",
       "      <td>9.471318</td>\n",
       "      <td>18.000000</td>\n",
       "      <td>0.015908</td>\n",
       "      <td>0.143130</td>\n",
       "      <td>0.730588</td>\n",
       "      <td>5.000000e-01</td>\n",
       "      <td>0.781831</td>\n",
       "      <td>1.000000</td>\n",
       "      <td>32.000000</td>\n",
       "      <td>10.766550</td>\n",
       "      <td>10.925803</td>\n",
       "      <td>1.000000</td>\n",
       "      <td>26.000000</td>\n",
       "      <td>11.000000</td>\n",
       "      <td>4.000000</td>\n",
       "      <td>2.000000</td>\n",
       "      <td>945.000000</td>\n",
       "      <td>24.947368</td>\n",
       "      <td>6.000000</td>\n",
       "      <td>28.000000</td>\n",
       "      <td>157.000000</td>\n",
       "      <td>20.600000</td>\n",
       "      <td>5.000000</td>\n",
       "      <td>4.000000</td>\n",
       "    </tr>\n",
       "    <tr>\n",
       "      <th>max</th>\n",
       "      <td>18.835409</td>\n",
       "      <td>332.000000</td>\n",
       "      <td>0.021760</td>\n",
       "      <td>0.151582</td>\n",
       "      <td>0.730588</td>\n",
       "      <td>1.000000e+00</td>\n",
       "      <td>0.974928</td>\n",
       "      <td>1.000000</td>\n",
       "      <td>89.000000</td>\n",
       "      <td>14.214930</td>\n",
       "      <td>11.600327</td>\n",
       "      <td>51.000000</td>\n",
       "      <td>44.000000</td>\n",
       "      <td>18.500000</td>\n",
       "      <td>30.000000</td>\n",
       "      <td>16.000000</td>\n",
       "      <td>9411.000000</td>\n",
       "      <td>342.166667</td>\n",
       "      <td>180.000000</td>\n",
       "      <td>1354.000000</td>\n",
       "      <td>5703.000000</td>\n",
       "      <td>131.500000</td>\n",
       "      <td>47.000000</td>\n",
       "      <td>547.000000</td>\n",
       "    </tr>\n",
       "  </tbody>\n",
       "</table>\n",
       "</div>"
      ],
      "text/plain": [
       "       usd_goal_real    imageCount  category_freq  main_category_freq  \\\n",
       "count   55368.000000  55368.000000   55368.000000        55368.000000   \n",
       "mean        8.390381     15.366638       0.011361            0.094209   \n",
       "std         1.723002     20.037601       0.005729            0.044277   \n",
       "min         0.553885      0.000000       0.000014            0.021370   \n",
       "25%         7.313887      4.000000       0.006531            0.048866   \n",
       "50%         8.517393      8.000000       0.011920            0.110302   \n",
       "75%         9.471318     18.000000       0.015908            0.143130   \n",
       "max        18.835409    332.000000       0.021760            0.151582   \n",
       "\n",
       "       country_freq    month_sine      day_sine     yes_video      duration  \\\n",
       "count  55368.000000  5.536800e+04  55368.000000  55368.000000  55368.000000   \n",
       "mean       0.549581 -2.885960e-02      0.079812      0.735822     30.978435   \n",
       "std        0.298335  7.188248e-01      0.703649      0.440898     10.893474   \n",
       "min        0.000101 -1.000000e+00     -0.974928      0.000000      0.000000   \n",
       "25%        0.114246 -8.660254e-01     -0.433884      0.000000     29.000000   \n",
       "50%        0.730588 -2.449294e-16      0.433884      1.000000     29.000000   \n",
       "75%        0.730588  5.000000e-01      0.781831      1.000000     32.000000   \n",
       "max        0.730588  1.000000e+00      0.974928      1.000000     89.000000   \n",
       "\n",
       "       mean_category_goal  mean_main_category_goal  creator_successful  \\\n",
       "count        55368.000000             55368.000000        55368.000000   \n",
       "mean             9.792334                10.162967            1.105621   \n",
       "std              1.201175                 0.999615            2.556870   \n",
       "min              7.586130                 8.820326            0.000000   \n",
       "25%              8.874149                 9.129817            0.000000   \n",
       "50%              9.502993                10.219383            1.000000   \n",
       "75%             10.766550                10.925803            1.000000   \n",
       "max             14.214930                11.600327           51.000000   \n",
       "\n",
       "       blurbNumWords  blurbAvgSentLength  blurbMaxSyllables  \\\n",
       "count   55368.000000        55368.000000       55368.000000   \n",
       "mean       22.029891            9.244124           3.552666   \n",
       "std         5.417217            2.628673           0.998151   \n",
       "min         1.000000            0.500000           1.000000   \n",
       "25%        19.000000            7.500000           3.000000   \n",
       "50%        23.000000            9.000000           3.000000   \n",
       "75%        26.000000           11.000000           4.000000   \n",
       "max        44.000000           18.500000          30.000000   \n",
       "\n",
       "       blurbSpellingErrors  aboutNumWords  aboutAvgSentLength  \\\n",
       "count         55368.000000   55368.000000        55368.000000   \n",
       "mean              1.317187     715.689604           21.889142   \n",
       "std               1.630371     690.014186            7.735939   \n",
       "min               0.000000       0.000000            0.000000   \n",
       "25%               0.000000     253.000000           17.738872   \n",
       "50%               1.000000     499.000000           21.069136   \n",
       "75%               2.000000     945.000000           24.947368   \n",
       "max              16.000000    9411.000000          342.166667   \n",
       "\n",
       "       aboutMaxSyllables  aboutSpellingErrors  risksNumWords  \\\n",
       "count       55368.000000         55368.000000   55368.000000   \n",
       "mean            5.795730            24.690597     124.036230   \n",
       "std             2.924427            41.957893     113.304269   \n",
       "min             0.000000             0.000000       1.000000   \n",
       "25%             5.000000             7.000000      57.000000   \n",
       "50%             5.000000            15.000000      96.000000   \n",
       "75%             6.000000            28.000000     157.000000   \n",
       "max           180.000000          1354.000000    5703.000000   \n",
       "\n",
       "       risksAvgSentLength  risksMaxSyllables  risksSpellingErrors  \n",
       "count        55368.000000       55368.000000         55368.000000  \n",
       "mean            17.313403           4.322045             3.622056  \n",
       "std              6.053223           1.240585             8.954035  \n",
       "min              0.500000           1.000000             0.000000  \n",
       "25%             13.600000           4.000000             1.000000  \n",
       "50%             17.000000           4.000000             2.000000  \n",
       "75%             20.600000           5.000000             4.000000  \n",
       "max            131.500000          47.000000           547.000000  "
      ]
     },
     "execution_count": 38,
     "metadata": {},
     "output_type": "execute_result"
    }
   ],
   "source": [
    "# data.describe()\n",
    "trainValues.describe()"
   ]
  },
  {
   "cell_type": "code",
   "execution_count": 39,
   "metadata": {},
   "outputs": [
    {
     "data": {
      "image/png": "[encoded data removed]",
      "text/plain": [
       "<Figure size 432x288 with 1 Axes>"
      ]
     },
     "metadata": {
      "needs_background": "light"
     },
     "output_type": "display_data"
    }
   ],
   "source": [
    "plt.hist(data['creator_successful'],bins=100)\n",
    "plt.show()"
   ]
  },
  {
   "cell_type": "code",
   "execution_count": 32,
   "metadata": {},
   "outputs": [
    {
     "data": {
      "text/plain": [
       "([array([  1.,   0.,   1.,   0.,   0.,   0.,   1.,   0.,   0.,   4.,   1.,\n",
       "           3.,   0.,   3.,   2.,   1.,   2.,   5.,   3.,   5.,   8.,   5.,\n",
       "          11.,  12.,  25.,  22.,  30.,  23.,  22.,  33.,  47.,  62.,  79.,\n",
       "          68.,  80., 166., 149., 148., 164., 179., 234., 211., 213., 251.,\n",
       "         307., 285., 330., 357., 338., 359., 307., 485., 360., 315., 327.,\n",
       "         322., 316., 257., 255., 214., 215., 162., 179., 151., 120.,  89.,\n",
       "         102.,  81.,  78.,  56.,  36.,  38.,  53.,  26.,  30.,  21.,  18.,\n",
       "          18.,  11.,  11.,  11.,  14.,   9.,  10.,   7.,   5.,   2.,   3.,\n",
       "           7.,   1.,   0.,   3.,   0.,   2.,   0.,   0.,   0.,   0.,   0.,\n",
       "           2.]),\n",
       "  array([2.000e+00, 1.000e+00, 0.000e+00, 0.000e+00, 2.000e+00, 2.000e+00,\n",
       "         1.000e+00, 2.000e+00, 3.000e+00, 3.000e+00, 6.000e+00, 7.000e+00,\n",
       "         1.000e+01, 1.600e+01, 1.000e+01, 8.000e+00, 1.900e+01, 2.200e+01,\n",
       "         1.000e+01, 3.300e+01, 3.100e+01, 2.900e+01, 2.400e+01, 3.000e+01,\n",
       "         8.600e+01, 7.200e+01, 8.100e+01, 1.060e+02, 1.180e+02, 1.490e+02,\n",
       "         1.740e+02, 2.340e+02, 2.900e+02, 2.930e+02, 3.340e+02, 5.990e+02,\n",
       "         5.890e+02, 5.400e+02, 6.750e+02, 7.460e+02, 9.360e+02, 9.050e+02,\n",
       "         8.650e+02, 9.580e+02, 1.095e+03, 1.131e+03, 1.331e+03, 1.401e+03,\n",
       "         1.427e+03, 1.411e+03, 1.261e+03, 1.887e+03, 1.434e+03, 1.227e+03,\n",
       "         1.214e+03, 1.316e+03, 1.260e+03, 1.013e+03, 1.001e+03, 8.590e+02,\n",
       "         8.140e+02, 6.180e+02, 7.450e+02, 6.240e+02, 4.850e+02, 3.950e+02,\n",
       "         3.860e+02, 3.420e+02, 2.550e+02, 2.370e+02, 2.020e+02, 1.890e+02,\n",
       "         1.820e+02, 1.180e+02, 1.120e+02, 1.100e+02, 8.100e+01, 5.400e+01,\n",
       "         5.500e+01, 4.900e+01, 4.800e+01, 3.500e+01, 2.300e+01, 2.800e+01,\n",
       "         3.300e+01, 1.100e+01, 1.300e+01, 1.200e+01, 1.000e+01, 1.800e+01,\n",
       "         1.100e+01, 3.000e+00, 2.000e+00, 1.000e+00, 4.000e+00, 2.000e+00,\n",
       "         0.000e+00, 1.000e+00, 2.000e+00, 2.000e+00])],\n",
       " array([ 1.09861229,  1.24423948,  1.38986667,  1.53549386,  1.68112106,\n",
       "         1.82674825,  1.97237544,  2.11800263,  2.26362982,  2.40925702,\n",
       "         2.55488421,  2.7005114 ,  2.84613859,  2.99176578,  3.13739297,\n",
       "         3.28302017,  3.42864736,  3.57427455,  3.71990174,  3.86552893,\n",
       "         4.01115613,  4.15678332,  4.30241051,  4.4480377 ,  4.59366489,\n",
       "         4.73929209,  4.88491928,  5.03054647,  5.17617366,  5.32180085,\n",
       "         5.46742804,  5.61305524,  5.75868243,  5.90430962,  6.04993681,\n",
       "         6.195564  ,  6.3411912 ,  6.48681839,  6.63244558,  6.77807277,\n",
       "         6.92369996,  7.06932716,  7.21495435,  7.36058154,  7.50620873,\n",
       "         7.65183592,  7.79746311,  7.94309031,  8.0887175 ,  8.23434469,\n",
       "         8.37997188,  8.52559907,  8.67122627,  8.81685346,  8.96248065,\n",
       "         9.10810784,  9.25373503,  9.39936223,  9.54498942,  9.69061661,\n",
       "         9.8362438 ,  9.98187099, 10.12749818, 10.27312538, 10.41875257,\n",
       "        10.56437976, 10.71000695, 10.85563414, 11.00126134, 11.14688853,\n",
       "        11.29251572, 11.43814291, 11.5837701 , 11.72939729, 11.87502449,\n",
       "        12.02065168, 12.16627887, 12.31190606, 12.45753325, 12.60316045,\n",
       "        12.74878764, 12.89441483, 13.04004202, 13.18566921, 13.33129641,\n",
       "        13.4769236 , 13.62255079, 13.76817798, 13.91380517, 14.05943236,\n",
       "        14.20505956, 14.35068675, 14.49631394, 14.64194113, 14.78756832,\n",
       "        14.93319552, 15.07882271, 15.2244499 , 15.37007709, 15.51570428,\n",
       "        15.66133148]),\n",
       " <a list of 2 Lists of Patches objects>)"
      ]
     },
     "execution_count": 32,
     "metadata": {},
     "output_type": "execute_result"
    },
    {
     "data": {
      "image/png": "[encoded data removed]",
      "text/plain": [
       "<Figure size 432x288 with 1 Axes>"
      ]
     },
     "metadata": {
      "needs_background": "light"
     },
     "output_type": "display_data"
    }
   ],
   "source": [
    "success1 = test[test.state==1]\n",
    "success2 = train[train.state==1]\n",
    "len(success)\n",
    "plt.hist([success1['usd_pledged_real'],success2['usd_pledged_real']],bins=100)\n",
    "# plt.hist(,bins=100)\n",
    "# trainValues=train.drop(['state','usd_pledged_real'],axis=1)\n",
    "# targetValues=train['usd_pledged_real']\n",
    "# testValues=test.drop(['state','usd_pledged_real'],axis=1)\n",
    "# testTargetValues=test['usd_pledged_real']\n",
    "# testGoals=test['usd_goal_real']\n",
    "# plt"
   ]
  },
  {
   "cell_type": "code",
   "execution_count": 33,
   "metadata": {},
   "outputs": [
    {
     "data": {
      "text/plain": [
       "(array([7.3000e+03, 1.0800e+03, 2.8370e+03, 4.2100e+03, 5.1550e+03,\n",
       "        3.8650e+03, 3.9254e+04, 3.9720e+03, 8.4300e+02, 2.8400e+02,\n",
       "        1.1300e+02, 5.6000e+01, 3.4000e+01, 1.5000e+01, 1.8000e+01,\n",
       "        1.2000e+01, 1.0000e+01, 1.4000e+01, 5.0000e+00, 4.0000e+00,\n",
       "        1.2000e+01, 5.0000e+00, 2.0000e+00, 2.0000e+00, 6.0000e+00,\n",
       "        1.0000e+00, 1.0000e+00, 2.0000e+00, 2.0000e+00, 2.0000e+00,\n",
       "        3.0000e+00, 2.0000e+00, 3.0000e+00, 4.0000e+00, 0.0000e+00,\n",
       "        2.0000e+00, 3.0000e+00, 2.0000e+00, 3.0000e+00, 2.0000e+00,\n",
       "        2.0000e+00, 3.0000e+00, 2.0000e+00, 2.0000e+00, 0.0000e+00,\n",
       "        1.0000e+00, 0.0000e+00, 1.0000e+00, 1.0000e+00, 2.0000e+00,\n",
       "        2.0000e+00, 1.0000e+00, 2.0000e+00, 2.0000e+00, 3.0000e+00,\n",
       "        1.0000e+00, 1.0000e+00, 6.0000e+00, 3.0000e+00, 0.0000e+00,\n",
       "        3.0000e+00, 1.0000e+00, 2.0000e+00, 0.0000e+00, 2.0000e+00,\n",
       "        2.0000e+00, 0.0000e+00, 2.0000e+00, 1.0000e+00, 1.0000e+00,\n",
       "        2.0000e+00, 0.0000e+00, 2.0000e+00, 3.0000e+00, 1.0000e+00,\n",
       "        1.0000e+00, 2.0000e+00, 1.0000e+00, 3.0000e+00, 0.0000e+00,\n",
       "        2.0000e+00, 0.0000e+00, 1.0000e+00, 0.0000e+00, 0.0000e+00,\n",
       "        0.0000e+00, 0.0000e+00, 0.0000e+00, 0.0000e+00, 0.0000e+00,\n",
       "        1.0000e+00, 1.0000e+00, 0.0000e+00, 0.0000e+00, 0.0000e+00,\n",
       "        0.0000e+00, 0.0000e+00, 0.0000e+00, 0.0000e+00, 1.0000e+00]),\n",
       " array([ 0.        ,  0.16069389,  0.32138778,  0.48208167,  0.64277556,\n",
       "         0.80346945,  0.96416334,  1.12485722,  1.28555111,  1.446245  ,\n",
       "         1.60693889,  1.76763278,  1.92832667,  2.08902056,  2.24971445,\n",
       "         2.41040834,  2.57110223,  2.73179612,  2.89249001,  3.0531839 ,\n",
       "         3.21387779,  3.37457167,  3.53526556,  3.69595945,  3.85665334,\n",
       "         4.01734723,  4.17804112,  4.33873501,  4.4994289 ,  4.66012279,\n",
       "         4.82081668,  4.98151057,  5.14220446,  5.30289835,  5.46359224,\n",
       "         5.62428612,  5.78498001,  5.9456739 ,  6.10636779,  6.26706168,\n",
       "         6.42775557,  6.58844946,  6.74914335,  6.90983724,  7.07053113,\n",
       "         7.23122502,  7.39191891,  7.5526128 ,  7.71330668,  7.87400057,\n",
       "         8.03469446,  8.19538835,  8.35608224,  8.51677613,  8.67747002,\n",
       "         8.83816391,  8.9988578 ,  9.15955169,  9.32024558,  9.48093947,\n",
       "         9.64163336,  9.80232725,  9.96302113, 10.12371502, 10.28440891,\n",
       "        10.4451028 , 10.60579669, 10.76649058, 10.92718447, 11.08787836,\n",
       "        11.24857225, 11.40926614, 11.56996003, 11.73065392, 11.89134781,\n",
       "        12.05204169, 12.21273558, 12.37342947, 12.53412336, 12.69481725,\n",
       "        12.85551114, 13.01620503, 13.17689892, 13.33759281, 13.4982867 ,\n",
       "        13.65898059, 13.81967448, 13.98036837, 14.14106226, 14.30175614,\n",
       "        14.46245003, 14.62314392, 14.78383781, 14.9445317 , 15.10522559,\n",
       "        15.26591948, 15.42661337, 15.58730726, 15.74800115, 15.90869504,\n",
       "        16.06938893]),\n",
       " <a list of 100 Patch objects>)"
      ]
     },
     "execution_count": 33,
     "metadata": {},
     "output_type": "execute_result"
    },
    {
     "data": {
      "image/png": "[encoded data removed]",
      "text/plain": [
       "<Figure size 432x288 with 1 Axes>"
      ]
     },
     "metadata": {
      "needs_background": "light"
     },
     "output_type": "display_data"
    }
   ],
   "source": [
    "plt.hist(np.divide(filtered_data['usd_pledged_real'],filtered_data['usd_goal_real']),bins=100)"
   ]
  },
  {
   "cell_type": "code",
   "execution_count": 43,
   "metadata": {},
   "outputs": [
    {
     "data": {
      "text/plain": [
       "(array([6.9203e+04, 3.0000e+00, 0.0000e+00, 2.0000e+00, 1.0000e+00,\n",
       "        0.0000e+00, 0.0000e+00, 0.0000e+00, 0.0000e+00, 1.0000e+00]),\n",
       " array([    0.  ,  6876.41, 13752.82, 20629.23, 27505.64, 34382.05,\n",
       "        41258.46, 48134.87, 55011.28, 61887.69, 68764.1 ]),\n",
       " <a list of 10 Patch objects>)"
      ]
     },
     "execution_count": 43,
     "metadata": {},
     "output_type": "execute_result"
    },
    {
     "data": {
      "image/png": "[encoded data removed]",
      "text/plain": [
       "<Figure size 432x288 with 1 Axes>"
      ]
     },
     "metadata": {
      "needs_background": "light"
     },
     "output_type": "display_data"
    }
   ],
   "source": [
    "plt.hist(np.divide((data['usd_pledged_real']),(data['usd_goal_real'])))"
   ]
  },
  {
   "cell_type": "code",
   "execution_count": 42,
   "metadata": {},
   "outputs": [],
   "source": [
    "# clf=call_gradientboosting_reg(trainValues,targetValues)\n",
    "# pred=clf.predict(testValues)\n",
    "# predictions=np.sign(pred-testGoals)clf=call_gradientboosting_reg(trainValues,targetValues)\n",
    "# pred=clf.predict(testValues)\n",
    "# predictions=np.sign(pred-testGoals)\n",
    "# actuals=np.sign(testTargetValues-testGoals)\n",
    "# print(accuracy_score(predictions,actuals))\n",
    "# # print(accuracy_score(clf.predict(testValues),testTargetValues))\n",
    "# actuals=np.sign(testTargetValues-testGoals)\n",
    "# print(accuracy_score(predictions,actuals))\n",
    "# # print(accuracy_score(clf.predict(testValues),testTargetValues))"
   ]
  }
 ],
 "metadata": {
  "file_extension": ".py",
  "kernelspec": {
   "display_name": "Python 3",
   "language": "python",
   "name": "python3"
  },
  "language_info": {
   "codemirror_mode": {
    "name": "ipython",
    "version": 3
   },
   "file_extension": ".py",
   "mimetype": "text/x-python",
   "name": "python",
   "nbconvert_exporter": "python",
   "pygments_lexer": "ipython3",
   "version": "3.7.5"
  },
  "mimetype": "text/x-python",
  "name": "python",
  "npconvert_exporter": "python",
  "pygments_lexer": "ipython3",
  "version": 3
 },
 "nbformat": 4,
 "nbformat_minor": 2
}
