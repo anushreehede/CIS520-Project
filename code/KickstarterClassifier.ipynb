{
 "cells": [
  {
   "cell_type": "markdown",
   "metadata": {},
   "source": [
    "# Introduction: Feature Selector Usage\n",
    "\n",
    "In this notebook we will walk-through using the `FeatureSelector` class for selecting features to remove from a dataset. This class has five methods for finding features to remove: \n",
    "\n",
    "1. Find columns with a missing fraction greater than a specified threshold\n",
    "2. Find features with only a single unique value\n",
    "3. Find collinear features as identified by a correlation coefficient greater than a specified value\n",
    "4. Find features with 0.0 importance from a gradient boosting machine\n",
    "5. Find features that do not contribute to a specified cumulative feature importance from the gradient boosting machine\n",
    "\n",
    "The FeatureSelector is a work in progress! Any contributions on GitHub are appreciated."
   ]
  },
  {
   "cell_type": "code",
   "execution_count": 41,
   "metadata": {},
   "outputs": [
    {
     "name": "stdout",
     "output_type": "stream",
     "text": [
      "The autoreload extension is already loaded. To reload it, use:\n",
      "  %reload_ext autoreload\n"
     ]
    }
   ],
   "source": [
    "%load_ext autoreload\n",
    "%autoreload 2\n",
    "from feature_selector import FeatureSelector\n",
    "import matplotlib as mpl\n",
    "mpl.rcParams['figure.dpi'] = 300\n",
    "import pandas as pd\n",
    "import matplotlib.pyplot as plt\n"
   ]
  },
  {
   "cell_type": "markdown",
   "metadata": {},
   "source": [
    "## Example Dataset\n",
    "\n",
    "This dataset was used as part of the [Home Credit Default Risk competition on Kaggle](https://www.kaggle.com/c/home-credit-default-risk/). It is intended for a supervised machine learning classification task where the objective is to predict if a client will default on a loan. The entire dataset can be downloaded [here] and we will work with a small sample of 10,000 rows. \n",
    "\n",
    "The feature selector was designed to be used for machine learning tasks, but can be applied to any dataset.\\ The feature importance based methods do require a supervised machine learning problem."
   ]
  },
  {
   "cell_type": "code",
   "execution_count": 22,
   "metadata": {},
   "outputs": [
    {
     "data": {
      "text/html": [
       "<div>\n",
       "<style scoped>\n",
       "    .dataframe tbody tr th:only-of-type {\n",
       "        vertical-align: middle;\n",
       "    }\n",
       "\n",
       "    .dataframe tbody tr th {\n",
       "        vertical-align: top;\n",
       "    }\n",
       "\n",
       "    .dataframe thead th {\n",
       "        text-align: right;\n",
       "    }\n",
       "</style>\n",
       "<table border=\"1\" class=\"dataframe\">\n",
       "  <thead>\n",
       "    <tr style=\"text-align: right;\">\n",
       "      <th></th>\n",
       "      <th>usd_goal_real</th>\n",
       "      <th>state</th>\n",
       "      <th>usd_pledged_real</th>\n",
       "      <th>imageCount</th>\n",
       "      <th>category_freq</th>\n",
       "      <th>main_category_freq</th>\n",
       "      <th>country_freq</th>\n",
       "      <th>month_sine</th>\n",
       "      <th>day_sine</th>\n",
       "      <th>yes_video</th>\n",
       "      <th>...</th>\n",
       "      <th>aboutAvgSentLength</th>\n",
       "      <th>aboutMaxSyllables</th>\n",
       "      <th>aboutSpellingErrors</th>\n",
       "      <th>risksNumWords</th>\n",
       "      <th>risksNumSents</th>\n",
       "      <th>risksAvgSentLength</th>\n",
       "      <th>risksMaxSyllables</th>\n",
       "      <th>risksSpellingErrors</th>\n",
       "      <th>cSuccess</th>\n",
       "      <th>cTotal</th>\n",
       "    </tr>\n",
       "  </thead>\n",
       "  <tbody>\n",
       "    <tr>\n",
       "      <th>0</th>\n",
       "      <td>9.903538</td>\n",
       "      <td>1</td>\n",
       "      <td>10.371176</td>\n",
       "      <td>7</td>\n",
       "      <td>0.021760</td>\n",
       "      <td>0.151582</td>\n",
       "      <td>0.730588</td>\n",
       "      <td>1.224647e-16</td>\n",
       "      <td>0.781831</td>\n",
       "      <td>1</td>\n",
       "      <td>...</td>\n",
       "      <td>21.571429</td>\n",
       "      <td>6</td>\n",
       "      <td>14</td>\n",
       "      <td>156</td>\n",
       "      <td>8</td>\n",
       "      <td>17.333333</td>\n",
       "      <td>5</td>\n",
       "      <td>0</td>\n",
       "      <td>0</td>\n",
       "      <td>0</td>\n",
       "    </tr>\n",
       "    <tr>\n",
       "      <th>1</th>\n",
       "      <td>10.463132</td>\n",
       "      <td>-1</td>\n",
       "      <td>8.852565</td>\n",
       "      <td>26</td>\n",
       "      <td>0.017671</td>\n",
       "      <td>0.110302</td>\n",
       "      <td>0.730588</td>\n",
       "      <td>-5.000000e-01</td>\n",
       "      <td>0.974928</td>\n",
       "      <td>1</td>\n",
       "      <td>...</td>\n",
       "      <td>21.785714</td>\n",
       "      <td>6</td>\n",
       "      <td>29</td>\n",
       "      <td>90</td>\n",
       "      <td>5</td>\n",
       "      <td>15.000000</td>\n",
       "      <td>5</td>\n",
       "      <td>3</td>\n",
       "      <td>0</td>\n",
       "      <td>0</td>\n",
       "    </tr>\n",
       "    <tr>\n",
       "      <th>2</th>\n",
       "      <td>9.325317</td>\n",
       "      <td>1</td>\n",
       "      <td>9.331629</td>\n",
       "      <td>10</td>\n",
       "      <td>0.012296</td>\n",
       "      <td>0.077590</td>\n",
       "      <td>0.047175</td>\n",
       "      <td>8.660254e-01</td>\n",
       "      <td>-0.433884</td>\n",
       "      <td>1</td>\n",
       "      <td>...</td>\n",
       "      <td>23.384615</td>\n",
       "      <td>4</td>\n",
       "      <td>5</td>\n",
       "      <td>272</td>\n",
       "      <td>14</td>\n",
       "      <td>18.133333</td>\n",
       "      <td>4</td>\n",
       "      <td>5</td>\n",
       "      <td>0</td>\n",
       "      <td>0</td>\n",
       "    </tr>\n",
       "    <tr>\n",
       "      <th>3</th>\n",
       "      <td>8.412055</td>\n",
       "      <td>1</td>\n",
       "      <td>8.423322</td>\n",
       "      <td>32</td>\n",
       "      <td>0.008149</td>\n",
       "      <td>0.048866</td>\n",
       "      <td>0.730588</td>\n",
       "      <td>1.224647e-16</td>\n",
       "      <td>0.000000</td>\n",
       "      <td>1</td>\n",
       "      <td>...</td>\n",
       "      <td>16.382979</td>\n",
       "      <td>5</td>\n",
       "      <td>9</td>\n",
       "      <td>51</td>\n",
       "      <td>2</td>\n",
       "      <td>17.000000</td>\n",
       "      <td>3</td>\n",
       "      <td>1</td>\n",
       "      <td>0</td>\n",
       "      <td>0</td>\n",
       "    </tr>\n",
       "    <tr>\n",
       "      <th>4</th>\n",
       "      <td>10.036926</td>\n",
       "      <td>-1</td>\n",
       "      <td>3.595118</td>\n",
       "      <td>2</td>\n",
       "      <td>0.002789</td>\n",
       "      <td>0.077590</td>\n",
       "      <td>0.007008</td>\n",
       "      <td>1.000000e+00</td>\n",
       "      <td>0.000000</td>\n",
       "      <td>0</td>\n",
       "      <td>...</td>\n",
       "      <td>22.153846</td>\n",
       "      <td>5</td>\n",
       "      <td>67</td>\n",
       "      <td>89</td>\n",
       "      <td>4</td>\n",
       "      <td>17.800000</td>\n",
       "      <td>4</td>\n",
       "      <td>22</td>\n",
       "      <td>0</td>\n",
       "      <td>0</td>\n",
       "    </tr>\n",
       "  </tbody>\n",
       "</table>\n",
       "<p>5 rows × 31 columns</p>\n",
       "</div>"
      ],
      "text/plain": [
       "   usd_goal_real  state  usd_pledged_real  imageCount  category_freq  \\\n",
       "0       9.903538      1         10.371176           7       0.021760   \n",
       "1      10.463132     -1          8.852565          26       0.017671   \n",
       "2       9.325317      1          9.331629          10       0.012296   \n",
       "3       8.412055      1          8.423322          32       0.008149   \n",
       "4      10.036926     -1          3.595118           2       0.002789   \n",
       "\n",
       "   main_category_freq  country_freq    month_sine  day_sine  yes_video  ...  \\\n",
       "0            0.151582      0.730588  1.224647e-16  0.781831          1  ...   \n",
       "1            0.110302      0.730588 -5.000000e-01  0.974928          1  ...   \n",
       "2            0.077590      0.047175  8.660254e-01 -0.433884          1  ...   \n",
       "3            0.048866      0.730588  1.224647e-16  0.000000          1  ...   \n",
       "4            0.077590      0.007008  1.000000e+00  0.000000          0  ...   \n",
       "\n",
       "   aboutAvgSentLength  aboutMaxSyllables  aboutSpellingErrors  risksNumWords  \\\n",
       "0           21.571429                  6                   14            156   \n",
       "1           21.785714                  6                   29             90   \n",
       "2           23.384615                  4                    5            272   \n",
       "3           16.382979                  5                    9             51   \n",
       "4           22.153846                  5                   67             89   \n",
       "\n",
       "   risksNumSents  risksAvgSentLength  risksMaxSyllables  risksSpellingErrors  \\\n",
       "0              8           17.333333                  5                    0   \n",
       "1              5           15.000000                  5                    3   \n",
       "2             14           18.133333                  4                    5   \n",
       "3              2           17.000000                  3                    1   \n",
       "4              4           17.800000                  4                   22   \n",
       "\n",
       "   cSuccess  cTotal  \n",
       "0         0       0  \n",
       "1         0       0  \n",
       "2         0       0  \n",
       "3         0       0  \n",
       "4         0       0  \n",
       "\n",
       "[5 rows x 31 columns]"
      ]
     },
     "execution_count": 22,
     "metadata": {},
     "output_type": "execute_result"
    }
   ],
   "source": [
    "train = pd.read_csv('data/fresh_train_206.csv')\n",
    "train_labels = train['state']\n",
    "train.head()"
   ]
  },
  {
   "cell_type": "markdown",
   "metadata": {},
   "source": [
    "There are several categorical columns in the dataset. The `FeatureSelector` handles these using one-hot encoding when using the feature importance based methods."
   ]
  },
  {
   "cell_type": "code",
   "execution_count": 23,
   "metadata": {},
   "outputs": [],
   "source": [
    "train = train.drop(columns = ['state','usd_pledged_real'])\n",
    "train.rename(columns={\"cSuccess\": \"creatorSuccess\", \"cTotal\": \"creatorTotal\"},inplace=True)\n"
   ]
  },
  {
   "cell_type": "markdown",
   "metadata": {},
   "source": [
    "# Implementation\n",
    "\n",
    "The `FeatureSelector` has five functions for identifying columns to remove:\n",
    "\n",
    "* `identify_missing`\n",
    "* `identify_single_unique`\n",
    "* `identify_collinear`\n",
    "* `identify_zero_importance` \n",
    "* `identify_low_importance`\n",
    "\n",
    "These methods find the features to drop according to specified criteria. The identified features are stored in the `ops` attribute (a Python dictionary) of the `FeatureSelector`. We can remove the identified features manually or use the `remove` function in the  `FeatureSelector` for actually removing the features. "
   ]
  },
  {
   "cell_type": "markdown",
   "metadata": {},
   "source": [
    "### Create the Instance\n",
    "\n",
    "The `FeatureSelector` only requires a dataset with observations in the rows and features in the columns (standard structured data). We are working with a classifified machine learning problem so we also pass in training labels."
   ]
  },
  {
   "cell_type": "code",
   "execution_count": 24,
   "metadata": {},
   "outputs": [],
   "source": [
    "fs = FeatureSelector(data = train, labels = train_labels)"
   ]
  },
  {
   "cell_type": "markdown",
   "metadata": {},
   "source": [
    "# 3. Collinear (highly correlated) Features\n",
    "\n",
    "This method finds pairs of collinear features based on the Pearson correlation coefficient. For each pair above the specified threshold (in terms of absolute value), it identifies one of the variables to be removed. We need to pass in a `correlation_threshold`. \n",
    "\n",
    "This method is based on code found at https://chrisalbon.com/machine_learning/feature_selection/drop_highly_correlated_features/\n",
    "\n",
    "For each pair, the feature that will be removed is the one that comes last in terms of the column ordering in the dataframe. (This method does not one-hot encode the data beforehand unless `one_hot=True`. Therefore correlations are only calculated between numeric columns)"
   ]
  },
  {
   "cell_type": "code",
   "execution_count": 25,
   "metadata": {},
   "outputs": [
    {
     "name": "stdout",
     "output_type": "stream",
     "text": [
      "3 features with a correlation magnitude greater than 0.90.\n",
      "\n"
     ]
    }
   ],
   "source": [
    "fs.identify_collinear(correlation_threshold=0.9)"
   ]
  },
  {
   "cell_type": "code",
   "execution_count": 26,
   "metadata": {},
   "outputs": [
    {
     "data": {
      "text/plain": [
       "['aboutNumSents', 'risksNumSents', 'creatorTotal']"
      ]
     },
     "execution_count": 26,
     "metadata": {},
     "output_type": "execute_result"
    }
   ],
   "source": [
    "correlated_features = fs.ops['collinear']\n",
    "correlated_features[:5]"
   ]
  },
  {
   "cell_type": "markdown",
   "metadata": {},
   "source": [
    "We can view a heatmap of the correlations above the threhold. The features which will be dropped are on the x-axis. "
   ]
  },
  {
   "cell_type": "code",
   "execution_count": 27,
   "metadata": {},
   "outputs": [],
   "source": [
    "# fs.plot_collinear()"
   ]
  },
  {
   "cell_type": "markdown",
   "metadata": {},
   "source": [
    "To plot all of the correlations in the data, we can pass in `plot_all = True` to the `plot_collinear` function. "
   ]
  },
  {
   "cell_type": "code",
   "execution_count": 28,
   "metadata": {},
   "outputs": [
    {
     "data": {
      "image/png": "[encoded data removed]",
      "text/plain": [
       "<Figure size 1000x800 with 2 Axes>"
      ]
     },
     "metadata": {},
     "output_type": "display_data"
    },
    {
     "data": {
      "text/plain": [
       "<Figure size 640x480 with 0 Axes>"
      ]
     },
     "metadata": {},
     "output_type": "display_data"
    }
   ],
   "source": [
    "\n",
    "fs.plot_collinear(plot_all=True)\n",
    "fig1 = plt.gcf()\n",
    "plt.show()\n",
    "plt.draw()\n",
    "fig1.savefig('fig.eps',bbox_inches='tight')"
   ]
  },
  {
   "cell_type": "markdown",
   "metadata": {},
   "source": [
    "To view the details of the corelations above the threshold, we access the `record_collinear` attribute which is a dataframe. The `drop_feature` will be removed and for each feature that will be removed, there may be several correlations it has with the `corr_feature` that are above the `correlation_threshold`."
   ]
  },
  {
   "cell_type": "code",
   "execution_count": 29,
   "metadata": {},
   "outputs": [
    {
     "data": {
      "text/html": [
       "<div>\n",
       "<style scoped>\n",
       "    .dataframe tbody tr th:only-of-type {\n",
       "        vertical-align: middle;\n",
       "    }\n",
       "\n",
       "    .dataframe tbody tr th {\n",
       "        vertical-align: top;\n",
       "    }\n",
       "\n",
       "    .dataframe thead th {\n",
       "        text-align: right;\n",
       "    }\n",
       "</style>\n",
       "<table border=\"1\" class=\"dataframe\">\n",
       "  <thead>\n",
       "    <tr style=\"text-align: right;\">\n",
       "      <th></th>\n",
       "      <th>drop_feature</th>\n",
       "      <th>corr_feature</th>\n",
       "      <th>corr_value</th>\n",
       "    </tr>\n",
       "  </thead>\n",
       "  <tbody>\n",
       "    <tr>\n",
       "      <th>0</th>\n",
       "      <td>aboutNumSents</td>\n",
       "      <td>aboutNumWords</td>\n",
       "      <td>0.943629</td>\n",
       "    </tr>\n",
       "    <tr>\n",
       "      <th>1</th>\n",
       "      <td>risksNumSents</td>\n",
       "      <td>risksNumWords</td>\n",
       "      <td>0.929286</td>\n",
       "    </tr>\n",
       "    <tr>\n",
       "      <th>2</th>\n",
       "      <td>creatorTotal</td>\n",
       "      <td>creatorSuccess</td>\n",
       "      <td>0.990835</td>\n",
       "    </tr>\n",
       "  </tbody>\n",
       "</table>\n",
       "</div>"
      ],
      "text/plain": [
       "    drop_feature    corr_feature  corr_value\n",
       "0  aboutNumSents   aboutNumWords    0.943629\n",
       "1  risksNumSents   risksNumWords    0.929286\n",
       "2   creatorTotal  creatorSuccess    0.990835"
      ]
     },
     "execution_count": 29,
     "metadata": {},
     "output_type": "execute_result"
    }
   ],
   "source": [
    "fs.record_collinear.head()"
   ]
  },
  {
   "cell_type": "code",
   "execution_count": 30,
   "metadata": {},
   "outputs": [
    {
     "name": "stdout",
     "output_type": "stream",
     "text": [
      "Training Gradient Boosting Model\n",
      "\n",
      "Training until validation scores don't improve for 100 rounds\n",
      "Early stopping, best iteration is:\n",
      "[316]\tvalid_0's auc: 0.94728\tvalid_0's binary_logloss: 0.270015\n",
      "Training until validation scores don't improve for 100 rounds\n",
      "Early stopping, best iteration is:\n",
      "[371]\tvalid_0's auc: 0.953175\tvalid_0's binary_logloss: 0.254402\n",
      "Training until validation scores don't improve for 100 rounds\n",
      "Early stopping, best iteration is:\n",
      "[446]\tvalid_0's auc: 0.951626\tvalid_0's binary_logloss: 0.258582\n",
      "Training until validation scores don't improve for 100 rounds\n",
      "Early stopping, best iteration is:\n",
      "[458]\tvalid_0's auc: 0.95148\tvalid_0's binary_logloss: 0.257331\n",
      "Training until validation scores don't improve for 100 rounds\n",
      "Early stopping, best iteration is:\n",
      "[513]\tvalid_0's auc: 0.95636\tvalid_0's binary_logloss: 0.246328\n",
      "Training until validation scores don't improve for 100 rounds\n",
      "Early stopping, best iteration is:\n",
      "[535]\tvalid_0's auc: 0.958523\tvalid_0's binary_logloss: 0.241451\n",
      "Training until validation scores don't improve for 100 rounds\n",
      "Early stopping, best iteration is:\n",
      "[522]\tvalid_0's auc: 0.954618\tvalid_0's binary_logloss: 0.250721\n",
      "Training until validation scores don't improve for 100 rounds\n",
      "Early stopping, best iteration is:\n",
      "[535]\tvalid_0's auc: 0.951858\tvalid_0's binary_logloss: 0.259232\n",
      "Training until validation scores don't improve for 100 rounds\n",
      "Early stopping, best iteration is:\n",
      "[508]\tvalid_0's auc: 0.954466\tvalid_0's binary_logloss: 0.25098\n",
      "Training until validation scores don't improve for 100 rounds\n",
      "Early stopping, best iteration is:\n",
      "[369]\tvalid_0's auc: 0.956179\tvalid_0's binary_logloss: 0.247052\n",
      "\n",
      "0 features with zero importance after one-hot encoding.\n",
      "\n"
     ]
    }
   ],
   "source": [
    "fs.identify_zero_importance(task = 'classification', eval_metric = 'auc', \n",
    "                            n_iterations = 10, early_stopping = True)"
   ]
  },
  {
   "cell_type": "markdown",
   "metadata": {},
   "source": [
    "Running the gradient boosting model requires one hot encoding the features. These features are saved in the `one_hot_features` attribute of the `FeatureSelector`. The original features are saved in the `base_features`."
   ]
  },
  {
   "cell_type": "code",
   "execution_count": 31,
   "metadata": {},
   "outputs": [
    {
     "name": "stdout",
     "output_type": "stream",
     "text": [
      "There are 29 original features\n",
      "There are 0 one-hot features\n"
     ]
    }
   ],
   "source": [
    "one_hot_features = fs.one_hot_features\n",
    "base_features = fs.base_features\n",
    "print('There are %d original features' % len(base_features))\n",
    "print('There are %d one-hot features' % len(one_hot_features))"
   ]
  },
  {
   "cell_type": "markdown",
   "metadata": {},
   "source": [
    "The `data` attribute of the `FeatureSelector` holds the original dataframe. After one-hot encoding, the `data_all` attribute holds the original data plus the one-hot encoded features."
   ]
  },
  {
   "cell_type": "markdown",
   "metadata": {},
   "source": [
    "### Plot Feature Importances\n",
    "\n",
    "The feature importance plot using `plot_feature_importances` will show us the `plot_n` most important features (on a normalized scale where the features sum to 1). It also shows us the cumulative feature importance versus the number of features. \n",
    "\n",
    "When we plot the feature importances, we can pass in a `threshold` which identifies the number of features required to reach a specified cumulative feature importance. For example, `threshold = 0.99` will tell us the number of features needed to account for 99% of the total importance."
   ]
  },
  {
   "cell_type": "code",
   "execution_count": 32,
   "metadata": {},
   "outputs": [
    {
     "data": {
      "text/plain": [
       "26"
      ]
     },
     "execution_count": 32,
     "metadata": {},
     "output_type": "execute_result"
    }
   ],
   "source": [
    "trainDrop = train.drop(['creatorTotal', 'aboutNumSents', 'risksNumSents'],axis=1)\n",
    "len(trainDrop.columns)"
   ]
  },
  {
   "cell_type": "code",
   "execution_count": 33,
   "metadata": {},
   "outputs": [
    {
     "name": "stdout",
     "output_type": "stream",
     "text": [
      "Training Gradient Boosting Model\n",
      "\n",
      "Training until validation scores don't improve for 100 rounds\n",
      "Early stopping, best iteration is:\n",
      "[507]\tvalid_0's auc: 0.954816\tvalid_0's binary_logloss: 0.248489\n",
      "Training until validation scores don't improve for 100 rounds\n",
      "Early stopping, best iteration is:\n",
      "[553]\tvalid_0's auc: 0.954863\tvalid_0's binary_logloss: 0.251191\n",
      "Training until validation scores don't improve for 100 rounds\n",
      "Early stopping, best iteration is:\n",
      "[509]\tvalid_0's auc: 0.954995\tvalid_0's binary_logloss: 0.251732\n",
      "Training until validation scores don't improve for 100 rounds\n",
      "Early stopping, best iteration is:\n",
      "[679]\tvalid_0's auc: 0.954109\tvalid_0's binary_logloss: 0.251526\n",
      "Training until validation scores don't improve for 100 rounds\n",
      "Early stopping, best iteration is:\n",
      "[339]\tvalid_0's auc: 0.952458\tvalid_0's binary_logloss: 0.25823\n",
      "Training until validation scores don't improve for 100 rounds\n",
      "Early stopping, best iteration is:\n",
      "[491]\tvalid_0's auc: 0.952319\tvalid_0's binary_logloss: 0.256068\n",
      "Training until validation scores don't improve for 100 rounds\n",
      "Early stopping, best iteration is:\n",
      "[329]\tvalid_0's auc: 0.952189\tvalid_0's binary_logloss: 0.259934\n",
      "Training until validation scores don't improve for 100 rounds\n",
      "Early stopping, best iteration is:\n",
      "[612]\tvalid_0's auc: 0.95298\tvalid_0's binary_logloss: 0.257588\n",
      "Training until validation scores don't improve for 100 rounds\n",
      "Early stopping, best iteration is:\n",
      "[354]\tvalid_0's auc: 0.951034\tvalid_0's binary_logloss: 0.260593\n",
      "Training until validation scores don't improve for 100 rounds\n",
      "Early stopping, best iteration is:\n",
      "[483]\tvalid_0's auc: 0.952798\tvalid_0's binary_logloss: 0.254774\n",
      "\n",
      "0 features with zero importance after one-hot encoding.\n",
      "\n"
     ]
    }
   ],
   "source": [
    "fsDrop = FeatureSelector(data = trainDrop, labels = train_labels)\n",
    "fsDrop.identify_zero_importance(task = 'classification', eval_metric = 'auc', \n",
    "                            n_iterations = 10, early_stopping = True)\n",
    "# fsDrop.plot_feature_importances(threshold = 0.95, plot_n = 25)"
   ]
  },
  {
   "cell_type": "code",
   "execution_count": 42,
   "metadata": {},
   "outputs": [
    {
     "data": {
      "image/png": "[encoded data removed]",
      "text/plain": [
       "<Figure size 1000x600 with 1 Axes>"
      ]
     },
     "metadata": {},
     "output_type": "display_data"
    },
    {
     "data": {
      "image/png": "[encoded data removed]",
      "text/plain": [
       "<Figure size 600x400 with 1 Axes>"
      ]
     },
     "metadata": {},
     "output_type": "display_data"
    },
    {
     "name": "stdout",
     "output_type": "stream",
     "text": [
      "21 features required for 0.95 of cumulative importance\n"
     ]
    }
   ],
   "source": [
    "fsDrop.plot_feature_importances(threshold = 0.95, plot_n = 15)\n",
    "# fig2 = plt.gcf()\n",
    "# plt.draw()\n",
    "# fig2.savefig('importance.png')\n",
    "# plt.show()\n"
   ]
  },
  {
   "cell_type": "markdown",
   "metadata": {},
   "source": [
    "All of the feature importances are accessible in the `feature_importances` attribute of the `FeatureSelector`"
   ]
  },
  {
   "cell_type": "code",
   "execution_count": 35,
   "metadata": {},
   "outputs": [
    {
     "data": {
      "text/html": [
       "<div>\n",
       "<style scoped>\n",
       "    .dataframe tbody tr th:only-of-type {\n",
       "        vertical-align: middle;\n",
       "    }\n",
       "\n",
       "    .dataframe tbody tr th {\n",
       "        vertical-align: top;\n",
       "    }\n",
       "\n",
       "    .dataframe thead th {\n",
       "        text-align: right;\n",
       "    }\n",
       "</style>\n",
       "<table border=\"1\" class=\"dataframe\">\n",
       "  <thead>\n",
       "    <tr style=\"text-align: right;\">\n",
       "      <th></th>\n",
       "      <th>feature</th>\n",
       "      <th>importance</th>\n",
       "      <th>normalized_importance</th>\n",
       "      <th>cumulative_importance</th>\n",
       "    </tr>\n",
       "  </thead>\n",
       "  <tbody>\n",
       "    <tr>\n",
       "      <th>0</th>\n",
       "      <td>imageCount</td>\n",
       "      <td>1436.9</td>\n",
       "      <td>0.098634</td>\n",
       "      <td>0.098634</td>\n",
       "    </tr>\n",
       "    <tr>\n",
       "      <th>1</th>\n",
       "      <td>usd_goal_real</td>\n",
       "      <td>1413.4</td>\n",
       "      <td>0.097021</td>\n",
       "      <td>0.195655</td>\n",
       "    </tr>\n",
       "    <tr>\n",
       "      <th>2</th>\n",
       "      <td>mean_category_goal</td>\n",
       "      <td>1308.0</td>\n",
       "      <td>0.089786</td>\n",
       "      <td>0.285441</td>\n",
       "    </tr>\n",
       "    <tr>\n",
       "      <th>3</th>\n",
       "      <td>category_freq</td>\n",
       "      <td>1255.5</td>\n",
       "      <td>0.086182</td>\n",
       "      <td>0.371623</td>\n",
       "    </tr>\n",
       "    <tr>\n",
       "      <th>4</th>\n",
       "      <td>aboutNumWords</td>\n",
       "      <td>944.4</td>\n",
       "      <td>0.064827</td>\n",
       "      <td>0.436450</td>\n",
       "    </tr>\n",
       "    <tr>\n",
       "      <th>5</th>\n",
       "      <td>aboutAvgSentLength</td>\n",
       "      <td>860.4</td>\n",
       "      <td>0.059061</td>\n",
       "      <td>0.495511</td>\n",
       "    </tr>\n",
       "    <tr>\n",
       "      <th>6</th>\n",
       "      <td>risksAvgSentLength</td>\n",
       "      <td>815.6</td>\n",
       "      <td>0.055986</td>\n",
       "      <td>0.551496</td>\n",
       "    </tr>\n",
       "    <tr>\n",
       "      <th>7</th>\n",
       "      <td>risksNumWords</td>\n",
       "      <td>791.7</td>\n",
       "      <td>0.054345</td>\n",
       "      <td>0.605842</td>\n",
       "    </tr>\n",
       "    <tr>\n",
       "      <th>8</th>\n",
       "      <td>aboutSpellingErrors</td>\n",
       "      <td>760.0</td>\n",
       "      <td>0.052169</td>\n",
       "      <td>0.658011</td>\n",
       "    </tr>\n",
       "    <tr>\n",
       "      <th>9</th>\n",
       "      <td>main_category_freq</td>\n",
       "      <td>616.3</td>\n",
       "      <td>0.042305</td>\n",
       "      <td>0.700316</td>\n",
       "    </tr>\n",
       "  </tbody>\n",
       "</table>\n",
       "</div>"
      ],
      "text/plain": [
       "               feature  importance  normalized_importance  \\\n",
       "0           imageCount      1436.9               0.098634   \n",
       "1        usd_goal_real      1413.4               0.097021   \n",
       "2   mean_category_goal      1308.0               0.089786   \n",
       "3        category_freq      1255.5               0.086182   \n",
       "4        aboutNumWords       944.4               0.064827   \n",
       "5   aboutAvgSentLength       860.4               0.059061   \n",
       "6   risksAvgSentLength       815.6               0.055986   \n",
       "7        risksNumWords       791.7               0.054345   \n",
       "8  aboutSpellingErrors       760.0               0.052169   \n",
       "9   main_category_freq       616.3               0.042305   \n",
       "\n",
       "   cumulative_importance  \n",
       "0               0.098634  \n",
       "1               0.195655  \n",
       "2               0.285441  \n",
       "3               0.371623  \n",
       "4               0.436450  \n",
       "5               0.495511  \n",
       "6               0.551496  \n",
       "7               0.605842  \n",
       "8               0.658011  \n",
       "9               0.700316  "
      ]
     },
     "execution_count": 35,
     "metadata": {},
     "output_type": "execute_result"
    }
   ],
   "source": [
    "fsDrop.feature_importances.head(10)"
   ]
  },
  {
   "cell_type": "markdown",
   "metadata": {},
   "source": [
    "We could use these results to select only the 'n' most important features. For example, if we want the top 100 most importance, we could do the following."
   ]
  },
  {
   "cell_type": "code",
   "execution_count": 36,
   "metadata": {},
   "outputs": [
    {
     "data": {
      "text/plain": [
       "29"
      ]
     },
     "execution_count": 36,
     "metadata": {},
     "output_type": "execute_result"
    }
   ],
   "source": [
    "one_hundred_features = list(fs.feature_importances.loc[:99, 'feature'])\n",
    "len(one_hundred_features)"
   ]
  },
  {
   "cell_type": "markdown",
   "metadata": {},
   "source": [
    "# 5. Low Importance Features\n",
    "\n",
    "This method builds off the feature importances from the gradient boosting machine (`identify_zero_importance` must be run first) by finding the lowest importance features not needed to reach a specified cumulative total feature importance. For example, if we pass in 0.99, this will find the lowest important features that are not needed to reach 99% of the total feature importance. \n",
    "\n",
    "When using this method, we must have already run `identify_zero_importance` and need to pass in a `cumulative_importance` that accounts for that fraction of total feature importance.\n",
    "\n",
    "__Note of caution__: this method builds on the gradient boosting model features importances and again is non-deterministic. I advise running these two methods several times with varying parameters and testing each resulting set of features rather than picking one number and sticking to it."
   ]
  },
  {
   "cell_type": "code",
   "execution_count": 37,
   "metadata": {},
   "outputs": [
    {
     "name": "stdout",
     "output_type": "stream",
     "text": [
      "20 features required for cumulative importance of 0.95 after one hot encoding.\n",
      "6 features do not contribute to cumulative importance of 0.95.\n",
      "\n"
     ]
    }
   ],
   "source": [
    "fsDrop.identify_low_importance(cumulative_importance = 0.95)"
   ]
  },
  {
   "cell_type": "markdown",
   "metadata": {},
   "source": [
    "The low importance features to remove are those that do not contribute to the specified cumulative importance. These are also available in the `ops` dictionary. "
   ]
  },
  {
   "cell_type": "code",
   "execution_count": 38,
   "metadata": {},
   "outputs": [
    {
     "data": {
      "text/plain": [
       "['yes_video',\n",
       " 'blurbMaxSyllables',\n",
       " 'creatorSuccess',\n",
       " 'risksMaxSyllables',\n",
       " 'blurbNumSents',\n",
       " 'yes_weekend']"
      ]
     },
     "execution_count": 38,
     "metadata": {},
     "output_type": "execute_result"
    }
   ],
   "source": [
    "low_importance_features = fsDrop.ops['low_importance']\n",
    "low_importance_features"
   ]
  },
  {
   "cell_type": "markdown",
   "metadata": {},
   "source": [
    "# Removing Features\n",
    "\n",
    "Once we have identified the features to remove, we have a number of ways to drop the features. We can access any of the feature lists in the `removal_ops` dictionary and remove the columns manually. We also can use the `remove` method, passing in the methods that identified the features we want to remove.\n",
    "\n",
    "This method returns the resulting data which we can then use for machine learning. The original data will still be accessible in the `data` attribute of the Feature Selector.\n",
    "\n",
    "__Be careful__ of the methods used for removing features! It's a good idea to inspect the features that will be removed before using the `remove` function. "
   ]
  },
  {
   "cell_type": "code",
   "execution_count": 39,
   "metadata": {},
   "outputs": [
    {
     "ename": "NotImplementedError",
     "evalue": "missing method has not been run",
     "output_type": "error",
     "traceback": [
      "\u001b[0;31m---------------------------------------------------------------------------\u001b[0m",
      "\u001b[0;31mNotImplementedError\u001b[0m                       Traceback (most recent call last)",
      "\u001b[0;32m<ipython-input-39-dfe11336853b>\u001b[0m in \u001b[0;36m<module>\u001b[0;34m\u001b[0m\n\u001b[0;32m----> 1\u001b[0;31m \u001b[0mtrain_no_missing\u001b[0m \u001b[0;34m=\u001b[0m \u001b[0mfs\u001b[0m\u001b[0;34m.\u001b[0m\u001b[0mremove\u001b[0m\u001b[0;34m(\u001b[0m\u001b[0mmethods\u001b[0m \u001b[0;34m=\u001b[0m \u001b[0;34m[\u001b[0m\u001b[0;34m'missing'\u001b[0m\u001b[0;34m]\u001b[0m\u001b[0;34m)\u001b[0m\u001b[0;34m\u001b[0m\u001b[0;34m\u001b[0m\u001b[0m\n\u001b[0m",
      "\u001b[0;32m~/ms-work/feature-selector/feature_selector/feature_selector.py\u001b[0m in \u001b[0;36mremove\u001b[0;34m(self, methods, keep_one_hot)\u001b[0m\n\u001b[1;32m    480\u001b[0m                 \u001b[0;31m# Check to make sure the method has been run\u001b[0m\u001b[0;34m\u001b[0m\u001b[0;34m\u001b[0m\u001b[0;34m\u001b[0m\u001b[0m\n\u001b[1;32m    481\u001b[0m                 \u001b[0;32mif\u001b[0m \u001b[0mmethod\u001b[0m \u001b[0;32mnot\u001b[0m \u001b[0;32min\u001b[0m \u001b[0mself\u001b[0m\u001b[0;34m.\u001b[0m\u001b[0mops\u001b[0m\u001b[0;34m.\u001b[0m\u001b[0mkeys\u001b[0m\u001b[0;34m(\u001b[0m\u001b[0;34m)\u001b[0m\u001b[0;34m:\u001b[0m\u001b[0;34m\u001b[0m\u001b[0;34m\u001b[0m\u001b[0m\n\u001b[0;32m--> 482\u001b[0;31m                     \u001b[0;32mraise\u001b[0m \u001b[0mNotImplementedError\u001b[0m\u001b[0;34m(\u001b[0m\u001b[0;34m'%s method has not been run'\u001b[0m \u001b[0;34m%\u001b[0m \u001b[0mmethod\u001b[0m\u001b[0;34m)\u001b[0m\u001b[0;34m\u001b[0m\u001b[0;34m\u001b[0m\u001b[0m\n\u001b[0m\u001b[1;32m    483\u001b[0m \u001b[0;34m\u001b[0m\u001b[0m\n\u001b[1;32m    484\u001b[0m                 \u001b[0;31m# Append the features identified for removal\u001b[0m\u001b[0;34m\u001b[0m\u001b[0;34m\u001b[0m\u001b[0;34m\u001b[0m\u001b[0m\n",
      "\u001b[0;31mNotImplementedError\u001b[0m: missing method has not been run"
     ]
    }
   ],
   "source": [
    "train_no_missing = fs.remove(methods = ['missing'])"
   ]
  },
  {
   "cell_type": "code",
   "execution_count": null,
   "metadata": {},
   "outputs": [],
   "source": [
    "train_no_missing_zero = fs.remove(methods = ['missing', 'zero_importance'])"
   ]
  },
  {
   "cell_type": "markdown",
   "metadata": {},
   "source": [
    "To remove the features from all of the methods, pass in `method='all'`. Before we do this, we can check how many features will be removed using `check_removal`. This returns a list of all the features that have been idenfitied for removal. "
   ]
  },
  {
   "cell_type": "code",
   "execution_count": null,
   "metadata": {},
   "outputs": [],
   "source": [
    "all_to_remove = fs.check_removal()\n",
    "all_to_remove[10:25]"
   ]
  },
  {
   "cell_type": "markdown",
   "metadata": {},
   "source": [
    "Now we can remove all of the features idenfitied."
   ]
  },
  {
   "cell_type": "code",
   "execution_count": null,
   "metadata": {},
   "outputs": [],
   "source": [
    "train_removed = fs.remove(methods = 'all')"
   ]
  },
  {
   "cell_type": "markdown",
   "metadata": {},
   "source": [
    "### Handling One-Hot Features\n",
    "\n",
    "If we look at the dataframe that is returned, we may notice several new columns that were not in the original data. These are created when the data is one-hot encoded for machine learning. To remove all the one-hot features, we can pass in `keep_one_hot = False` to the `remove` method. "
   ]
  },
  {
   "cell_type": "code",
   "execution_count": null,
   "metadata": {},
   "outputs": [],
   "source": [
    "train_removed_all = fs.remove(methods = 'all', keep_one_hot=False)"
   ]
  },
  {
   "cell_type": "code",
   "execution_count": null,
   "metadata": {},
   "outputs": [],
   "source": [
    "print('Original Number of Features', train.shape[1])\n",
    "print('Final Number of Features: ', train_removed_all.shape[1])"
   ]
  },
  {
   "cell_type": "markdown",
   "metadata": {},
   "source": [
    "# Alternative Option for Using all Methods\n",
    "\n",
    "If we don't want to run the identification methods one at a time, we can use `identify_all` to run all the methods in one call. For this function, we need to pass in a dictionary of parameters to use for each individual identification method. \n",
    "\n",
    "The following code accomplishes the above steps in one call."
   ]
  },
  {
   "cell_type": "code",
   "execution_count": null,
   "metadata": {},
   "outputs": [],
   "source": [
    "fs = FeatureSelector(data = train, labels = train_labels)\n",
    "\n",
    "fs.identify_all(selection_params = {'missing_threshold': 0.6, 'correlation_threshold': 0.98, \n",
    "                                    'task': 'classification', 'eval_metric': 'auc', \n",
    "                                     'cumulative_importance': 0.99})"
   ]
  },
  {
   "cell_type": "code",
   "execution_count": null,
   "metadata": {},
   "outputs": [],
   "source": [
    "train_removed_all_once = fs.remove(methods = 'all', keep_one_hot = True)"
   ]
  },
  {
   "cell_type": "code",
   "execution_count": null,
   "metadata": {},
   "outputs": [],
   "source": [
    "fs.feature_importances.head()"
   ]
  },
  {
   "cell_type": "markdown",
   "metadata": {},
   "source": [
    "There is a slight discrepancy between the number of features removed because the feature importances have changed. The number of features identified for removal by the `missing`, `single_unique`, and `collinear` will stay the same because they are deterministic, but the number of features from `zero_importance` and `low_importance` may vary due to training a model multiple times. "
   ]
  },
  {
   "cell_type": "markdown",
   "metadata": {},
   "source": [
    "# Conclusions\n",
    "\n",
    "This notebook showed how to use the `FeatureSelector` class for removing features from a dataset. There are a few important notes from this implementation:\n",
    "\n",
    "* Feature importances will change on multiple runs of the machine learning model\n",
    "* Decide whether or not to keep the extra features created from one-hot encoding\n",
    "* Try out several different values for the various parameters to decide which ones work best for a machine learning task\n",
    "* The output of missing, single unique, and collinear will stay the same for the identical parameters\n",
    "* Feature selection is a critical step of a machine learning workflow that may require several iterations to optimize\n",
    "\n",
    "I appreciate any comments, feedback, or help on this project.\n",
    "\n",
    "Will"
   ]
  },
  {
   "cell_type": "code",
   "execution_count": null,
   "metadata": {},
   "outputs": [],
   "source": []
  }
 ],
 "metadata": {
  "kernelspec": {
   "display_name": "Python 3",
   "language": "python",
   "name": "python3"
  },
  "language_info": {
   "codemirror_mode": {
    "name": "ipython",
    "version": 3
   },
   "file_extension": ".py",
   "mimetype": "text/x-python",
   "name": "python",
   "nbconvert_exporter": "python",
   "pygments_lexer": "ipython3",
   "version": "3.7.5"
  }
 },
 "nbformat": 4,
 "nbformat_minor": 2
}
