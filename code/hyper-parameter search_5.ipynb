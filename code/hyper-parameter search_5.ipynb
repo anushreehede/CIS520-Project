{
 "cells": [
  {
   "cell_type": "code",
   "execution_count": 272,
   "metadata": {
    "slideshow": {
     "slide_type": "-"
    }
   },
   "outputs": [
    {
     "data": {
      "text/html": [
       "<style>.container { width:90% !important; }</style>"
      ],
      "text/plain": [
       "<IPython.core.display.HTML object>"
      ]
     },
     "metadata": {},
     "output_type": "display_data"
    },
    {
     "name": "stdout",
     "output_type": "stream",
     "text": [
      "The autoreload extension is already loaded. To reload it, use:\n",
      "  %reload_ext autoreload\n"
     ]
    }
   ],
   "source": [
    "from IPython.core.display import display, HTML\n",
    "display(HTML(\"<style>.container { width:90% !important; }</style>\"))\n",
    "\n",
    "%load_ext autoreload\n",
    "%autoreload 2\n",
    "import pandas as pd\n",
    "from sklearn.preprocessing import OneHotEncoder, normalize, scale\n",
    "from sklearn.feature_selection import *\n",
    "import numpy as np\n",
    "import calendar\n",
    "import re\n",
    "from nltk.tokenize import word_tokenize , sent_tokenize\n",
    "# from spellchecker import SpellChecker\n",
    "# import pyphen\n",
    "# import string\n",
    "# import json\n",
    "# from classifiers import *\n",
    "# from regression import *\n",
    "# from utils import *\n",
    "from sklearn.model_selection import train_test_split, GridSearchCV\n",
    "from sklearn.metrics import *\n",
    "import matplotlib.pyplot as plt\n",
    "import time\n",
    "from sklearn.model_selection import learning_curve\n",
    "from sklearn.dummy import DummyClassifier\n",
    "import sys"
   ]
  },
  {
   "cell_type": "code",
   "execution_count": 71,
   "metadata": {
    "slideshow": {
     "slide_type": "-"
    }
   },
   "outputs": [],
   "source": [
    "from sklearn.preprocessing import StandardScaler\n",
    "from sklearn.linear_model import Ridge, ElasticNet, Lasso, LogisticRegression\n",
    "from sklearn.decomposition import PCA\n",
    "from sklearn.neural_network import MLPRegressor, MLPClassifier\n",
    "from sklearn.ensemble import GradientBoostingClassifier, GradientBoostingRegressor, AdaBoostRegressor, AdaBoostClassifier, RandomForestClassifier\n",
    "from sklearn.neighbors import KNeighborsClassifier\n",
    "from sklearn.tree import DecisionTreeClassifier\n",
    "from sklearn.svm import SVC"
   ]
  },
  {
   "cell_type": "code",
   "execution_count": 72,
   "metadata": {},
   "outputs": [],
   "source": [
    "df_train = pd.read_csv(\"fresh_train_206_5.csv\",engine='python',error_bad_lines=False)\n",
    "df_test = pd.read_csv(\"fresh_test_206_5.csv\",engine='python',error_bad_lines=False)"
   ]
  },
  {
   "cell_type": "code",
   "execution_count": 73,
   "metadata": {},
   "outputs": [
    {
     "data": {
      "text/html": [
       "<div>\n",
       "<style scoped>\n",
       "    .dataframe tbody tr th:only-of-type {\n",
       "        vertical-align: middle;\n",
       "    }\n",
       "\n",
       "    .dataframe tbody tr th {\n",
       "        vertical-align: top;\n",
       "    }\n",
       "\n",
       "    .dataframe thead th {\n",
       "        text-align: right;\n",
       "    }\n",
       "</style>\n",
       "<table border=\"1\" class=\"dataframe\">\n",
       "  <thead>\n",
       "    <tr style=\"text-align: right;\">\n",
       "      <th></th>\n",
       "      <th>usd_goal_real</th>\n",
       "      <th>state</th>\n",
       "      <th>usd_pledged_real</th>\n",
       "      <th>imageCount</th>\n",
       "      <th>category_freq</th>\n",
       "      <th>main_category_freq</th>\n",
       "      <th>country_freq</th>\n",
       "      <th>month_sine</th>\n",
       "      <th>day_sine</th>\n",
       "      <th>duration</th>\n",
       "      <th>...</th>\n",
       "      <th>blurbNumWords</th>\n",
       "      <th>blurbAvgSentLength</th>\n",
       "      <th>blurbSpellingErrors</th>\n",
       "      <th>aboutNumWords</th>\n",
       "      <th>aboutAvgSentLength</th>\n",
       "      <th>aboutMaxSyllables</th>\n",
       "      <th>aboutSpellingErrors</th>\n",
       "      <th>risksNumWords</th>\n",
       "      <th>risksAvgSentLength</th>\n",
       "      <th>risksSpellingErrors</th>\n",
       "    </tr>\n",
       "  </thead>\n",
       "  <tbody>\n",
       "    <tr>\n",
       "      <th>0</th>\n",
       "      <td>9.903538</td>\n",
       "      <td>1</td>\n",
       "      <td>10.371176</td>\n",
       "      <td>7</td>\n",
       "      <td>0.021760</td>\n",
       "      <td>0.151582</td>\n",
       "      <td>0.730588</td>\n",
       "      <td>1.224647e-16</td>\n",
       "      <td>0.781831</td>\n",
       "      <td>34</td>\n",
       "      <td>...</td>\n",
       "      <td>25</td>\n",
       "      <td>6.250000</td>\n",
       "      <td>0</td>\n",
       "      <td>755</td>\n",
       "      <td>21.571429</td>\n",
       "      <td>6</td>\n",
       "      <td>14</td>\n",
       "      <td>156</td>\n",
       "      <td>17.333333</td>\n",
       "      <td>0</td>\n",
       "    </tr>\n",
       "    <tr>\n",
       "      <th>1</th>\n",
       "      <td>10.463132</td>\n",
       "      <td>-1</td>\n",
       "      <td>8.852565</td>\n",
       "      <td>26</td>\n",
       "      <td>0.017671</td>\n",
       "      <td>0.110302</td>\n",
       "      <td>0.730588</td>\n",
       "      <td>-5.000000e-01</td>\n",
       "      <td>0.974928</td>\n",
       "      <td>37</td>\n",
       "      <td>...</td>\n",
       "      <td>26</td>\n",
       "      <td>8.666667</td>\n",
       "      <td>4</td>\n",
       "      <td>610</td>\n",
       "      <td>21.785714</td>\n",
       "      <td>6</td>\n",
       "      <td>29</td>\n",
       "      <td>90</td>\n",
       "      <td>15.000000</td>\n",
       "      <td>3</td>\n",
       "    </tr>\n",
       "    <tr>\n",
       "      <th>2</th>\n",
       "      <td>9.325317</td>\n",
       "      <td>1</td>\n",
       "      <td>9.331629</td>\n",
       "      <td>10</td>\n",
       "      <td>0.012296</td>\n",
       "      <td>0.077590</td>\n",
       "      <td>0.047175</td>\n",
       "      <td>8.660254e-01</td>\n",
       "      <td>-0.433884</td>\n",
       "      <td>39</td>\n",
       "      <td>...</td>\n",
       "      <td>25</td>\n",
       "      <td>12.500000</td>\n",
       "      <td>4</td>\n",
       "      <td>304</td>\n",
       "      <td>23.384615</td>\n",
       "      <td>4</td>\n",
       "      <td>5</td>\n",
       "      <td>272</td>\n",
       "      <td>18.133333</td>\n",
       "      <td>5</td>\n",
       "    </tr>\n",
       "    <tr>\n",
       "      <th>3</th>\n",
       "      <td>8.412055</td>\n",
       "      <td>1</td>\n",
       "      <td>8.423322</td>\n",
       "      <td>32</td>\n",
       "      <td>0.008149</td>\n",
       "      <td>0.048866</td>\n",
       "      <td>0.730588</td>\n",
       "      <td>1.224647e-16</td>\n",
       "      <td>0.000000</td>\n",
       "      <td>29</td>\n",
       "      <td>...</td>\n",
       "      <td>22</td>\n",
       "      <td>11.000000</td>\n",
       "      <td>1</td>\n",
       "      <td>770</td>\n",
       "      <td>16.382979</td>\n",
       "      <td>5</td>\n",
       "      <td>9</td>\n",
       "      <td>51</td>\n",
       "      <td>17.000000</td>\n",
       "      <td>1</td>\n",
       "    </tr>\n",
       "    <tr>\n",
       "      <th>4</th>\n",
       "      <td>10.036926</td>\n",
       "      <td>-1</td>\n",
       "      <td>3.595118</td>\n",
       "      <td>2</td>\n",
       "      <td>0.002789</td>\n",
       "      <td>0.077590</td>\n",
       "      <td>0.007008</td>\n",
       "      <td>1.000000e+00</td>\n",
       "      <td>0.000000</td>\n",
       "      <td>59</td>\n",
       "      <td>...</td>\n",
       "      <td>28</td>\n",
       "      <td>9.333333</td>\n",
       "      <td>0</td>\n",
       "      <td>288</td>\n",
       "      <td>22.153846</td>\n",
       "      <td>5</td>\n",
       "      <td>67</td>\n",
       "      <td>89</td>\n",
       "      <td>17.800000</td>\n",
       "      <td>22</td>\n",
       "    </tr>\n",
       "  </tbody>\n",
       "</table>\n",
       "<p>5 rows × 22 columns</p>\n",
       "</div>"
      ],
      "text/plain": [
       "   usd_goal_real  state  usd_pledged_real  imageCount  category_freq  \\\n",
       "0       9.903538      1         10.371176           7       0.021760   \n",
       "1      10.463132     -1          8.852565          26       0.017671   \n",
       "2       9.325317      1          9.331629          10       0.012296   \n",
       "3       8.412055      1          8.423322          32       0.008149   \n",
       "4      10.036926     -1          3.595118           2       0.002789   \n",
       "\n",
       "   main_category_freq  country_freq    month_sine  day_sine  duration  ...  \\\n",
       "0            0.151582      0.730588  1.224647e-16  0.781831        34  ...   \n",
       "1            0.110302      0.730588 -5.000000e-01  0.974928        37  ...   \n",
       "2            0.077590      0.047175  8.660254e-01 -0.433884        39  ...   \n",
       "3            0.048866      0.730588  1.224647e-16  0.000000        29  ...   \n",
       "4            0.077590      0.007008  1.000000e+00  0.000000        59  ...   \n",
       "\n",
       "   blurbNumWords  blurbAvgSentLength  blurbSpellingErrors  aboutNumWords  \\\n",
       "0             25            6.250000                    0            755   \n",
       "1             26            8.666667                    4            610   \n",
       "2             25           12.500000                    4            304   \n",
       "3             22           11.000000                    1            770   \n",
       "4             28            9.333333                    0            288   \n",
       "\n",
       "   aboutAvgSentLength  aboutMaxSyllables  aboutSpellingErrors  risksNumWords  \\\n",
       "0           21.571429                  6                   14            156   \n",
       "1           21.785714                  6                   29             90   \n",
       "2           23.384615                  4                    5            272   \n",
       "3           16.382979                  5                    9             51   \n",
       "4           22.153846                  5                   67             89   \n",
       "\n",
       "   risksAvgSentLength  risksSpellingErrors  \n",
       "0           17.333333                    0  \n",
       "1           15.000000                    3  \n",
       "2           18.133333                    5  \n",
       "3           17.000000                    1  \n",
       "4           17.800000                   22  \n",
       "\n",
       "[5 rows x 22 columns]"
      ]
     },
     "execution_count": 73,
     "metadata": {},
     "output_type": "execute_result"
    }
   ],
   "source": [
    "df_train.head()"
   ]
  },
  {
   "cell_type": "code",
   "execution_count": 74,
   "metadata": {},
   "outputs": [
    {
     "data": {
      "text/html": [
       "<div>\n",
       "<style scoped>\n",
       "    .dataframe tbody tr th:only-of-type {\n",
       "        vertical-align: middle;\n",
       "    }\n",
       "\n",
       "    .dataframe tbody tr th {\n",
       "        vertical-align: top;\n",
       "    }\n",
       "\n",
       "    .dataframe thead th {\n",
       "        text-align: right;\n",
       "    }\n",
       "</style>\n",
       "<table border=\"1\" class=\"dataframe\">\n",
       "  <thead>\n",
       "    <tr style=\"text-align: right;\">\n",
       "      <th></th>\n",
       "      <th>usd_goal_real</th>\n",
       "      <th>state</th>\n",
       "      <th>usd_pledged_real</th>\n",
       "      <th>imageCount</th>\n",
       "      <th>category_freq</th>\n",
       "      <th>main_category_freq</th>\n",
       "      <th>country_freq</th>\n",
       "      <th>month_sine</th>\n",
       "      <th>day_sine</th>\n",
       "      <th>duration</th>\n",
       "      <th>...</th>\n",
       "      <th>blurbNumWords</th>\n",
       "      <th>blurbAvgSentLength</th>\n",
       "      <th>blurbSpellingErrors</th>\n",
       "      <th>aboutNumWords</th>\n",
       "      <th>aboutAvgSentLength</th>\n",
       "      <th>aboutMaxSyllables</th>\n",
       "      <th>aboutSpellingErrors</th>\n",
       "      <th>risksNumWords</th>\n",
       "      <th>risksAvgSentLength</th>\n",
       "      <th>risksSpellingErrors</th>\n",
       "    </tr>\n",
       "  </thead>\n",
       "  <tbody>\n",
       "    <tr>\n",
       "      <th>0</th>\n",
       "      <td>6.571023</td>\n",
       "      <td>1</td>\n",
       "      <td>6.667720</td>\n",
       "      <td>18</td>\n",
       "      <td>0.013452</td>\n",
       "      <td>0.025603</td>\n",
       "      <td>0.007008</td>\n",
       "      <td>-8.660254e-01</td>\n",
       "      <td>0.781831</td>\n",
       "      <td>24</td>\n",
       "      <td>...</td>\n",
       "      <td>29</td>\n",
       "      <td>9.666667</td>\n",
       "      <td>9</td>\n",
       "      <td>585</td>\n",
       "      <td>24.375000</td>\n",
       "      <td>8</td>\n",
       "      <td>84</td>\n",
       "      <td>82</td>\n",
       "      <td>16.400000</td>\n",
       "      <td>15</td>\n",
       "    </tr>\n",
       "    <tr>\n",
       "      <th>1</th>\n",
       "      <td>6.477895</td>\n",
       "      <td>1</td>\n",
       "      <td>6.479876</td>\n",
       "      <td>45</td>\n",
       "      <td>0.015431</td>\n",
       "      <td>0.048866</td>\n",
       "      <td>0.114246</td>\n",
       "      <td>1.224647e-16</td>\n",
       "      <td>-0.974928</td>\n",
       "      <td>29</td>\n",
       "      <td>...</td>\n",
       "      <td>23</td>\n",
       "      <td>7.666667</td>\n",
       "      <td>0</td>\n",
       "      <td>331</td>\n",
       "      <td>23.642857</td>\n",
       "      <td>4</td>\n",
       "      <td>9</td>\n",
       "      <td>70</td>\n",
       "      <td>17.500000</td>\n",
       "      <td>1</td>\n",
       "    </tr>\n",
       "    <tr>\n",
       "      <th>2</th>\n",
       "      <td>9.736226</td>\n",
       "      <td>-1</td>\n",
       "      <td>6.934777</td>\n",
       "      <td>21</td>\n",
       "      <td>0.008149</td>\n",
       "      <td>0.048866</td>\n",
       "      <td>0.002196</td>\n",
       "      <td>8.660254e-01</td>\n",
       "      <td>0.433884</td>\n",
       "      <td>31</td>\n",
       "      <td>...</td>\n",
       "      <td>14</td>\n",
       "      <td>7.000000</td>\n",
       "      <td>1</td>\n",
       "      <td>855</td>\n",
       "      <td>23.750000</td>\n",
       "      <td>6</td>\n",
       "      <td>31</td>\n",
       "      <td>69</td>\n",
       "      <td>13.800000</td>\n",
       "      <td>0</td>\n",
       "    </tr>\n",
       "    <tr>\n",
       "      <th>3</th>\n",
       "      <td>8.006701</td>\n",
       "      <td>-1</td>\n",
       "      <td>0.000000</td>\n",
       "      <td>2</td>\n",
       "      <td>0.007094</td>\n",
       "      <td>0.038939</td>\n",
       "      <td>0.730588</td>\n",
       "      <td>1.224647e-16</td>\n",
       "      <td>0.974928</td>\n",
       "      <td>30</td>\n",
       "      <td>...</td>\n",
       "      <td>18</td>\n",
       "      <td>6.000000</td>\n",
       "      <td>0</td>\n",
       "      <td>143</td>\n",
       "      <td>23.833333</td>\n",
       "      <td>4</td>\n",
       "      <td>6</td>\n",
       "      <td>49</td>\n",
       "      <td>16.333333</td>\n",
       "      <td>0</td>\n",
       "    </tr>\n",
       "    <tr>\n",
       "      <th>4</th>\n",
       "      <td>5.660144</td>\n",
       "      <td>1</td>\n",
       "      <td>5.660144</td>\n",
       "      <td>7</td>\n",
       "      <td>0.015056</td>\n",
       "      <td>0.143130</td>\n",
       "      <td>0.114246</td>\n",
       "      <td>1.000000e+00</td>\n",
       "      <td>0.974928</td>\n",
       "      <td>29</td>\n",
       "      <td>...</td>\n",
       "      <td>22</td>\n",
       "      <td>11.000000</td>\n",
       "      <td>1</td>\n",
       "      <td>206</td>\n",
       "      <td>20.600000</td>\n",
       "      <td>6</td>\n",
       "      <td>8</td>\n",
       "      <td>37</td>\n",
       "      <td>18.500000</td>\n",
       "      <td>0</td>\n",
       "    </tr>\n",
       "  </tbody>\n",
       "</table>\n",
       "<p>5 rows × 22 columns</p>\n",
       "</div>"
      ],
      "text/plain": [
       "   usd_goal_real  state  usd_pledged_real  imageCount  category_freq  \\\n",
       "0       6.571023      1          6.667720          18       0.013452   \n",
       "1       6.477895      1          6.479876          45       0.015431   \n",
       "2       9.736226     -1          6.934777          21       0.008149   \n",
       "3       8.006701     -1          0.000000           2       0.007094   \n",
       "4       5.660144      1          5.660144           7       0.015056   \n",
       "\n",
       "   main_category_freq  country_freq    month_sine  day_sine  duration  ...  \\\n",
       "0            0.025603      0.007008 -8.660254e-01  0.781831        24  ...   \n",
       "1            0.048866      0.114246  1.224647e-16 -0.974928        29  ...   \n",
       "2            0.048866      0.002196  8.660254e-01  0.433884        31  ...   \n",
       "3            0.038939      0.730588  1.224647e-16  0.974928        30  ...   \n",
       "4            0.143130      0.114246  1.000000e+00  0.974928        29  ...   \n",
       "\n",
       "   blurbNumWords  blurbAvgSentLength  blurbSpellingErrors  aboutNumWords  \\\n",
       "0             29            9.666667                    9            585   \n",
       "1             23            7.666667                    0            331   \n",
       "2             14            7.000000                    1            855   \n",
       "3             18            6.000000                    0            143   \n",
       "4             22           11.000000                    1            206   \n",
       "\n",
       "   aboutAvgSentLength  aboutMaxSyllables  aboutSpellingErrors  risksNumWords  \\\n",
       "0           24.375000                  8                   84             82   \n",
       "1           23.642857                  4                    9             70   \n",
       "2           23.750000                  6                   31             69   \n",
       "3           23.833333                  4                    6             49   \n",
       "4           20.600000                  6                    8             37   \n",
       "\n",
       "   risksAvgSentLength  risksSpellingErrors  \n",
       "0           16.400000                   15  \n",
       "1           17.500000                    1  \n",
       "2           13.800000                    0  \n",
       "3           16.333333                    0  \n",
       "4           18.500000                    0  \n",
       "\n",
       "[5 rows x 22 columns]"
      ]
     },
     "execution_count": 74,
     "metadata": {},
     "output_type": "execute_result"
    }
   ],
   "source": [
    "df_test.head()"
   ]
  },
  {
   "cell_type": "code",
   "execution_count": 75,
   "metadata": {
    "scrolled": true
   },
   "outputs": [
    {
     "data": {
      "text/plain": [
       "['usd_goal_real',\n",
       " 'state',\n",
       " 'usd_pledged_real',\n",
       " 'imageCount',\n",
       " 'category_freq',\n",
       " 'main_category_freq',\n",
       " 'country_freq',\n",
       " 'month_sine',\n",
       " 'day_sine',\n",
       " 'duration',\n",
       " 'mean_category_goal',\n",
       " 'mean_main_category_goal',\n",
       " 'blurbNumWords',\n",
       " 'blurbAvgSentLength',\n",
       " 'blurbSpellingErrors',\n",
       " 'aboutNumWords',\n",
       " 'aboutAvgSentLength',\n",
       " 'aboutMaxSyllables',\n",
       " 'aboutSpellingErrors',\n",
       " 'risksNumWords',\n",
       " 'risksAvgSentLength',\n",
       " 'risksSpellingErrors']"
      ]
     },
     "execution_count": 75,
     "metadata": {},
     "output_type": "execute_result"
    }
   ],
   "source": [
    "list(df_train.columns) "
   ]
  },
  {
   "cell_type": "code",
   "execution_count": 153,
   "metadata": {},
   "outputs": [],
   "source": [
    "classificationTrain_X = df_train.drop(['state','usd_pledged_real','blurbSpellingErrors'],axis=1)\n",
    "classificationTrain_y = df_train['state']\n",
    "classificationTest_X = df_test.drop(['state','usd_pledged_real','blurbSpellingErrors'],axis=1)\n",
    "classificationTest_y = df_test['state']\n",
    "\n",
    "# regressionTrain_X = df_train.drop(['state','usd_pledged_real'],axis=1)\n",
    "# regressionTrain_y = df_train['usd_pledged_real']\n",
    "# regressionTest_X = df_test.drop(['state','usd_pledged_real'],axis=1)\n",
    "# regressionTest_y =df_test['usd_pledged_real']"
   ]
  },
  {
   "cell_type": "code",
   "execution_count": 77,
   "metadata": {},
   "outputs": [],
   "source": [
    "# # removing all failed projects\n",
    "# regression_train_X_2 = df_train[df_train.state == 1]\n",
    "# regression_train_X_2 = regression_train_X_2.drop(['state','usd_pledged_real','blurbSpellingErrors'],axis=1)\n",
    "# regression_train_y_2 = df_train[df_train.state == 1]['usd_pledged_real']\n",
    "\n",
    "\n",
    "# regression_test_X_2 = df_test[df_test.state == 1]\n",
    "# regression_test_X_2 = regression_test_X_2.drop(['state','usd_pledged_real','blurbSpellingErrors'],axis=1)\n",
    "# regression_test_y_2 = df_test[df_test.state == 1]['usd_pledged_real']"
   ]
  },
  {
   "cell_type": "code",
   "execution_count": 163,
   "metadata": {
    "scrolled": true
   },
   "outputs": [],
   "source": [
    "regression_train_X_2 = df_train[np.divide(np.exp(df_train.usd_pledged_real-1),np.exp(df_train.usd_goal_real-1))>=0.5]\n",
    "regression_train_X_2 = regression_train_X_2.drop(['state','usd_pledged_real'],axis=1)\n",
    "regression_train_y_2 = df_train[np.divide(np.exp(df_train.usd_pledged_real-1),np.exp(df_train.usd_goal_real-1))>=0.5]['usd_pledged_real']\n",
    "\n",
    "regression_test_X_2 = df_test[np.divide(np.exp(df_test.usd_pledged_real-1),np.exp(df_test.usd_goal_real-1))>=0.5]\n",
    "regression_test_X_2 = regression_test_X_2.drop(['state','usd_pledged_real'],axis=1)\n",
    "regression_test_y_2 = df_test[np.divide(np.exp(df_test.usd_pledged_real-1),np.exp(df_test.usd_goal_real-1))>=0.5]['usd_pledged_real']"
   ]
  },
  {
   "cell_type": "markdown",
   "metadata": {},
   "source": [
    "### AUC, regression metrics, and training plots generation"
   ]
  },
  {
   "cell_type": "code",
   "execution_count": 122,
   "metadata": {},
   "outputs": [],
   "source": [
    "# function to print the classification report containing the F1 score, precision, recall and accuracy\n",
    "# and the area under the ROC curve\n",
    "def aucgenerate(test_y,y_pred):\n",
    "    print(classification_report(test_y,y_pred))\n",
    "    print('Area under ROC curve')\n",
    "    print(roc_auc_score(test_y,y_pred))\n",
    "\n",
    "def regression_metrics(y_test,y_pred):\n",
    "    print('Mean Squared Error')\n",
    "    print(mean_squared_error(y_test,y_pred))\n",
    "    print('Explained variance')\n",
    "    print(explained_variance_score(y_test,y_pred))\n",
    "    print('Mean square log error')\n",
    "    print(mean_squared_log_error(np.exp(y_test),np.exp(y_pred)))\n",
    "    print('Median absolute error')\n",
    "    print(median_absolute_error(y_test, y_pred))\n",
    "    \n",
    "def plot_accuracy(func,params,X,y):\n",
    "    # Create CV training and test scores for various training set sizes\n",
    "    train_sizes, train_scores, test_scores = learning_curve(func(**params), \n",
    "                                                            X, \n",
    "                                                            y,\n",
    "                                                            # Number of folds in cross-validation\n",
    "                                                            cv=10,\n",
    "                                                            # Evaluation metric\n",
    "                                                            scoring='accuracy',\n",
    "                                                            # Use all computer cores\n",
    "                                                            n_jobs=-1, \n",
    "                                                            # 50 different sizes of the training set\n",
    "                                                            train_sizes=np.linspace(0.01, 1.0, 50))\n",
    "\n",
    "    # Create means and standard deviations of training set scores\n",
    "    train_mean = np.mean(train_scores, axis=1)\n",
    "    train_std = np.std(train_scores, axis=1)\n",
    "\n",
    "    # Create means and standard deviations of test set scores\n",
    "    test_mean = np.mean(test_scores, axis=1)\n",
    "    test_std = np.std(test_scores, axis=1)\n",
    "    beingsaved = plt.figure()\n",
    "    # Draw lines\n",
    "    plt.plot(train_sizes, train_mean, '--', color=\"#111111\",  label=\"Training score\")\n",
    "    plt.plot(train_sizes, test_mean, color=\"#111111\", label=\"Cross-validation score\")\n",
    "\n",
    "    # Draw bands\n",
    "    plt.fill_between(train_sizes, train_mean - train_std, train_mean + train_std, color=\"#DDDDDD\")\n",
    "    plt.fill_between(train_sizes, test_mean - test_std, test_mean + test_std, color=\"#DDDDDD\")\n",
    "\n",
    "    # Create plot\n",
    "    plt.title(\"Learning Curve\")\n",
    "    plt.xlabel(\"Training Set Size\"), plt.ylabel(\"Accuracy Score\"), plt.legend(loc=\"best\")\n",
    "    plt.tight_layout()\n",
    "    plt.show()\n",
    "    return beingsaved"
   ]
  },
  {
   "cell_type": "markdown",
   "metadata": {},
   "source": [
    "## Regression Hyperparameter tuning"
   ]
  },
  {
   "cell_type": "markdown",
   "metadata": {},
   "source": [
    "### Adaboost for regression"
   ]
  },
  {
   "cell_type": "code",
   "execution_count": 11,
   "metadata": {
    "scrolled": true
   },
   "outputs": [
    {
     "name": "stdout",
     "output_type": "stream",
     "text": [
      "Fitting 10 folds for each of 27 candidates, totalling 270 fits\n"
     ]
    },
    {
     "name": "stderr",
     "output_type": "stream",
     "text": [
      "[Parallel(n_jobs=-1)]: Using backend LokyBackend with 12 concurrent workers.\n",
      "[Parallel(n_jobs=-1)]: Done   1 tasks      | elapsed:    7.6s\n",
      "[Parallel(n_jobs=-1)]: Done   2 tasks      | elapsed:    7.7s\n",
      "[Parallel(n_jobs=-1)]: Done   3 tasks      | elapsed:    7.9s\n",
      "[Parallel(n_jobs=-1)]: Done   4 tasks      | elapsed:    8.0s\n",
      "[Parallel(n_jobs=-1)]: Done   5 tasks      | elapsed:    8.1s\n",
      "[Parallel(n_jobs=-1)]: Done   6 tasks      | elapsed:    8.1s\n",
      "[Parallel(n_jobs=-1)]: Done   7 tasks      | elapsed:    8.1s\n",
      "[Parallel(n_jobs=-1)]: Done   8 tasks      | elapsed:    8.1s\n",
      "[Parallel(n_jobs=-1)]: Done   9 tasks      | elapsed:    8.3s\n",
      "[Parallel(n_jobs=-1)]: Done  10 tasks      | elapsed:    8.4s\n",
      "[Parallel(n_jobs=-1)]: Done  11 tasks      | elapsed:    9.1s\n",
      "[Parallel(n_jobs=-1)]: Done  12 tasks      | elapsed:    9.2s\n",
      "[Parallel(n_jobs=-1)]: Done  13 tasks      | elapsed:   15.7s\n",
      "[Parallel(n_jobs=-1)]: Done  14 tasks      | elapsed:   15.9s\n",
      "[Parallel(n_jobs=-1)]: Done  15 tasks      | elapsed:   16.0s\n",
      "[Parallel(n_jobs=-1)]: Done  16 tasks      | elapsed:   16.1s\n",
      "[Parallel(n_jobs=-1)]: Done  17 tasks      | elapsed:   16.2s\n",
      "[Parallel(n_jobs=-1)]: Done  18 tasks      | elapsed:   16.3s\n",
      "[Parallel(n_jobs=-1)]: Done  19 tasks      | elapsed:   17.1s\n",
      "[Parallel(n_jobs=-1)]: Done  20 tasks      | elapsed:   17.5s\n",
      "[Parallel(n_jobs=-1)]: Done  21 tasks      | elapsed:  1.4min\n",
      "[Parallel(n_jobs=-1)]: Done  22 tasks      | elapsed:  1.4min\n",
      "[Parallel(n_jobs=-1)]: Done  23 tasks      | elapsed:  1.5min\n",
      "[Parallel(n_jobs=-1)]: Done  24 tasks      | elapsed:  1.5min\n",
      "[Parallel(n_jobs=-1)]: Done  25 tasks      | elapsed:  1.5min\n",
      "[Parallel(n_jobs=-1)]: Done  26 tasks      | elapsed:  1.5min\n",
      "[Parallel(n_jobs=-1)]: Done  27 tasks      | elapsed:  1.5min\n",
      "[Parallel(n_jobs=-1)]: Done  28 tasks      | elapsed:  1.5min\n",
      "[Parallel(n_jobs=-1)]: Done  29 tasks      | elapsed:  1.6min\n",
      "[Parallel(n_jobs=-1)]: Done  30 tasks      | elapsed:  1.6min\n",
      "[Parallel(n_jobs=-1)]: Done  31 tasks      | elapsed:  3.0min\n",
      "[Parallel(n_jobs=-1)]: Done  32 tasks      | elapsed:  3.0min\n",
      "[Parallel(n_jobs=-1)]: Done  33 tasks      | elapsed:  3.7min\n",
      "[Parallel(n_jobs=-1)]: Done  34 tasks      | elapsed:  3.7min\n",
      "[Parallel(n_jobs=-1)]: Done  35 tasks      | elapsed:  3.8min\n",
      "[Parallel(n_jobs=-1)]: Done  36 tasks      | elapsed:  3.8min\n",
      "[Parallel(n_jobs=-1)]: Done  37 tasks      | elapsed:  3.9min\n",
      "[Parallel(n_jobs=-1)]: Done  38 tasks      | elapsed:  3.9min\n",
      "[Parallel(n_jobs=-1)]: Done  39 tasks      | elapsed:  3.9min\n",
      "[Parallel(n_jobs=-1)]: Done  40 tasks      | elapsed:  3.9min\n",
      "[Parallel(n_jobs=-1)]: Done  41 tasks      | elapsed:  4.8min\n",
      "[Parallel(n_jobs=-1)]: Done  42 tasks      | elapsed:  4.9min\n",
      "[Parallel(n_jobs=-1)]: Done  43 tasks      | elapsed:  6.4min\n",
      "[Parallel(n_jobs=-1)]: Done  44 tasks      | elapsed:  6.4min\n",
      "[Parallel(n_jobs=-1)]: Done  45 tasks      | elapsed:  6.4min\n",
      "[Parallel(n_jobs=-1)]: Done  46 tasks      | elapsed:  6.4min\n",
      "[Parallel(n_jobs=-1)]: Done  47 tasks      | elapsed:  6.5min\n",
      "[Parallel(n_jobs=-1)]: Done  48 tasks      | elapsed:  6.5min\n",
      "[Parallel(n_jobs=-1)]: Done  49 tasks      | elapsed:  6.7min\n",
      "[Parallel(n_jobs=-1)]: Done  50 tasks      | elapsed:  6.7min\n",
      "[Parallel(n_jobs=-1)]: Done  51 tasks      | elapsed:  7.3min\n",
      "[Parallel(n_jobs=-1)]: Done  52 tasks      | elapsed:  7.4min\n",
      "[Parallel(n_jobs=-1)]: Done  53 tasks      | elapsed:  8.9min\n",
      "[Parallel(n_jobs=-1)]: Done  54 tasks      | elapsed:  8.9min\n",
      "[Parallel(n_jobs=-1)]: Done  55 tasks      | elapsed:  9.8min\n",
      "[Parallel(n_jobs=-1)]: Done  56 tasks      | elapsed:  9.8min\n",
      "[Parallel(n_jobs=-1)]: Done  57 tasks      | elapsed:  9.9min\n",
      "[Parallel(n_jobs=-1)]: Done  58 tasks      | elapsed:  9.9min\n",
      "[Parallel(n_jobs=-1)]: Done  59 tasks      | elapsed: 10.3min\n",
      "[Parallel(n_jobs=-1)]: Done  60 tasks      | elapsed: 10.4min\n",
      "[Parallel(n_jobs=-1)]: Done  61 tasks      | elapsed: 10.6min\n",
      "[Parallel(n_jobs=-1)]: Done  62 tasks      | elapsed: 10.6min\n",
      "[Parallel(n_jobs=-1)]: Done  63 tasks      | elapsed: 11.3min\n",
      "[Parallel(n_jobs=-1)]: Done  64 tasks      | elapsed: 11.3min\n",
      "[Parallel(n_jobs=-1)]: Done  65 tasks      | elapsed: 13.4min\n",
      "[Parallel(n_jobs=-1)]: Done  66 tasks      | elapsed: 13.4min\n",
      "[Parallel(n_jobs=-1)]: Done  67 tasks      | elapsed: 13.6min\n",
      "[Parallel(n_jobs=-1)]: Done  68 tasks      | elapsed: 13.6min\n",
      "[Parallel(n_jobs=-1)]: Done  69 tasks      | elapsed: 13.7min\n",
      "[Parallel(n_jobs=-1)]: Done  70 tasks      | elapsed: 13.7min\n",
      "[Parallel(n_jobs=-1)]: Done  71 tasks      | elapsed: 15.1min\n",
      "[Parallel(n_jobs=-1)]: Done  72 tasks      | elapsed: 15.2min\n",
      "[Parallel(n_jobs=-1)]: Done  73 tasks      | elapsed: 15.6min\n",
      "[Parallel(n_jobs=-1)]: Done  74 tasks      | elapsed: 15.6min\n",
      "[Parallel(n_jobs=-1)]: Done  75 tasks      | elapsed: 15.8min\n",
      "[Parallel(n_jobs=-1)]: Done  76 tasks      | elapsed: 15.9min\n",
      "[Parallel(n_jobs=-1)]: Done  77 tasks      | elapsed: 18.0min\n",
      "[Parallel(n_jobs=-1)]: Done  78 tasks      | elapsed: 18.1min\n",
      "[Parallel(n_jobs=-1)]: Done  79 tasks      | elapsed: 18.7min\n",
      "[Parallel(n_jobs=-1)]: Done  80 tasks      | elapsed: 18.8min\n",
      "[Parallel(n_jobs=-1)]: Done  81 tasks      | elapsed: 18.8min\n",
      "[Parallel(n_jobs=-1)]: Done  82 tasks      | elapsed: 18.9min\n",
      "[Parallel(n_jobs=-1)]: Done  83 tasks      | elapsed: 18.9min\n",
      "[Parallel(n_jobs=-1)]: Done  84 tasks      | elapsed: 19.0min\n",
      "[Parallel(n_jobs=-1)]: Done  85 tasks      | elapsed: 19.1min\n",
      "[Parallel(n_jobs=-1)]: Done  86 tasks      | elapsed: 19.1min\n",
      "[Parallel(n_jobs=-1)]: Done  87 tasks      | elapsed: 19.2min\n",
      "[Parallel(n_jobs=-1)]: Done  88 tasks      | elapsed: 19.3min\n",
      "[Parallel(n_jobs=-1)]: Done  89 tasks      | elapsed: 19.3min\n",
      "[Parallel(n_jobs=-1)]: Done  90 tasks      | elapsed: 19.4min\n",
      "[Parallel(n_jobs=-1)]: Done  91 tasks      | elapsed: 19.4min\n",
      "[Parallel(n_jobs=-1)]: Done  92 tasks      | elapsed: 19.5min\n",
      "[Parallel(n_jobs=-1)]: Done  93 tasks      | elapsed: 19.6min\n",
      "[Parallel(n_jobs=-1)]: Done  94 tasks      | elapsed: 19.7min\n",
      "[Parallel(n_jobs=-1)]: Done  95 tasks      | elapsed: 19.7min\n",
      "[Parallel(n_jobs=-1)]: Done  96 tasks      | elapsed: 19.8min\n",
      "[Parallel(n_jobs=-1)]: Done  97 tasks      | elapsed: 19.9min\n",
      "[Parallel(n_jobs=-1)]: Done  98 tasks      | elapsed: 20.0min\n",
      "[Parallel(n_jobs=-1)]: Done  99 tasks      | elapsed: 20.0min\n",
      "[Parallel(n_jobs=-1)]: Done 100 tasks      | elapsed: 20.1min\n",
      "[Parallel(n_jobs=-1)]: Done 101 tasks      | elapsed: 20.1min\n",
      "[Parallel(n_jobs=-1)]: Done 102 tasks      | elapsed: 20.1min\n",
      "[Parallel(n_jobs=-1)]: Done 103 tasks      | elapsed: 21.3min\n",
      "[Parallel(n_jobs=-1)]: Done 104 tasks      | elapsed: 21.3min\n",
      "[Parallel(n_jobs=-1)]: Done 105 tasks      | elapsed: 21.5min\n",
      "[Parallel(n_jobs=-1)]: Done 106 tasks      | elapsed: 21.6min\n",
      "[Parallel(n_jobs=-1)]: Done 107 tasks      | elapsed: 21.7min\n",
      "[Parallel(n_jobs=-1)]: Done 108 tasks      | elapsed: 21.8min\n",
      "[Parallel(n_jobs=-1)]: Done 109 tasks      | elapsed: 22.4min\n",
      "[Parallel(n_jobs=-1)]: Done 110 tasks      | elapsed: 22.5min\n",
      "[Parallel(n_jobs=-1)]: Done 111 tasks      | elapsed: 22.6min\n",
      "[Parallel(n_jobs=-1)]: Done 112 tasks      | elapsed: 22.6min\n",
      "[Parallel(n_jobs=-1)]: Done 113 tasks      | elapsed: 23.0min\n",
      "[Parallel(n_jobs=-1)]: Done 114 tasks      | elapsed: 23.0min\n",
      "[Parallel(n_jobs=-1)]: Done 115 tasks      | elapsed: 23.0min\n",
      "[Parallel(n_jobs=-1)]: Done 116 tasks      | elapsed: 23.1min\n",
      "[Parallel(n_jobs=-1)]: Done 117 tasks      | elapsed: 23.3min\n",
      "[Parallel(n_jobs=-1)]: Done 118 tasks      | elapsed: 23.3min\n",
      "[Parallel(n_jobs=-1)]: Done 119 tasks      | elapsed: 24.4min\n",
      "[Parallel(n_jobs=-1)]: Done 120 tasks      | elapsed: 24.4min\n",
      "[Parallel(n_jobs=-1)]: Done 121 tasks      | elapsed: 25.0min\n",
      "[Parallel(n_jobs=-1)]: Done 122 tasks      | elapsed: 25.0min\n",
      "[Parallel(n_jobs=-1)]: Done 123 tasks      | elapsed: 25.0min\n",
      "[Parallel(n_jobs=-1)]: Done 124 tasks      | elapsed: 25.0min\n",
      "[Parallel(n_jobs=-1)]: Done 125 tasks      | elapsed: 25.5min\n",
      "[Parallel(n_jobs=-1)]: Done 126 tasks      | elapsed: 25.5min\n",
      "[Parallel(n_jobs=-1)]: Done 127 tasks      | elapsed: 25.9min\n",
      "[Parallel(n_jobs=-1)]: Done 128 tasks      | elapsed: 26.0min\n",
      "[Parallel(n_jobs=-1)]: Done 129 tasks      | elapsed: 26.1min\n",
      "[Parallel(n_jobs=-1)]: Done 130 tasks      | elapsed: 26.2min\n",
      "[Parallel(n_jobs=-1)]: Done 131 tasks      | elapsed: 27.2min\n"
     ]
    },
    {
     "name": "stderr",
     "output_type": "stream",
     "text": [
      "[Parallel(n_jobs=-1)]: Done 132 tasks      | elapsed: 27.3min\n",
      "[Parallel(n_jobs=-1)]: Done 133 tasks      | elapsed: 27.9min\n",
      "[Parallel(n_jobs=-1)]: Done 134 tasks      | elapsed: 27.9min\n",
      "[Parallel(n_jobs=-1)]: Done 135 tasks      | elapsed: 27.9min\n",
      "[Parallel(n_jobs=-1)]: Done 136 tasks      | elapsed: 27.9min\n",
      "[Parallel(n_jobs=-1)]: Done 137 tasks      | elapsed: 28.4min\n",
      "[Parallel(n_jobs=-1)]: Done 138 tasks      | elapsed: 28.5min\n",
      "[Parallel(n_jobs=-1)]: Done 139 tasks      | elapsed: 29.3min\n",
      "[Parallel(n_jobs=-1)]: Done 140 tasks      | elapsed: 29.5min\n",
      "[Parallel(n_jobs=-1)]: Done 141 tasks      | elapsed: 30.5min\n",
      "[Parallel(n_jobs=-1)]: Done 142 tasks      | elapsed: 30.5min\n",
      "[Parallel(n_jobs=-1)]: Done 143 tasks      | elapsed: 30.8min\n",
      "[Parallel(n_jobs=-1)]: Done 144 tasks      | elapsed: 30.9min\n",
      "[Parallel(n_jobs=-1)]: Done 145 tasks      | elapsed: 31.4min\n",
      "[Parallel(n_jobs=-1)]: Done 146 tasks      | elapsed: 31.4min\n",
      "[Parallel(n_jobs=-1)]: Done 147 tasks      | elapsed: 31.5min\n",
      "[Parallel(n_jobs=-1)]: Done 148 tasks      | elapsed: 31.6min\n",
      "[Parallel(n_jobs=-1)]: Done 149 tasks      | elapsed: 32.0min\n",
      "[Parallel(n_jobs=-1)]: Done 150 tasks      | elapsed: 32.0min\n",
      "[Parallel(n_jobs=-1)]: Done 151 tasks      | elapsed: 33.8min\n",
      "[Parallel(n_jobs=-1)]: Done 152 tasks      | elapsed: 34.4min\n",
      "[Parallel(n_jobs=-1)]: Done 153 tasks      | elapsed: 34.9min\n",
      "[Parallel(n_jobs=-1)]: Done 154 tasks      | elapsed: 34.9min\n",
      "[Parallel(n_jobs=-1)]: Done 155 tasks      | elapsed: 35.5min\n",
      "[Parallel(n_jobs=-1)]: Done 156 tasks      | elapsed: 35.5min\n",
      "[Parallel(n_jobs=-1)]: Done 157 tasks      | elapsed: 35.5min\n",
      "[Parallel(n_jobs=-1)]: Done 158 tasks      | elapsed: 35.6min\n",
      "[Parallel(n_jobs=-1)]: Done 159 tasks      | elapsed: 35.6min\n",
      "[Parallel(n_jobs=-1)]: Done 160 tasks      | elapsed: 36.2min\n",
      "[Parallel(n_jobs=-1)]: Done 161 tasks      | elapsed: 36.8min\n",
      "[Parallel(n_jobs=-1)]: Done 162 tasks      | elapsed: 36.8min\n",
      "[Parallel(n_jobs=-1)]: Done 163 tasks      | elapsed: 39.2min\n",
      "[Parallel(n_jobs=-1)]: Done 164 tasks      | elapsed: 39.8min\n",
      "[Parallel(n_jobs=-1)]: Done 165 tasks      | elapsed: 39.8min\n",
      "[Parallel(n_jobs=-1)]: Done 166 tasks      | elapsed: 40.3min\n",
      "[Parallel(n_jobs=-1)]: Done 167 tasks      | elapsed: 40.4min\n",
      "[Parallel(n_jobs=-1)]: Done 168 tasks      | elapsed: 40.8min\n",
      "[Parallel(n_jobs=-1)]: Done 169 tasks      | elapsed: 40.9min\n",
      "[Parallel(n_jobs=-1)]: Done 170 tasks      | elapsed: 41.0min\n",
      "[Parallel(n_jobs=-1)]: Done 171 tasks      | elapsed: 41.1min\n",
      "[Parallel(n_jobs=-1)]: Done 172 tasks      | elapsed: 41.2min\n",
      "[Parallel(n_jobs=-1)]: Done 173 tasks      | elapsed: 41.2min\n",
      "[Parallel(n_jobs=-1)]: Done 174 tasks      | elapsed: 41.3min\n",
      "[Parallel(n_jobs=-1)]: Done 175 tasks      | elapsed: 41.3min\n",
      "[Parallel(n_jobs=-1)]: Done 176 tasks      | elapsed: 41.3min\n",
      "[Parallel(n_jobs=-1)]: Done 177 tasks      | elapsed: 41.4min\n",
      "[Parallel(n_jobs=-1)]: Done 178 tasks      | elapsed: 41.4min\n",
      "[Parallel(n_jobs=-1)]: Done 179 tasks      | elapsed: 41.5min\n",
      "[Parallel(n_jobs=-1)]: Done 180 tasks      | elapsed: 41.5min\n",
      "[Parallel(n_jobs=-1)]: Done 181 tasks      | elapsed: 41.6min\n",
      "[Parallel(n_jobs=-1)]: Done 182 tasks      | elapsed: 41.7min\n",
      "[Parallel(n_jobs=-1)]: Done 183 tasks      | elapsed: 41.8min\n",
      "[Parallel(n_jobs=-1)]: Done 184 tasks      | elapsed: 41.8min\n",
      "[Parallel(n_jobs=-1)]: Done 185 tasks      | elapsed: 41.9min\n",
      "[Parallel(n_jobs=-1)]: Done 186 tasks      | elapsed: 41.9min\n",
      "[Parallel(n_jobs=-1)]: Done 187 tasks      | elapsed: 42.0min\n",
      "[Parallel(n_jobs=-1)]: Done 188 tasks      | elapsed: 42.1min\n",
      "[Parallel(n_jobs=-1)]: Done 189 tasks      | elapsed: 42.1min\n",
      "[Parallel(n_jobs=-1)]: Done 190 tasks      | elapsed: 42.2min\n",
      "[Parallel(n_jobs=-1)]: Done 191 tasks      | elapsed: 43.1min\n",
      "[Parallel(n_jobs=-1)]: Done 192 tasks      | elapsed: 43.1min\n",
      "[Parallel(n_jobs=-1)]: Done 193 tasks      | elapsed: 43.4min\n",
      "[Parallel(n_jobs=-1)]: Done 194 tasks      | elapsed: 43.6min\n",
      "[Parallel(n_jobs=-1)]: Done 195 tasks      | elapsed: 44.1min\n",
      "[Parallel(n_jobs=-1)]: Done 196 tasks      | elapsed: 44.1min\n",
      "[Parallel(n_jobs=-1)]: Done 197 tasks      | elapsed: 44.1min\n",
      "[Parallel(n_jobs=-1)]: Done 198 tasks      | elapsed: 44.6min\n",
      "[Parallel(n_jobs=-1)]: Done 199 tasks      | elapsed: 44.6min\n",
      "[Parallel(n_jobs=-1)]: Done 200 tasks      | elapsed: 44.7min\n",
      "[Parallel(n_jobs=-1)]: Done 201 tasks      | elapsed: 45.1min\n",
      "[Parallel(n_jobs=-1)]: Done 202 tasks      | elapsed: 45.1min\n",
      "[Parallel(n_jobs=-1)]: Done 203 tasks      | elapsed: 45.3min\n",
      "[Parallel(n_jobs=-1)]: Done 204 tasks      | elapsed: 45.6min\n",
      "[Parallel(n_jobs=-1)]: Done 205 tasks      | elapsed: 46.3min\n",
      "[Parallel(n_jobs=-1)]: Done 206 tasks      | elapsed: 46.6min\n",
      "[Parallel(n_jobs=-1)]: Done 207 tasks      | elapsed: 46.6min\n",
      "[Parallel(n_jobs=-1)]: Done 208 tasks      | elapsed: 46.9min\n",
      "[Parallel(n_jobs=-1)]: Done 209 tasks      | elapsed: 47.2min\n",
      "[Parallel(n_jobs=-1)]: Done 210 tasks      | elapsed: 47.3min\n",
      "[Parallel(n_jobs=-1)]: Done 211 tasks      | elapsed: 47.5min\n",
      "[Parallel(n_jobs=-1)]: Done 212 tasks      | elapsed: 47.6min\n",
      "[Parallel(n_jobs=-1)]: Done 213 tasks      | elapsed: 47.8min\n",
      "[Parallel(n_jobs=-1)]: Done 214 tasks      | elapsed: 47.8min\n",
      "[Parallel(n_jobs=-1)]: Done 215 tasks      | elapsed: 48.1min\n",
      "[Parallel(n_jobs=-1)]: Done 216 tasks      | elapsed: 48.2min\n",
      "[Parallel(n_jobs=-1)]: Done 217 tasks      | elapsed: 48.3min\n",
      "[Parallel(n_jobs=-1)]: Done 218 tasks      | elapsed: 48.5min\n",
      "[Parallel(n_jobs=-1)]: Done 219 tasks      | elapsed: 48.7min\n",
      "[Parallel(n_jobs=-1)]: Done 220 tasks      | elapsed: 48.7min\n",
      "[Parallel(n_jobs=-1)]: Done 221 tasks      | elapsed: 49.0min\n",
      "[Parallel(n_jobs=-1)]: Done 222 tasks      | elapsed: 49.1min\n",
      "[Parallel(n_jobs=-1)]: Done 223 tasks      | elapsed: 49.2min\n",
      "[Parallel(n_jobs=-1)]: Done 224 tasks      | elapsed: 49.6min\n",
      "[Parallel(n_jobs=-1)]: Done 225 tasks      | elapsed: 49.8min\n",
      "[Parallel(n_jobs=-1)]: Done 226 tasks      | elapsed: 50.3min\n",
      "[Parallel(n_jobs=-1)]: Done 227 tasks      | elapsed: 50.4min\n",
      "[Parallel(n_jobs=-1)]: Done 228 tasks      | elapsed: 50.5min\n",
      "[Parallel(n_jobs=-1)]: Done 229 tasks      | elapsed: 50.5min\n",
      "[Parallel(n_jobs=-1)]: Done 230 tasks      | elapsed: 50.6min\n",
      "[Parallel(n_jobs=-1)]: Done 231 tasks      | elapsed: 50.9min\n",
      "[Parallel(n_jobs=-1)]: Done 232 tasks      | elapsed: 51.2min\n",
      "[Parallel(n_jobs=-1)]: Done 233 tasks      | elapsed: 51.7min\n",
      "[Parallel(n_jobs=-1)]: Done 234 tasks      | elapsed: 51.8min\n",
      "[Parallel(n_jobs=-1)]: Done 235 tasks      | elapsed: 52.0min\n",
      "[Parallel(n_jobs=-1)]: Done 236 tasks      | elapsed: 52.1min\n",
      "[Parallel(n_jobs=-1)]: Done 237 tasks      | elapsed: 52.2min\n",
      "[Parallel(n_jobs=-1)]: Done 238 tasks      | elapsed: 52.5min\n",
      "[Parallel(n_jobs=-1)]: Done 239 tasks      | elapsed: 52.6min\n",
      "[Parallel(n_jobs=-1)]: Done 240 tasks      | elapsed: 52.6min\n",
      "[Parallel(n_jobs=-1)]: Done 241 tasks      | elapsed: 52.9min\n",
      "[Parallel(n_jobs=-1)]: Done 242 tasks      | elapsed: 53.0min\n",
      "[Parallel(n_jobs=-1)]: Done 243 tasks      | elapsed: 53.9min\n",
      "[Parallel(n_jobs=-1)]: Done 244 tasks      | elapsed: 54.2min\n",
      "[Parallel(n_jobs=-1)]: Done 245 tasks      | elapsed: 54.3min\n",
      "[Parallel(n_jobs=-1)]: Done 246 tasks      | elapsed: 54.4min\n",
      "[Parallel(n_jobs=-1)]: Done 247 tasks      | elapsed: 54.5min\n",
      "[Parallel(n_jobs=-1)]: Done 258 out of 270 | elapsed: 57.0min remaining:  2.6min\n",
      "[Parallel(n_jobs=-1)]: Done 270 out of 270 | elapsed: 59.4min finished\n"
     ]
    },
    {
     "data": {
      "text/plain": [
       "{'learning_rate': 0.001, 'n_estimators': 3000}"
      ]
     },
     "execution_count": 11,
     "metadata": {},
     "output_type": "execute_result"
    }
   ],
   "source": [
    "\n",
    "hyperparameters_adaboost = {\n",
    "        'n_estimators' : [40,50,500,1000,1200,1500,1700,2000,3000],\n",
    "        'learning_rate' : [0.01,0.001,0.1]\n",
    "}\n",
    "ada_reg = AdaBoostRegressor()\n",
    "clf2 = GridSearchCV(ada_reg, hyperparameters_adaboost, scoring=None, n_jobs=-1, iid='deprecated',\n",
    "             refit=True, cv=10, verbose=25, pre_dispatch='2*n_jobs', return_train_score=False)\n",
    "clf2.fit(regression_train_X_2,regression_train_y_2)\n",
    "clf2.best_params_"
   ]
  },
  {
   "cell_type": "code",
   "execution_count": 157,
   "metadata": {},
   "outputs": [
    {
     "name": "stdout",
     "output_type": "stream",
     "text": [
      "325.8158025741577\n"
     ]
    }
   ],
   "source": [
    "ada_reg = AdaBoostRegressor(n_estimators=3000,learning_rate=0.001)\n",
    "t0 = time.time()\n",
    "ada_reg.fit(regression_train_X_2,regression_train_y_2)\n",
    "t1 = time.time()\n",
    "print(t1-t0)"
   ]
  },
  {
   "cell_type": "code",
   "execution_count": 250,
   "metadata": {
    "scrolled": true
   },
   "outputs": [
    {
     "name": "stdout",
     "output_type": "stream",
     "text": [
      "12492115994.68156\n",
      "0.8513537563714972\n",
      "\n",
      "Mean Squared Error\n",
      "0.36800637527387625\n",
      "Explained variance\n",
      "0.8551129694458988\n",
      "Mean square log error\n",
      "0.3656609234155562\n",
      "Median absolute error\n",
      "0.31877089564898586\n"
     ]
    }
   ],
   "source": [
    "# ada_reg.score(regressionTrain_X,regressionTrain_y)\n",
    "y_pred = ada_reg.predict(regression_test_X_2)\n",
    "print(mean_squared_error(np.exp(regression_test_y_2),np.exp(y_pred)))\n",
    "print(ada_reg.score(regression_test_X_2,regression_test_y_2))\n",
    "print()\n",
    "regression_metrics(regression_test_y_2,y_pred)"
   ]
  },
  {
   "cell_type": "code",
   "execution_count": 251,
   "metadata": {},
   "outputs": [],
   "source": [
    "scaler = StandardScaler()\n",
    "train_regression_set_scaled = scaler.fit_transform(regression_train_X_2)\n",
    "train_regression_target_scaled = scaler.fit_transform(regression_train_y_2.values.reshape(-1,1))\n",
    "test_regression_set_scaled = scaler.fit_transform(regression_test_X_2)\n",
    "test_regression_target_scaled = scaler.fit_transform(regression_test_y_2.values.reshape(-1,1))\n",
    "y_pred_scaled = scaler.fit_transform(y_pred.reshape(len(y_pred),1))\n"
   ]
  },
  {
   "cell_type": "code",
   "execution_count": 252,
   "metadata": {},
   "outputs": [
    {
     "name": "stdout",
     "output_type": "stream",
     "text": [
      "Mean Squared Error\n",
      "0.1500464240570515\n",
      "Explained variance\n",
      "0.8499535759429485\n",
      "Mean square log error\n",
      "0.053272106152932666\n",
      "Median absolute error\n",
      "0.171681627115991\n",
      "-27.611333930969632\n"
     ]
    }
   ],
   "source": [
    "regression_metrics(test_regression_target_scaled,y_pred_scaled)\n",
    "print(ada_reg.score(test_regression_set_scaled,test_regression_target_scaled))\n",
    "# scaler = StandardScaler()\n",
    "# train_regression_set_scaled = scaler.fit_transform(train_regression_set_masked)\n",
    "# train_regression_target_scaled = StandardScaler().fit_transform(train_regression_target_masked.values.reshape(len(train_regression_target_masked),1))[:,0]\n",
    "# test_regression_set_scaled = scaler.fit_transform(test_regression_set_masked)\n",
    "# test_regression_target_scaled = StandardScaler().fit_transform(test_regression_target_masked.values.reshape(len(test_regression_target_masked),1))[:,0]"
   ]
  },
  {
   "cell_type": "markdown",
   "metadata": {},
   "source": [
    "### Gradient Boosting regression"
   ]
  },
  {
   "cell_type": "code",
   "execution_count": null,
   "metadata": {
    "scrolled": true
   },
   "outputs": [
    {
     "name": "stdout",
     "output_type": "stream",
     "text": [
      "Fitting 5 folds for each of 48 candidates, totalling 240 fits\n"
     ]
    },
    {
     "name": "stderr",
     "output_type": "stream",
     "text": [
      "[Parallel(n_jobs=-1)]: Using backend LokyBackend with 12 concurrent workers.\n",
      "[Parallel(n_jobs=-1)]: Done   1 tasks      | elapsed:  1.8min\n",
      "[Parallel(n_jobs=-1)]: Done   2 tasks      | elapsed:  1.8min\n",
      "[Parallel(n_jobs=-1)]: Done   3 tasks      | elapsed:  1.8min\n",
      "[Parallel(n_jobs=-1)]: Done   4 tasks      | elapsed:  1.8min\n",
      "[Parallel(n_jobs=-1)]: Done   5 tasks      | elapsed:  1.8min\n",
      "[Parallel(n_jobs=-1)]: Done   6 tasks      | elapsed:  2.8min\n",
      "[Parallel(n_jobs=-1)]: Done   7 tasks      | elapsed:  2.8min\n",
      "[Parallel(n_jobs=-1)]: Done   8 tasks      | elapsed:  2.8min\n",
      "[Parallel(n_jobs=-1)]: Done   9 tasks      | elapsed:  2.8min\n",
      "[Parallel(n_jobs=-1)]: Done  10 tasks      | elapsed:  2.8min\n",
      "[Parallel(n_jobs=-1)]: Done  11 tasks      | elapsed:  3.7min\n",
      "[Parallel(n_jobs=-1)]: Done  12 tasks      | elapsed:  3.8min\n",
      "[Parallel(n_jobs=-1)]: Done  13 tasks      | elapsed:  5.4min\n",
      "[Parallel(n_jobs=-1)]: Done  14 tasks      | elapsed:  5.5min\n",
      "[Parallel(n_jobs=-1)]: Done  15 tasks      | elapsed:  5.5min\n",
      "[Parallel(n_jobs=-1)]: Done  16 tasks      | elapsed:  6.4min\n",
      "[Parallel(n_jobs=-1)]: Done  17 tasks      | elapsed:  6.5min\n",
      "[Parallel(n_jobs=-1)]: Done  18 tasks      | elapsed:  7.4min\n",
      "[Parallel(n_jobs=-1)]: Done  19 tasks      | elapsed:  7.4min\n",
      "[Parallel(n_jobs=-1)]: Done  20 tasks      | elapsed:  7.4min\n",
      "[Parallel(n_jobs=-1)]: Done  21 tasks      | elapsed:  8.3min\n",
      "[Parallel(n_jobs=-1)]: Done  22 tasks      | elapsed:  8.3min\n",
      "[Parallel(n_jobs=-1)]: Done  23 tasks      | elapsed:  9.1min\n",
      "[Parallel(n_jobs=-1)]: Done  24 tasks      | elapsed:  9.1min\n",
      "[Parallel(n_jobs=-1)]: Done  25 tasks      | elapsed:  9.2min\n",
      "[Parallel(n_jobs=-1)]: Done  26 tasks      | elapsed:  9.3min\n",
      "[Parallel(n_jobs=-1)]: Done  27 tasks      | elapsed: 10.0min\n",
      "[Parallel(n_jobs=-1)]: Done  28 tasks      | elapsed: 10.1min\n",
      "[Parallel(n_jobs=-1)]: Done  29 tasks      | elapsed: 10.8min\n",
      "[Parallel(n_jobs=-1)]: Done  30 tasks      | elapsed: 11.0min\n",
      "[Parallel(n_jobs=-1)]: Done  31 tasks      | elapsed: 11.7min\n",
      "[Parallel(n_jobs=-1)]: Done  32 tasks      | elapsed: 11.8min\n",
      "[Parallel(n_jobs=-1)]: Done  33 tasks      | elapsed: 12.0min\n",
      "[Parallel(n_jobs=-1)]: Done  34 tasks      | elapsed: 12.7min\n",
      "[Parallel(n_jobs=-1)]: Done  35 tasks      | elapsed: 12.7min\n",
      "[Parallel(n_jobs=-1)]: Done  36 tasks      | elapsed: 14.2min\n",
      "[Parallel(n_jobs=-1)]: Done  37 tasks      | elapsed: 14.3min\n",
      "[Parallel(n_jobs=-1)]: Done  38 tasks      | elapsed: 14.7min\n",
      "[Parallel(n_jobs=-1)]: Done  39 tasks      | elapsed: 14.7min\n"
     ]
    }
   ],
   "source": [
    "hyperparameters_gradientboost = {\n",
    "        'n_estimators' : [950,1500,2000,2500,3000,5000],\n",
    "        'learning_rate' : [0.1,0.01],\n",
    "        'loss' : ['ls', 'lad', 'huber', 'quantile']\n",
    "}\n",
    "grad_reg = GradientBoostingRegressor()\n",
    "clf3 = GridSearchCV(grad_reg, hyperparameters_gradientboost, scoring=None, n_jobs=-1, iid='deprecated',\n",
    "             refit=True, cv=5, verbose=15, pre_dispatch='2*n_jobs', return_train_score=False)\n",
    "clf3.fit(regressionTrain_X,regressionTrain_y)\n",
    "clf3.best_params_"
   ]
  },
  {
   "cell_type": "code",
   "execution_count": null,
   "metadata": {},
   "outputs": [],
   "source": [
    "grad_reg = GradientBoostingRegressor(learning_rate=0.1,n_estimators=950,subsample=1)\n",
    "t0 = time.time()\n",
    "grad_reg.fit(regression_train_X_2,regression_train_y_2)\n",
    "t1 = time.time()\n",
    "y_pred = grad_reg.predict(regression_test_X_2)\n",
    "\n",
    "print(mean_squared_error(np.exp(regression_test_y_2-1),np.exp(y_pred-1)))\n",
    "\n",
    "print(grad_reg.score(regression_test_X_2,regression_test_y_2))\n",
    "\n",
    "print()\n",
    "\n",
    "regression_metrics(regression_test_y_2,y_pred)\n",
    "print()\n",
    "\n",
    "print(t1-t0)"
   ]
  },
  {
   "cell_type": "markdown",
   "metadata": {},
   "source": [
    "## Classification hyperparameter tuning"
   ]
  },
  {
   "cell_type": "markdown",
   "metadata": {},
   "source": [
    "### Decision tree hyperparameter tuning"
   ]
  },
  {
   "cell_type": "code",
   "execution_count": 13,
   "metadata": {
    "scrolled": true
   },
   "outputs": [
    {
     "name": "stdout",
     "output_type": "stream",
     "text": [
      "Fitting 5 folds for each of 88 candidates, totalling 440 fits\n"
     ]
    },
    {
     "name": "stderr",
     "output_type": "stream",
     "text": [
      "[Parallel(n_jobs=-1)]: Using backend LokyBackend with 4 concurrent workers.\n",
      "[Parallel(n_jobs=-1)]: Done  10 tasks      | elapsed:    0.9s\n",
      "[Parallel(n_jobs=-1)]: Done  64 tasks      | elapsed:    6.1s\n",
      "[Parallel(n_jobs=-1)]: Done 154 tasks      | elapsed:   20.0s\n",
      "[Parallel(n_jobs=-1)]: Done 280 tasks      | elapsed:   42.0s\n",
      "[Parallel(n_jobs=-1)]: Done 440 out of 440 | elapsed:  1.2min finished\n"
     ]
    },
    {
     "data": {
      "text/plain": [
       "{'max_depth': 10, 'min_samples_leaf': 30}"
      ]
     },
     "execution_count": 13,
     "metadata": {},
     "output_type": "execute_result"
    }
   ],
   "source": [
    "hyperparameters_decisiontrees = {\n",
    "        'max_depth' : [5,10,15,30,35,40,45,50],\n",
    "        'max_leaf_nodes' : [95,100,105],\n",
    "        'min_samples_leaf' : [1,5,15,20,25,30,35,40,45,50,100]\n",
    "}\n",
    "dec_tree = DecisionTreeClassifier()\n",
    "clf1 = GridSearchCV(dec_tree,hyperparameters_decisiontrees, scoring=None, n_jobs=-1, iid='deprecated',\n",
    "             refit=True, cv=5, verbose=5, pre_dispatch='2*n_jobs', return_train_score=False)\n",
    "clf1.fit(classificationTrain_X,classificationTrain_y)\n",
    "clf1.best_params_"
   ]
  },
  {
   "cell_type": "code",
   "execution_count": 189,
   "metadata": {},
   "outputs": [
    {
     "name": "stdout",
     "output_type": "stream",
     "text": [
      "0.8749458170784569\n",
      "0.3578016757965088\n",
      "              precision    recall  f1-score   support\n",
      "\n",
      "          -1       0.87      0.76      0.81      4863\n",
      "           1       0.88      0.94      0.91      8979\n",
      "\n",
      "    accuracy                           0.87     13842\n",
      "   macro avg       0.87      0.85      0.86     13842\n",
      "weighted avg       0.87      0.87      0.87     13842\n",
      "\n",
      "Area under ROC curve\n",
      "0.8475688251681094\n"
     ]
    }
   ],
   "source": [
    "params_decision_tree = {\n",
    "    'max_depth' : 10,\n",
    "    'min_samples_leaf' : 30,\n",
    "    'max_leaf_nodes' : 100\n",
    "}\n",
    "\n",
    "dec_tree = DecisionTreeClassifier(**params_decision_tree)\n",
    "t0 = time.time()\n",
    "dec_tree.fit(classificationTrain_X,classificationTrain_y)\n",
    "t1 = time.time()\n",
    "dec_tree.score(classificationTrain_X,classificationTrain_y)\n",
    "print(dec_tree.score(classificationTest_X,classificationTest_y))\n",
    "print(t1-t0)\n",
    "y_pred_dec = dec_tree.predict(classificationTest_X)\n",
    "aucgenerate(classificationTest_y,y_pred_dec)"
   ]
  },
  {
   "cell_type": "code",
   "execution_count": 124,
   "metadata": {
    "scrolled": false
   },
   "outputs": [
    {
     "data": {
      "image/png": "[encoded data removed]",
      "text/plain": [
       "<Figure size 432x288 with 1 Axes>"
      ]
     },
     "metadata": {
      "needs_background": "light"
     },
     "output_type": "display_data"
    },
    {
     "name": "stderr",
     "output_type": "stream",
     "text": [
      "The PostScript backend does not support transparency; partially transparent artists will be rendered opaque.\n",
      "The PostScript backend does not support transparency; partially transparent artists will be rendered opaque.\n"
     ]
    }
   ],
   "source": [
    "fig1_dt = plot_accuracy(DecisionTreeClassifier,params_decision_tree,classificationTrain_X,classificationTrain_y)\n",
    "fig1_dt.savefig('decision.eps', format='eps', dpi=1200)"
   ]
  },
  {
   "cell_type": "code",
   "execution_count": 197,
   "metadata": {
    "scrolled": true
   },
   "outputs": [
    {
     "data": {
      "image/png": "[encoded data removed]",
      "text/plain": [
       "<Figure size 432x288 with 1 Axes>"
      ]
     },
     "metadata": {
      "needs_background": "light"
     },
     "output_type": "display_data"
    },
    {
     "name": "stderr",
     "output_type": "stream",
     "text": [
      "The PostScript backend does not support transparency; partially transparent artists will be rendered opaque.\n",
      "The PostScript backend does not support transparency; partially transparent artists will be rendered opaque.\n"
     ]
    },
    {
     "ename": "TypeError",
     "evalue": "float() argument must be a string or a number, not 'Figure'",
     "output_type": "error",
     "traceback": [
      "\u001b[0;31m---------------------------------------------------------------------------\u001b[0m",
      "\u001b[0;31mTypeError\u001b[0m                                 Traceback (most recent call last)",
      "\u001b[0;32m<ipython-input-197-b9006132f2d1>\u001b[0m in \u001b[0;36m<module>\u001b[0;34m\u001b[0m\n\u001b[1;32m      1\u001b[0m \u001b[0mfig2_dt\u001b[0m \u001b[0;34m=\u001b[0m \u001b[0mroc_curve_generation\u001b[0m\u001b[0;34m(\u001b[0m\u001b[0mclassificationTest_y\u001b[0m\u001b[0;34m,\u001b[0m\u001b[0my_pred_dec\u001b[0m\u001b[0;34m)\u001b[0m\u001b[0;34m\u001b[0m\u001b[0;34m\u001b[0m\u001b[0m\n\u001b[1;32m      2\u001b[0m \u001b[0mfig2_dt\u001b[0m\u001b[0;34m.\u001b[0m\u001b[0msavefig\u001b[0m\u001b[0;34m(\u001b[0m\u001b[0;34m'decision_tree_roc.eps'\u001b[0m\u001b[0;34m,\u001b[0m \u001b[0mformat\u001b[0m\u001b[0;34m=\u001b[0m\u001b[0;34m'eps'\u001b[0m\u001b[0;34m,\u001b[0m \u001b[0mdpi\u001b[0m\u001b[0;34m=\u001b[0m\u001b[0;36m1200\u001b[0m\u001b[0;34m)\u001b[0m\u001b[0;34m\u001b[0m\u001b[0;34m\u001b[0m\u001b[0m\n\u001b[0;32m----> 3\u001b[0;31m \u001b[0mplt\u001b[0m\u001b[0;34m.\u001b[0m\u001b[0mplot\u001b[0m\u001b[0;34m(\u001b[0m\u001b[0mfig2_dt\u001b[0m\u001b[0;34m)\u001b[0m\u001b[0;34m\u001b[0m\u001b[0;34m\u001b[0m\u001b[0m\n\u001b[0m",
      "\u001b[0;32m~/anaconda3/lib/python3.7/site-packages/matplotlib/pyplot.py\u001b[0m in \u001b[0;36mplot\u001b[0;34m(scalex, scaley, data, *args, **kwargs)\u001b[0m\n\u001b[1;32m   2787\u001b[0m     return gca().plot(\n\u001b[1;32m   2788\u001b[0m         *args, scalex=scalex, scaley=scaley, **({\"data\": data} if data\n\u001b[0;32m-> 2789\u001b[0;31m         is not None else {}), **kwargs)\n\u001b[0m\u001b[1;32m   2790\u001b[0m \u001b[0;34m\u001b[0m\u001b[0m\n\u001b[1;32m   2791\u001b[0m \u001b[0;34m\u001b[0m\u001b[0m\n",
      "\u001b[0;32m~/anaconda3/lib/python3.7/site-packages/matplotlib/axes/_axes.py\u001b[0m in \u001b[0;36mplot\u001b[0;34m(self, scalex, scaley, data, *args, **kwargs)\u001b[0m\n\u001b[1;32m   1666\u001b[0m         \u001b[0mlines\u001b[0m \u001b[0;34m=\u001b[0m \u001b[0;34m[\u001b[0m\u001b[0;34m*\u001b[0m\u001b[0mself\u001b[0m\u001b[0;34m.\u001b[0m\u001b[0m_get_lines\u001b[0m\u001b[0;34m(\u001b[0m\u001b[0;34m*\u001b[0m\u001b[0margs\u001b[0m\u001b[0;34m,\u001b[0m \u001b[0mdata\u001b[0m\u001b[0;34m=\u001b[0m\u001b[0mdata\u001b[0m\u001b[0;34m,\u001b[0m \u001b[0;34m**\u001b[0m\u001b[0mkwargs\u001b[0m\u001b[0;34m)\u001b[0m\u001b[0;34m]\u001b[0m\u001b[0;34m\u001b[0m\u001b[0;34m\u001b[0m\u001b[0m\n\u001b[1;32m   1667\u001b[0m         \u001b[0;32mfor\u001b[0m \u001b[0mline\u001b[0m \u001b[0;32min\u001b[0m \u001b[0mlines\u001b[0m\u001b[0;34m:\u001b[0m\u001b[0;34m\u001b[0m\u001b[0;34m\u001b[0m\u001b[0m\n\u001b[0;32m-> 1668\u001b[0;31m             \u001b[0mself\u001b[0m\u001b[0;34m.\u001b[0m\u001b[0madd_line\u001b[0m\u001b[0;34m(\u001b[0m\u001b[0mline\u001b[0m\u001b[0;34m)\u001b[0m\u001b[0;34m\u001b[0m\u001b[0;34m\u001b[0m\u001b[0m\n\u001b[0m\u001b[1;32m   1669\u001b[0m         \u001b[0mself\u001b[0m\u001b[0;34m.\u001b[0m\u001b[0mautoscale_view\u001b[0m\u001b[0;34m(\u001b[0m\u001b[0mscalex\u001b[0m\u001b[0;34m=\u001b[0m\u001b[0mscalex\u001b[0m\u001b[0;34m,\u001b[0m \u001b[0mscaley\u001b[0m\u001b[0;34m=\u001b[0m\u001b[0mscaley\u001b[0m\u001b[0;34m)\u001b[0m\u001b[0;34m\u001b[0m\u001b[0;34m\u001b[0m\u001b[0m\n\u001b[1;32m   1670\u001b[0m         \u001b[0;32mreturn\u001b[0m \u001b[0mlines\u001b[0m\u001b[0;34m\u001b[0m\u001b[0;34m\u001b[0m\u001b[0m\n",
      "\u001b[0;32m~/anaconda3/lib/python3.7/site-packages/matplotlib/axes/_base.py\u001b[0m in \u001b[0;36madd_line\u001b[0;34m(self, line)\u001b[0m\n\u001b[1;32m   1898\u001b[0m             \u001b[0mline\u001b[0m\u001b[0;34m.\u001b[0m\u001b[0mset_clip_path\u001b[0m\u001b[0;34m(\u001b[0m\u001b[0mself\u001b[0m\u001b[0;34m.\u001b[0m\u001b[0mpatch\u001b[0m\u001b[0;34m)\u001b[0m\u001b[0;34m\u001b[0m\u001b[0;34m\u001b[0m\u001b[0m\n\u001b[1;32m   1899\u001b[0m \u001b[0;34m\u001b[0m\u001b[0m\n\u001b[0;32m-> 1900\u001b[0;31m         \u001b[0mself\u001b[0m\u001b[0;34m.\u001b[0m\u001b[0m_update_line_limits\u001b[0m\u001b[0;34m(\u001b[0m\u001b[0mline\u001b[0m\u001b[0;34m)\u001b[0m\u001b[0;34m\u001b[0m\u001b[0;34m\u001b[0m\u001b[0m\n\u001b[0m\u001b[1;32m   1901\u001b[0m         \u001b[0;32mif\u001b[0m \u001b[0;32mnot\u001b[0m \u001b[0mline\u001b[0m\u001b[0;34m.\u001b[0m\u001b[0mget_label\u001b[0m\u001b[0;34m(\u001b[0m\u001b[0;34m)\u001b[0m\u001b[0;34m:\u001b[0m\u001b[0;34m\u001b[0m\u001b[0;34m\u001b[0m\u001b[0m\n\u001b[1;32m   1902\u001b[0m             \u001b[0mline\u001b[0m\u001b[0;34m.\u001b[0m\u001b[0mset_label\u001b[0m\u001b[0;34m(\u001b[0m\u001b[0;34m'_line%d'\u001b[0m \u001b[0;34m%\u001b[0m \u001b[0mlen\u001b[0m\u001b[0;34m(\u001b[0m\u001b[0mself\u001b[0m\u001b[0;34m.\u001b[0m\u001b[0mlines\u001b[0m\u001b[0;34m)\u001b[0m\u001b[0;34m)\u001b[0m\u001b[0;34m\u001b[0m\u001b[0;34m\u001b[0m\u001b[0m\n",
      "\u001b[0;32m~/anaconda3/lib/python3.7/site-packages/matplotlib/axes/_base.py\u001b[0m in \u001b[0;36m_update_line_limits\u001b[0;34m(self, line)\u001b[0m\n\u001b[1;32m   1920\u001b[0m         \u001b[0mFigures\u001b[0m \u001b[0mout\u001b[0m \u001b[0mthe\u001b[0m \u001b[0mdata\u001b[0m \u001b[0mlimit\u001b[0m \u001b[0mof\u001b[0m \u001b[0mthe\u001b[0m \u001b[0mgiven\u001b[0m \u001b[0mline\u001b[0m\u001b[0;34m,\u001b[0m \u001b[0mupdating\u001b[0m \u001b[0mself\u001b[0m\u001b[0;34m.\u001b[0m\u001b[0mdataLim\u001b[0m\u001b[0;34m.\u001b[0m\u001b[0;34m\u001b[0m\u001b[0;34m\u001b[0m\u001b[0m\n\u001b[1;32m   1921\u001b[0m         \"\"\"\n\u001b[0;32m-> 1922\u001b[0;31m         \u001b[0mpath\u001b[0m \u001b[0;34m=\u001b[0m \u001b[0mline\u001b[0m\u001b[0;34m.\u001b[0m\u001b[0mget_path\u001b[0m\u001b[0;34m(\u001b[0m\u001b[0;34m)\u001b[0m\u001b[0;34m\u001b[0m\u001b[0;34m\u001b[0m\u001b[0m\n\u001b[0m\u001b[1;32m   1923\u001b[0m         \u001b[0;32mif\u001b[0m \u001b[0mpath\u001b[0m\u001b[0;34m.\u001b[0m\u001b[0mvertices\u001b[0m\u001b[0;34m.\u001b[0m\u001b[0msize\u001b[0m \u001b[0;34m==\u001b[0m \u001b[0;36m0\u001b[0m\u001b[0;34m:\u001b[0m\u001b[0;34m\u001b[0m\u001b[0;34m\u001b[0m\u001b[0m\n\u001b[1;32m   1924\u001b[0m             \u001b[0;32mreturn\u001b[0m\u001b[0;34m\u001b[0m\u001b[0;34m\u001b[0m\u001b[0m\n",
      "\u001b[0;32m~/anaconda3/lib/python3.7/site-packages/matplotlib/lines.py\u001b[0m in \u001b[0;36mget_path\u001b[0;34m(self)\u001b[0m\n\u001b[1;32m   1025\u001b[0m         \"\"\"\n\u001b[1;32m   1026\u001b[0m         \u001b[0;32mif\u001b[0m \u001b[0mself\u001b[0m\u001b[0;34m.\u001b[0m\u001b[0m_invalidy\u001b[0m \u001b[0;32mor\u001b[0m \u001b[0mself\u001b[0m\u001b[0;34m.\u001b[0m\u001b[0m_invalidx\u001b[0m\u001b[0;34m:\u001b[0m\u001b[0;34m\u001b[0m\u001b[0;34m\u001b[0m\u001b[0m\n\u001b[0;32m-> 1027\u001b[0;31m             \u001b[0mself\u001b[0m\u001b[0;34m.\u001b[0m\u001b[0mrecache\u001b[0m\u001b[0;34m(\u001b[0m\u001b[0;34m)\u001b[0m\u001b[0;34m\u001b[0m\u001b[0;34m\u001b[0m\u001b[0m\n\u001b[0m\u001b[1;32m   1028\u001b[0m         \u001b[0;32mreturn\u001b[0m \u001b[0mself\u001b[0m\u001b[0;34m.\u001b[0m\u001b[0m_path\u001b[0m\u001b[0;34m\u001b[0m\u001b[0;34m\u001b[0m\u001b[0m\n\u001b[1;32m   1029\u001b[0m \u001b[0;34m\u001b[0m\u001b[0m\n",
      "\u001b[0;32m~/anaconda3/lib/python3.7/site-packages/matplotlib/lines.py\u001b[0m in \u001b[0;36mrecache\u001b[0;34m(self, always)\u001b[0m\n\u001b[1;32m    673\u001b[0m         \u001b[0;32mif\u001b[0m \u001b[0malways\u001b[0m \u001b[0;32mor\u001b[0m \u001b[0mself\u001b[0m\u001b[0;34m.\u001b[0m\u001b[0m_invalidy\u001b[0m\u001b[0;34m:\u001b[0m\u001b[0;34m\u001b[0m\u001b[0;34m\u001b[0m\u001b[0m\n\u001b[1;32m    674\u001b[0m             \u001b[0myconv\u001b[0m \u001b[0;34m=\u001b[0m \u001b[0mself\u001b[0m\u001b[0;34m.\u001b[0m\u001b[0mconvert_yunits\u001b[0m\u001b[0;34m(\u001b[0m\u001b[0mself\u001b[0m\u001b[0;34m.\u001b[0m\u001b[0m_yorig\u001b[0m\u001b[0;34m)\u001b[0m\u001b[0;34m\u001b[0m\u001b[0;34m\u001b[0m\u001b[0m\n\u001b[0;32m--> 675\u001b[0;31m             \u001b[0my\u001b[0m \u001b[0;34m=\u001b[0m \u001b[0m_to_unmasked_float_array\u001b[0m\u001b[0;34m(\u001b[0m\u001b[0myconv\u001b[0m\u001b[0;34m)\u001b[0m\u001b[0;34m.\u001b[0m\u001b[0mravel\u001b[0m\u001b[0;34m(\u001b[0m\u001b[0;34m)\u001b[0m\u001b[0;34m\u001b[0m\u001b[0;34m\u001b[0m\u001b[0m\n\u001b[0m\u001b[1;32m    676\u001b[0m         \u001b[0;32melse\u001b[0m\u001b[0;34m:\u001b[0m\u001b[0;34m\u001b[0m\u001b[0;34m\u001b[0m\u001b[0m\n\u001b[1;32m    677\u001b[0m             \u001b[0my\u001b[0m \u001b[0;34m=\u001b[0m \u001b[0mself\u001b[0m\u001b[0;34m.\u001b[0m\u001b[0m_y\u001b[0m\u001b[0;34m\u001b[0m\u001b[0;34m\u001b[0m\u001b[0m\n",
      "\u001b[0;32m~/anaconda3/lib/python3.7/site-packages/matplotlib/cbook/__init__.py\u001b[0m in \u001b[0;36m_to_unmasked_float_array\u001b[0;34m(x)\u001b[0m\n\u001b[1;32m   1388\u001b[0m         \u001b[0;32mreturn\u001b[0m \u001b[0mnp\u001b[0m\u001b[0;34m.\u001b[0m\u001b[0mma\u001b[0m\u001b[0;34m.\u001b[0m\u001b[0masarray\u001b[0m\u001b[0;34m(\u001b[0m\u001b[0mx\u001b[0m\u001b[0;34m,\u001b[0m \u001b[0mfloat\u001b[0m\u001b[0;34m)\u001b[0m\u001b[0;34m.\u001b[0m\u001b[0mfilled\u001b[0m\u001b[0;34m(\u001b[0m\u001b[0mnp\u001b[0m\u001b[0;34m.\u001b[0m\u001b[0mnan\u001b[0m\u001b[0;34m)\u001b[0m\u001b[0;34m\u001b[0m\u001b[0;34m\u001b[0m\u001b[0m\n\u001b[1;32m   1389\u001b[0m     \u001b[0;32melse\u001b[0m\u001b[0;34m:\u001b[0m\u001b[0;34m\u001b[0m\u001b[0;34m\u001b[0m\u001b[0m\n\u001b[0;32m-> 1390\u001b[0;31m         \u001b[0;32mreturn\u001b[0m \u001b[0mnp\u001b[0m\u001b[0;34m.\u001b[0m\u001b[0masarray\u001b[0m\u001b[0;34m(\u001b[0m\u001b[0mx\u001b[0m\u001b[0;34m,\u001b[0m \u001b[0mfloat\u001b[0m\u001b[0;34m)\u001b[0m\u001b[0;34m\u001b[0m\u001b[0;34m\u001b[0m\u001b[0m\n\u001b[0m\u001b[1;32m   1391\u001b[0m \u001b[0;34m\u001b[0m\u001b[0m\n\u001b[1;32m   1392\u001b[0m \u001b[0;34m\u001b[0m\u001b[0m\n",
      "\u001b[0;32m~/anaconda3/lib/python3.7/site-packages/numpy/core/numeric.py\u001b[0m in \u001b[0;36masarray\u001b[0;34m(a, dtype, order)\u001b[0m\n\u001b[1;32m    536\u001b[0m \u001b[0;34m\u001b[0m\u001b[0m\n\u001b[1;32m    537\u001b[0m     \"\"\"\n\u001b[0;32m--> 538\u001b[0;31m     \u001b[0;32mreturn\u001b[0m \u001b[0marray\u001b[0m\u001b[0;34m(\u001b[0m\u001b[0ma\u001b[0m\u001b[0;34m,\u001b[0m \u001b[0mdtype\u001b[0m\u001b[0;34m,\u001b[0m \u001b[0mcopy\u001b[0m\u001b[0;34m=\u001b[0m\u001b[0;32mFalse\u001b[0m\u001b[0;34m,\u001b[0m \u001b[0morder\u001b[0m\u001b[0;34m=\u001b[0m\u001b[0morder\u001b[0m\u001b[0;34m)\u001b[0m\u001b[0;34m\u001b[0m\u001b[0;34m\u001b[0m\u001b[0m\n\u001b[0m\u001b[1;32m    539\u001b[0m \u001b[0;34m\u001b[0m\u001b[0m\n\u001b[1;32m    540\u001b[0m \u001b[0;34m\u001b[0m\u001b[0m\n",
      "\u001b[0;31mTypeError\u001b[0m: float() argument must be a string or a number, not 'Figure'"
     ]
    },
    {
     "data": {
      "image/png": "[encoded data removed]",
      "text/plain": [
       "<Figure size 432x288 with 1 Axes>"
      ]
     },
     "metadata": {
      "needs_background": "light"
     },
     "output_type": "display_data"
    }
   ],
   "source": [
    "fig2_dt = roc_curve_generation(classificationTest_y,y_pred_dec)\n",
    "fig2_dt.savefig('decision_tree_roc.eps', format='eps', dpi=1200)"
   ]
  },
  {
   "cell_type": "code",
   "execution_count": 265,
   "metadata": {},
   "outputs": [],
   "source": [
    "prob_dt = dec_tree.predict_proba(classificationTest_X)\n",
    "prob_dt = prob_dt[:,1]"
   ]
  },
  {
   "cell_type": "markdown",
   "metadata": {},
   "source": [
    "### Random forest classification"
   ]
  },
  {
   "cell_type": "code",
   "execution_count": 22,
   "metadata": {},
   "outputs": [
    {
     "name": "stdout",
     "output_type": "stream",
     "text": [
      "Fitting 10 folds for each of 6 candidates, totalling 60 fits\n"
     ]
    },
    {
     "name": "stderr",
     "output_type": "stream",
     "text": [
      "[Parallel(n_jobs=-1)]: Using backend LokyBackend with 8 concurrent workers.\n",
      "[Parallel(n_jobs=-1)]: Done   2 tasks      | elapsed:    6.9s\n",
      "[Parallel(n_jobs=-1)]: Done  58 out of  60 | elapsed:  2.8min remaining:    5.6s\n",
      "[Parallel(n_jobs=-1)]: Done  60 out of  60 | elapsed:  2.8min finished\n"
     ]
    },
    {
     "data": {
      "text/plain": [
       "{'max_depth': 200, 'n_estimators': 200}"
      ]
     },
     "execution_count": 22,
     "metadata": {},
     "output_type": "execute_result"
    }
   ],
   "source": [
    "hyperparameters_randomforest = {\n",
    "        'n_estimators' : [150,170,200],\n",
    "        'max_depth' : [200,250]\n",
    "}\n",
    "rf_class = RandomForestClassifier(n_jobs=-1)\n",
    "clf4 = GridSearchCV(rf_class, hyperparameters_randomforest, scoring=None, n_jobs=-1, iid='deprecated',\n",
    "             refit=True, cv=10, verbose=5, pre_dispatch='2*n_jobs', return_train_score=False)\n",
    "clf4.fit(classificationTrain_X,classificationTrain_y)\n",
    "clf4.best_params_"
   ]
  },
  {
   "cell_type": "code",
   "execution_count": 198,
   "metadata": {},
   "outputs": [
    {
     "name": "stdout",
     "output_type": "stream",
     "text": [
      "1.0\n",
      "0.8864325964456004\n",
      "21.962089776992798\n",
      "              precision    recall  f1-score   support\n",
      "\n",
      "          -1       0.89      0.77      0.83      4863\n",
      "           1       0.88      0.95      0.92      8979\n",
      "\n",
      "    accuracy                           0.89     13842\n",
      "   macro avg       0.89      0.86      0.87     13842\n",
      "weighted avg       0.89      0.89      0.88     13842\n",
      "\n",
      "Area under ROC curve\n",
      "0.8596749053020348\n"
     ]
    }
   ],
   "source": [
    "params = {\n",
    "    'n_estimators': 200,\n",
    "    'max_depth' : 200\n",
    "}\n",
    "\n",
    "rf_class = RandomForestClassifier(**params)\n",
    "\n",
    "t0 = time.time()\n",
    "rf_class.fit(classificationTrain_X,classificationTrain_y)\n",
    "t1 = time.time()\n",
    "print(rf_class.score(classificationTrain_X,classificationTrain_y))\n",
    "print(rf_class.score(classificationTest_X,classificationTest_y))\n",
    "y_pred_rf = rf_class.predict(classificationTest_X)\n",
    "print(t1-t0)\n",
    "\n",
    "aucgenerate(classificationTest_y,y_pred_rf)"
   ]
  },
  {
   "cell_type": "code",
   "execution_count": null,
   "metadata": {},
   "outputs": [],
   "source": [
    "fig1_rf = plot_accuracy(RandomForestClassifier,params,classificationTrain_X,classificationTrain_y)\n",
    "fig1_rf.savefig('random_forest_accuracy.eps', format='eps', dpi=1200)"
   ]
  },
  {
   "cell_type": "code",
   "execution_count": 132,
   "metadata": {},
   "outputs": [
    {
     "data": {
      "image/png": "[encoded data removed]",
      "text/plain": [
       "<Figure size 432x288 with 1 Axes>"
      ]
     },
     "metadata": {
      "needs_background": "light"
     },
     "output_type": "display_data"
    },
    {
     "name": "stderr",
     "output_type": "stream",
     "text": [
      "The PostScript backend does not support transparency; partially transparent artists will be rendered opaque.\n",
      "The PostScript backend does not support transparency; partially transparent artists will be rendered opaque.\n"
     ]
    }
   ],
   "source": [
    "fig2_rf = roc_curve_generation(classificationTest_y,y_pred_rf)\n",
    "fig2_rf.savefig('figures/random_forest_roc.eps', format='eps', dpi=1200)"
   ]
  },
  {
   "cell_type": "code",
   "execution_count": 264,
   "metadata": {},
   "outputs": [],
   "source": [
    "prob_rf = rf_class.predict_proba(classificationTest_X)[:,1]"
   ]
  },
  {
   "cell_type": "markdown",
   "metadata": {},
   "source": [
    "### Gradient boosting classifier"
   ]
  },
  {
   "cell_type": "code",
   "execution_count": 8,
   "metadata": {},
   "outputs": [
    {
     "name": "stdout",
     "output_type": "stream",
     "text": [
      "Fitting 5 folds for each of 12 candidates, totalling 60 fits\n"
     ]
    },
    {
     "name": "stderr",
     "output_type": "stream",
     "text": [
      "[Parallel(n_jobs=-1)]: Using backend LokyBackend with 8 concurrent workers.\n",
      "[Parallel(n_jobs=-1)]: Done   2 tasks      | elapsed:  2.3min\n",
      "[Parallel(n_jobs=-1)]: Done  58 out of  60 | elapsed: 23.9min remaining:   49.3s\n",
      "[Parallel(n_jobs=-1)]: Done  60 out of  60 | elapsed: 24.1min finished\n"
     ]
    },
    {
     "data": {
      "text/plain": [
       "{'learning_rate': 0.05, 'loss': 'exponential', 'n_estimators': 2500}"
      ]
     },
     "execution_count": 8,
     "metadata": {},
     "output_type": "execute_result"
    }
   ],
   "source": [
    "hyperparameters_gradientboost_c = {\n",
    "        'n_estimators' : [1500,2500],\n",
    "        'learning_rate' : [0.05,0.1,1],\n",
    "        'loss' : ['deviance', 'exponential']\n",
    "}\n",
    "grad_class = GradientBoostingClassifier()\n",
    "clf5 = GridSearchCV(grad_class, hyperparameters_gradientboost_c, scoring=None, n_jobs=-1, iid='deprecated',\n",
    "             refit=True, cv=5, verbose=20, pre_dispatch='2*n_jobs', return_train_score=False)\n",
    "clf5.fit(classificationTrain_X,classificationTrain_y)\n",
    "clf5.best_params_"
   ]
  },
  {
   "cell_type": "code",
   "execution_count": 199,
   "metadata": {},
   "outputs": [
    {
     "name": "stdout",
     "output_type": "stream",
     "text": [
      "127.7662844657898\n",
      "0.9063899725473198\n",
      "0.8906949862736598\n",
      "              precision    recall  f1-score   support\n",
      "\n",
      "          -1       0.88      0.79      0.84      4863\n",
      "           1       0.89      0.94      0.92      8979\n",
      "\n",
      "    accuracy                           0.89     13842\n",
      "   macro avg       0.89      0.87      0.88     13842\n",
      "weighted avg       0.89      0.89      0.89     13842\n",
      "\n",
      "Area under ROC curve\n",
      "0.8682862315173818\n"
     ]
    }
   ],
   "source": [
    "params_gradientboosting_classifier = {\n",
    "    'learning_rate' : 0.05,\n",
    "    'n_estimators' : 2500,\n",
    "    'loss' : 'exponential'\n",
    "}\n",
    "\n",
    "grad_class = GradientBoostingClassifier(**params_gradientboosting_classifier)\n",
    "t0 = time.time()\n",
    "grad_class.fit(classificationTrain_X,classificationTrain_y)\n",
    "t1 = time.time()\n",
    "print(t1-t0)\n",
    "print(grad_class.score(classificationTrain_X,classificationTrain_y))\n",
    "print(grad_class.score(classificationTest_X,classificationTest_y))\n",
    "y_pred_gb = grad_class.predict(classificationTest_X)\n",
    "aucgenerate(classificationTest_y,y_pred_gb)"
   ]
  },
  {
   "cell_type": "code",
   "execution_count": 112,
   "metadata": {},
   "outputs": [
    {
     "name": "stdout",
     "output_type": "stream",
     "text": [
      "135.8337094783783\n",
      "0.8906949862736598\n",
      "              precision    recall  f1-score   support\n",
      "\n",
      "          -1       0.88      0.79      0.84      4863\n",
      "           1       0.89      0.94      0.92      8979\n",
      "\n",
      "    accuracy                           0.89     13842\n",
      "   macro avg       0.89      0.87      0.88     13842\n",
      "weighted avg       0.89      0.89      0.89     13842\n",
      "\n",
      "Area under ROC curve\n",
      "0.8682862315173818\n"
     ]
    },
    {
     "data": {
      "image/png": "[encoded data removed]",
      "text/plain": [
       "<Figure size 432x288 with 1 Axes>"
      ]
     },
     "metadata": {
      "needs_background": "light"
     },
     "output_type": "display_data"
    },
    {
     "data": {
      "text/plain": [
       "<Figure size 432x288 with 0 Axes>"
      ]
     },
     "metadata": {},
     "output_type": "display_data"
    }
   ],
   "source": [
    "fig1_gb = plot_accuracy(GradientBoostingClassifier,params_gradientboosting_classifier,classificationTrain_X,classificationTrain_y)\n",
    "fig1_gb.savefig('figures/gradient_boosting_accuracy.eps', format='eps', dpi=1200)"
   ]
  },
  {
   "cell_type": "code",
   "execution_count": 135,
   "metadata": {},
   "outputs": [
    {
     "data": {
      "image/png": "[encoded data removed]",
      "text/plain": [
       "<Figure size 432x288 with 1 Axes>"
      ]
     },
     "metadata": {
      "needs_background": "light"
     },
     "output_type": "display_data"
    },
    {
     "name": "stderr",
     "output_type": "stream",
     "text": [
      "The PostScript backend does not support transparency; partially transparent artists will be rendered opaque.\n",
      "The PostScript backend does not support transparency; partially transparent artists will be rendered opaque.\n"
     ]
    }
   ],
   "source": [
    "fig2_gb = roc_curve_generation(classificationTest_y,pred_y)\n",
    "fig2_gb.savefig('figures/gradient_boosting_roc.eps', format='eps', dpi=1200)"
   ]
  },
  {
   "cell_type": "code",
   "execution_count": 263,
   "metadata": {},
   "outputs": [],
   "source": [
    "prob_gb = grad_class.predict_proba(classificationTest_X)[:,1]"
   ]
  },
  {
   "cell_type": "markdown",
   "metadata": {},
   "source": [
    "### Adaboost Classifier"
   ]
  },
  {
   "cell_type": "code",
   "execution_count": 39,
   "metadata": {
    "scrolled": true
   },
   "outputs": [
    {
     "name": "stdout",
     "output_type": "stream",
     "text": [
      "Fitting 10 folds for each of 15 candidates, totalling 150 fits\n"
     ]
    },
    {
     "name": "stderr",
     "output_type": "stream",
     "text": [
      "[Parallel(n_jobs=-1)]: Using backend LokyBackend with 8 concurrent workers.\n",
      "[Parallel(n_jobs=-1)]: Done   1 tasks      | elapsed:  1.1min\n",
      "[Parallel(n_jobs=-1)]: Done   2 tasks      | elapsed:  1.1min\n",
      "[Parallel(n_jobs=-1)]: Done   3 tasks      | elapsed:  1.2min\n",
      "[Parallel(n_jobs=-1)]: Done   4 tasks      | elapsed:  1.2min\n",
      "[Parallel(n_jobs=-1)]: Done   5 tasks      | elapsed:  1.2min\n",
      "[Parallel(n_jobs=-1)]: Done   6 tasks      | elapsed:  1.2min\n",
      "[Parallel(n_jobs=-1)]: Done   7 tasks      | elapsed:  1.2min\n",
      "[Parallel(n_jobs=-1)]: Done   8 tasks      | elapsed:  1.3min\n",
      "[Parallel(n_jobs=-1)]: Done   9 tasks      | elapsed:  2.2min\n",
      "[Parallel(n_jobs=-1)]: Done  10 tasks      | elapsed:  2.3min\n",
      "[Parallel(n_jobs=-1)]: Done  11 tasks      | elapsed:  3.4min\n",
      "[Parallel(n_jobs=-1)]: Done  12 tasks      | elapsed:  3.4min\n",
      "[Parallel(n_jobs=-1)]: Done  13 tasks      | elapsed:  3.4min\n",
      "[Parallel(n_jobs=-1)]: Done  14 tasks      | elapsed:  3.4min\n",
      "[Parallel(n_jobs=-1)]: Done  15 tasks      | elapsed:  3.4min\n",
      "[Parallel(n_jobs=-1)]: Done  16 tasks      | elapsed:  3.5min\n",
      "[Parallel(n_jobs=-1)]: Done  17 tasks      | elapsed:  4.4min\n",
      "[Parallel(n_jobs=-1)]: Done  18 tasks      | elapsed:  4.5min\n",
      "[Parallel(n_jobs=-1)]: Done  19 tasks      | elapsed:  5.6min\n",
      "[Parallel(n_jobs=-1)]: Done  20 tasks      | elapsed:  5.6min\n",
      "[Parallel(n_jobs=-1)]: Done  21 tasks      | elapsed:  6.7min\n",
      "[Parallel(n_jobs=-1)]: Done  22 tasks      | elapsed:  6.7min\n",
      "[Parallel(n_jobs=-1)]: Done  23 tasks      | elapsed:  6.7min\n",
      "[Parallel(n_jobs=-1)]: Done  24 tasks      | elapsed:  6.8min\n",
      "[Parallel(n_jobs=-1)]: Done  25 tasks      | elapsed:  7.7min\n",
      "[Parallel(n_jobs=-1)]: Done  26 tasks      | elapsed:  7.7min\n",
      "[Parallel(n_jobs=-1)]: Done  27 tasks      | elapsed:  8.8min\n",
      "[Parallel(n_jobs=-1)]: Done  28 tasks      | elapsed:  8.9min\n",
      "[Parallel(n_jobs=-1)]: Done  29 tasks      | elapsed:  9.9min\n",
      "[Parallel(n_jobs=-1)]: Done  30 tasks      | elapsed: 10.0min\n",
      "[Parallel(n_jobs=-1)]: Done  31 tasks      | elapsed: 11.1min\n",
      "[Parallel(n_jobs=-1)]: Done  32 tasks      | elapsed: 11.2min\n",
      "[Parallel(n_jobs=-1)]: Done  33 tasks      | elapsed: 12.1min\n",
      "[Parallel(n_jobs=-1)]: Done  34 tasks      | elapsed: 12.3min\n",
      "[Parallel(n_jobs=-1)]: Done  35 tasks      | elapsed: 13.4min\n",
      "[Parallel(n_jobs=-1)]: Done  36 tasks      | elapsed: 13.4min\n",
      "[Parallel(n_jobs=-1)]: Done  37 tasks      | elapsed: 14.4min\n",
      "[Parallel(n_jobs=-1)]: Done  38 tasks      | elapsed: 14.6min\n",
      "[Parallel(n_jobs=-1)]: Done  39 tasks      | elapsed: 15.7min\n",
      "[Parallel(n_jobs=-1)]: Done  40 tasks      | elapsed: 15.8min\n",
      "[Parallel(n_jobs=-1)]: Done  41 tasks      | elapsed: 17.7min\n",
      "[Parallel(n_jobs=-1)]: Done  42 tasks      | elapsed: 17.8min\n",
      "[Parallel(n_jobs=-1)]: Done  43 tasks      | elapsed: 18.9min\n",
      "[Parallel(n_jobs=-1)]: Done  44 tasks      | elapsed: 19.0min\n",
      "[Parallel(n_jobs=-1)]: Done  45 tasks      | elapsed: 19.8min\n",
      "[Parallel(n_jobs=-1)]: Done  46 tasks      | elapsed: 20.0min\n",
      "[Parallel(n_jobs=-1)]: Done  47 tasks      | elapsed: 20.1min\n",
      "[Parallel(n_jobs=-1)]: Done  48 tasks      | elapsed: 20.1min\n",
      "[Parallel(n_jobs=-1)]: Done  49 tasks      | elapsed: 21.0min\n",
      "[Parallel(n_jobs=-1)]: Done  50 tasks      | elapsed: 21.1min\n",
      "[Parallel(n_jobs=-1)]: Done  51 tasks      | elapsed: 21.2min\n",
      "[Parallel(n_jobs=-1)]: Done  52 tasks      | elapsed: 21.2min\n",
      "[Parallel(n_jobs=-1)]: Done  53 tasks      | elapsed: 21.2min\n",
      "[Parallel(n_jobs=-1)]: Done  54 tasks      | elapsed: 21.3min\n",
      "[Parallel(n_jobs=-1)]: Done  55 tasks      | elapsed: 22.0min\n",
      "[Parallel(n_jobs=-1)]: Done  56 tasks      | elapsed: 22.2min\n",
      "[Parallel(n_jobs=-1)]: Done  57 tasks      | elapsed: 22.3min\n",
      "[Parallel(n_jobs=-1)]: Done  58 tasks      | elapsed: 22.3min\n",
      "[Parallel(n_jobs=-1)]: Done  59 tasks      | elapsed: 23.1min\n",
      "[Parallel(n_jobs=-1)]: Done  60 tasks      | elapsed: 23.3min\n",
      "[Parallel(n_jobs=-1)]: Done  61 tasks      | elapsed: 23.4min\n",
      "[Parallel(n_jobs=-1)]: Done  62 tasks      | elapsed: 23.5min\n",
      "[Parallel(n_jobs=-1)]: Done  63 tasks      | elapsed: 24.2min\n",
      "[Parallel(n_jobs=-1)]: Done  64 tasks      | elapsed: 24.4min\n",
      "[Parallel(n_jobs=-1)]: Done  65 tasks      | elapsed: 24.5min\n",
      "[Parallel(n_jobs=-1)]: Done  66 tasks      | elapsed: 24.5min\n",
      "[Parallel(n_jobs=-1)]: Done  67 tasks      | elapsed: 25.3min\n",
      "[Parallel(n_jobs=-1)]: Done  68 tasks      | elapsed: 25.5min\n",
      "[Parallel(n_jobs=-1)]: Done  69 tasks      | elapsed: 25.7min\n",
      "[Parallel(n_jobs=-1)]: Done  70 tasks      | elapsed: 25.7min\n",
      "[Parallel(n_jobs=-1)]: Done  71 tasks      | elapsed: 27.5min\n",
      "[Parallel(n_jobs=-1)]: Done  72 tasks      | elapsed: 27.7min\n",
      "[Parallel(n_jobs=-1)]: Done  73 tasks      | elapsed: 27.7min\n",
      "[Parallel(n_jobs=-1)]: Done  74 tasks      | elapsed: 27.8min\n",
      "[Parallel(n_jobs=-1)]: Done  75 tasks      | elapsed: 28.6min\n",
      "[Parallel(n_jobs=-1)]: Done  76 tasks      | elapsed: 28.8min\n",
      "[Parallel(n_jobs=-1)]: Done  77 tasks      | elapsed: 29.0min\n",
      "[Parallel(n_jobs=-1)]: Done  78 tasks      | elapsed: 29.0min\n",
      "[Parallel(n_jobs=-1)]: Done  79 tasks      | elapsed: 30.8min\n",
      "[Parallel(n_jobs=-1)]: Done  80 tasks      | elapsed: 31.0min\n",
      "[Parallel(n_jobs=-1)]: Done  81 tasks      | elapsed: 32.2min\n",
      "[Parallel(n_jobs=-1)]: Done  82 tasks      | elapsed: 32.2min\n",
      "[Parallel(n_jobs=-1)]: Done  83 tasks      | elapsed: 33.0min\n",
      "[Parallel(n_jobs=-1)]: Done  84 tasks      | elapsed: 33.1min\n",
      "[Parallel(n_jobs=-1)]: Done  85 tasks      | elapsed: 33.4min\n",
      "[Parallel(n_jobs=-1)]: Done  86 tasks      | elapsed: 33.4min\n",
      "[Parallel(n_jobs=-1)]: Done  87 tasks      | elapsed: 35.2min\n",
      "[Parallel(n_jobs=-1)]: Done  88 tasks      | elapsed: 35.6min\n",
      "[Parallel(n_jobs=-1)]: Done  89 tasks      | elapsed: 36.7min\n",
      "[Parallel(n_jobs=-1)]: Done  90 tasks      | elapsed: 36.7min\n",
      "[Parallel(n_jobs=-1)]: Done  91 tasks      | elapsed: 38.5min\n",
      "[Parallel(n_jobs=-1)]: Done  92 tasks      | elapsed: 38.5min\n",
      "[Parallel(n_jobs=-1)]: Done  93 tasks      | elapsed: 38.8min\n",
      "[Parallel(n_jobs=-1)]: Done  94 tasks      | elapsed: 38.8min\n",
      "[Parallel(n_jobs=-1)]: Done  95 tasks      | elapsed: 39.9min\n",
      "[Parallel(n_jobs=-1)]: Done  96 tasks      | elapsed: 39.9min\n",
      "[Parallel(n_jobs=-1)]: Done  97 tasks      | elapsed: 40.6min\n",
      "[Parallel(n_jobs=-1)]: Done  98 tasks      | elapsed: 41.0min\n",
      "[Parallel(n_jobs=-1)]: Done  99 tasks      | elapsed: 41.0min\n",
      "[Parallel(n_jobs=-1)]: Done 100 tasks      | elapsed: 41.1min\n",
      "[Parallel(n_jobs=-1)]: Done 101 tasks      | elapsed: 41.7min\n",
      "[Parallel(n_jobs=-1)]: Done 102 tasks      | elapsed: 42.0min\n",
      "[Parallel(n_jobs=-1)]: Done 103 tasks      | elapsed: 42.1min\n",
      "[Parallel(n_jobs=-1)]: Done 104 tasks      | elapsed: 42.1min\n",
      "[Parallel(n_jobs=-1)]: Done 105 tasks      | elapsed: 42.2min\n",
      "[Parallel(n_jobs=-1)]: Done 106 tasks      | elapsed: 42.2min\n",
      "[Parallel(n_jobs=-1)]: Done 107 tasks      | elapsed: 42.8min\n",
      "[Parallel(n_jobs=-1)]: Done 108 tasks      | elapsed: 43.1min\n",
      "[Parallel(n_jobs=-1)]: Done 109 tasks      | elapsed: 44.0min\n",
      "[Parallel(n_jobs=-1)]: Done 110 tasks      | elapsed: 44.0min\n",
      "[Parallel(n_jobs=-1)]: Done 111 tasks      | elapsed: 44.3min\n",
      "[Parallel(n_jobs=-1)]: Done 112 tasks      | elapsed: 44.3min\n",
      "[Parallel(n_jobs=-1)]: Done 113 tasks      | elapsed: 44.3min\n",
      "[Parallel(n_jobs=-1)]: Done 114 tasks      | elapsed: 44.4min\n",
      "[Parallel(n_jobs=-1)]: Done 115 tasks      | elapsed: 44.9min\n",
      "[Parallel(n_jobs=-1)]: Done 116 tasks      | elapsed: 45.3min\n",
      "[Parallel(n_jobs=-1)]: Done 117 tasks      | elapsed: 46.1min\n",
      "[Parallel(n_jobs=-1)]: Done 118 tasks      | elapsed: 46.2min\n",
      "[Parallel(n_jobs=-1)]: Done 119 tasks      | elapsed: 46.4min\n",
      "[Parallel(n_jobs=-1)]: Done 120 tasks      | elapsed: 46.5min\n",
      "[Parallel(n_jobs=-1)]: Done 121 tasks      | elapsed: 47.6min\n",
      "[Parallel(n_jobs=-1)]: Done 122 tasks      | elapsed: 47.7min\n",
      "[Parallel(n_jobs=-1)]: Done 123 tasks      | elapsed: 48.1min\n",
      "[Parallel(n_jobs=-1)]: Done 124 tasks      | elapsed: 48.5min\n",
      "[Parallel(n_jobs=-1)]: Done 125 tasks      | elapsed: 49.4min\n",
      "[Parallel(n_jobs=-1)]: Done 126 tasks      | elapsed: 49.4min\n",
      "[Parallel(n_jobs=-1)]: Done 127 tasks      | elapsed: 49.7min\n",
      "[Parallel(n_jobs=-1)]: Done 128 tasks      | elapsed: 49.7min\n",
      "[Parallel(n_jobs=-1)]: Done 129 tasks      | elapsed: 50.8min\n",
      "[Parallel(n_jobs=-1)]: Done 130 tasks      | elapsed: 51.0min\n",
      "[Parallel(n_jobs=-1)]: Done 131 tasks      | elapsed: 52.4min\n"
     ]
    },
    {
     "name": "stderr",
     "output_type": "stream",
     "text": [
      "[Parallel(n_jobs=-1)]: Done 132 tasks      | elapsed: 52.8min\n",
      "[Parallel(n_jobs=-1)]: Done 133 tasks      | elapsed: 53.7min\n",
      "[Parallel(n_jobs=-1)]: Done 134 tasks      | elapsed: 53.8min\n",
      "[Parallel(n_jobs=-1)]: Done 135 tasks      | elapsed: 53.9min\n",
      "[Parallel(n_jobs=-1)]: Done 143 out of 150 | elapsed: 59.3min remaining:  2.9min\n",
      "[Parallel(n_jobs=-1)]: Done 150 out of 150 | elapsed: 63.1min finished\n"
     ]
    },
    {
     "data": {
      "text/plain": [
       "{'learning_rate': 0.5, 'n_estimators': 4000}"
      ]
     },
     "execution_count": 39,
     "metadata": {},
     "output_type": "execute_result"
    }
   ],
   "source": [
    "# ADABOOST hyperparameter tuning for classification\n",
    "hyperparameters_adaboost = {\n",
    "        'n_estimators' : [1000,2000,3000,4000,5000],\n",
    "        'learning_rate' : [0.1,0.5,1]\n",
    "}\n",
    "ada_class = AdaBoostClassifier()\n",
    "clf6 = GridSearchCV(ada_class, hyperparameters_adaboost, scoring=None, n_jobs=-1, iid='deprecated',\n",
    "             refit=True, cv=10, verbose=20, pre_dispatch='2*n_jobs', return_train_score=False)\n",
    "clf6.fit(classificationTrain_X,classificationTrain_y)\n",
    "clf6.best_params_"
   ]
  },
  {
   "cell_type": "code",
   "execution_count": 200,
   "metadata": {
    "scrolled": true
   },
   "outputs": [
    {
     "name": "stdout",
     "output_type": "stream",
     "text": [
      "241.94541263580322\n",
      "0.889755815633579\n",
      "0.887949718248808\n",
      "              precision    recall  f1-score   support\n",
      "\n",
      "          -1       0.88      0.79      0.83      4863\n",
      "           1       0.89      0.94      0.92      8979\n",
      "\n",
      "    accuracy                           0.89     13842\n",
      "   macro avg       0.89      0.87      0.87     13842\n",
      "weighted avg       0.89      0.89      0.89     13842\n",
      "\n",
      "Area under ROC curve\n",
      "0.8656046025275647\n"
     ]
    }
   ],
   "source": [
    "params_adaboosting_classifier = {\n",
    "    'learning_rate':0.5,\n",
    "    'n_estimators':4000\n",
    "#     'loss':'exponential'\n",
    "}\n",
    "\n",
    "ada_class = AdaBoostClassifier(**params_adaboosting_classifier)\n",
    "t0 = time.time()\n",
    "ada_class.fit(classificationTrain_X,classificationTrain_y)\n",
    "t1 = time.time()\n",
    "print(t1-t0)\n",
    "print(ada_class.score(classificationTrain_X,classificationTrain_y))\n",
    "print(ada_class.score(classificationTest_X,classificationTest_y))\n",
    "y_pred_ab = ada_class.predict(classificationTest_X)\n",
    "aucgenerate(classificationTest_y,y_pred_ab)"
   ]
  },
  {
   "cell_type": "code",
   "execution_count": null,
   "metadata": {},
   "outputs": [],
   "source": [
    "fig1 = plot_accuracy(AdaBoostClassifier,params_adaboosting_classifier,classificationTrain_X,classificationTrain_y)\n",
    "fig1.savefig('figures/adaboost_accuracy.eps', format='eps', dpi=1200)"
   ]
  },
  {
   "cell_type": "code",
   "execution_count": 138,
   "metadata": {},
   "outputs": [
    {
     "data": {
      "image/png": "[encoded data removed]",
      "text/plain": [
       "<Figure size 432x288 with 1 Axes>"
      ]
     },
     "metadata": {
      "needs_background": "light"
     },
     "output_type": "display_data"
    },
    {
     "name": "stderr",
     "output_type": "stream",
     "text": [
      "The PostScript backend does not support transparency; partially transparent artists will be rendered opaque.\n",
      "The PostScript backend does not support transparency; partially transparent artists will be rendered opaque.\n"
     ]
    }
   ],
   "source": [
    "fig2_ab = roc_curve_generation(classificationTest_y,y_pred_ab)\n",
    "fig2_ab.savefig('figures/adaboost_roc.eps', format='eps', dpi=1200)"
   ]
  },
  {
   "cell_type": "code",
   "execution_count": 262,
   "metadata": {},
   "outputs": [],
   "source": [
    "prob_ada = ada_class.predict_proba(classificationTest_X)[:,1]"
   ]
  },
  {
   "cell_type": "code",
   "execution_count": 311,
   "metadata": {
    "scrolled": false
   },
   "outputs": [
    {
     "data": {
      "image/png": "[encoded data removed]",
      "text/plain": [
       "<Figure size 432x288 with 1 Axes>"
      ]
     },
     "metadata": {
      "needs_background": "light"
     },
     "output_type": "display_data"
    },
    {
     "name": "stderr",
     "output_type": "stream",
     "text": [
      "The PostScript backend does not support transparency; partially transparent artists will be rendered opaque.\n",
      "The PostScript backend does not support transparency; partially transparent artists will be rendered opaque.\n"
     ]
    }
   ],
   "source": [
    "# prob = model.predict_proba(classificationTest_X)\n",
    "y_pred_combined = np.array([prob_dt,prob_rf,prob_gb,prob_ada,prob_knn,prob_lr,prob_nn,prob_dummy])\n",
    "y_test_combined = np.array([classificationTest_y,classificationTest_y,classificationTest_y,classificationTest_y,\n",
    "                            classificationTest_y,classificationTest_y,classificationTest_y,classificationTest_y])\n",
    "f = roc_curve_generation(y_test_combined,y_pred_combined)\n",
    "f.savefig('figures/ROC_2.eps', format='eps', dpi=1200)"
   ]
  },
  {
   "cell_type": "code",
   "execution_count": 266,
   "metadata": {},
   "outputs": [],
   "source": [
    "knn_clf = KNeighborsClassifier(n_neighbors=20, weights='uniform', algorithm='auto', leaf_size=30, \n",
    "                            p=1, metric='minkowski', metric_params=None, n_jobs=None)\n",
    "knn_clf.fit(classificationTrain_X,classificationTrain_y)\n",
    "y_pred_knn = knn_clf.predict(classificationTest_X)\n",
    "prob_knn = knn_clf.predict_proba(classificationTest_X)[:,1]"
   ]
  },
  {
   "cell_type": "code",
   "execution_count": 267,
   "metadata": {},
   "outputs": [],
   "source": [
    "lr_clf = LogisticRegression(C=0.1, class_weight=None, dual=False, fit_intercept=True,\n",
    "                   intercept_scaling=1, l1_ratio=None, max_iter=10000,\n",
    "                   multi_class='warn', n_jobs=None, penalty='l1',\n",
    "                   random_state=42, solver='liblinear', tol=0.0001, verbose=0,\n",
    "                   warm_start=False)\n",
    "lr_clf.fit(classificationTrain_X,classificationTrain_y)\n",
    "y_pred_lr = lr_clf.predict(classificationTest_X)\n",
    "prob_lr = lr_clf.predict_proba(classificationTest_X)[:,1]"
   ]
  },
  {
   "cell_type": "code",
   "execution_count": 271,
   "metadata": {},
   "outputs": [],
   "source": [
    "dummy_clf = DummyClassifier(strategy=\"most_frequent\")\n",
    "dummy_clf.fit(classificationTrain_X,classificationTrain_y)\n",
    "prob_dummy = dummy_clf.predict_proba(classificationTest_X)[:,1]"
   ]
  },
  {
   "cell_type": "code",
   "execution_count": 302,
   "metadata": {},
   "outputs": [],
   "source": [
    "prob_nn = np.load('file.npy')"
   ]
  },
  {
   "cell_type": "code",
   "execution_count": 310,
   "metadata": {},
   "outputs": [],
   "source": [
    "from matplotlib.font_manager import FontProperties\n",
    "\n",
    "def roc_curve_generation(y_test,y_pred):\n",
    "    fnr = dict()\n",
    "    tnr = dict()\n",
    "    roc_auc = dict()\n",
    "    for i in range(len(y_test)):\n",
    "        fnr[i], tnr[i],_ = roc_curve(y_test[i,:], y_pred[i,:],drop_intermediate=False,pos_label=1)\n",
    "        roc_auc[i] = auc(fnr[i], tnr[i])\n",
    "    fig = plt.figure()\n",
    "    lw = 2\n",
    "\n",
    "    l = ['Decision Tree','Random Forest','Gradient Boosting','Adaboost','KNN','Logistic Regression','Neural Net','Dummy Classifier']\n",
    "    for i in range(len(l)):\n",
    "        plt.plot(fnr[i], tnr[i],lw=lw, label=l[i])\n",
    "    plt.plot([0, 1], [0, 1], color='navy', lw=lw, linestyle='--')\n",
    "    plt.xlim([0.0, 1.0])\n",
    "    plt.ylim([0.0, 1.05])\n",
    "    plt.xlabel('False Negative Rate')\n",
    "    plt.ylabel('True Negative Rate')\n",
    "    plt.title('Receiver Operating Characteristic Curves')\n",
    "    fontP = FontProperties()\n",
    "    fontP.set_size('small')\n",
    "    plt.legend(loc=\"lower right\",prop=fontP)\n",
    "    plt.show()\n",
    "    return fig"
   ]
  },
  {
   "cell_type": "code",
   "execution_count": null,
   "metadata": {},
   "outputs": [],
   "source": []
  }
 ],
 "metadata": {
  "kernelspec": {
   "display_name": "Python 3",
   "language": "python",
   "name": "python3"
  },
  "language_info": {
   "codemirror_mode": {
    "name": "ipython",
    "version": 3
   },
   "file_extension": ".py",
   "mimetype": "text/x-python",
   "name": "python",
   "nbconvert_exporter": "python",
   "pygments_lexer": "ipython3",
   "version": "3.7.3"
  }
 },
 "nbformat": 4,
 "nbformat_minor": 2
}
